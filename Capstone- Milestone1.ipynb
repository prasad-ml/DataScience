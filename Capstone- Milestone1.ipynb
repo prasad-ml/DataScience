{
  "nbformat": 4,
  "nbformat_minor": 0,
  "metadata": {
    "kernelspec": {
      "name": "python3",
      "display_name": "Python 3"
    },
    "language_info": {
      "codemirror_mode": {
        "name": "ipython",
        "version": 3
      },
      "file_extension": ".py",
      "mimetype": "text/x-python",
      "name": "python",
      "nbconvert_exporter": "python",
      "pygments_lexer": "ipython3",
      "version": "3.7.3"
    },
    "colab": {
      "name": "Capstone- Milestone1.ipynb",
      "version": "0.3.2",
      "provenance": [],
      "include_colab_link": true
    },
    "accelerator": "GPU"
  },
  "cells": [
    {
      "cell_type": "markdown",
      "metadata": {
        "id": "view-in-github",
        "colab_type": "text"
      },
      "source": [
        "<a href=\"https://colab.research.google.com/github/prasad-ml/DataScience/blob/master/Capstone-%20Milestone1.ipynb\" target=\"_parent\"><img src=\"https://colab.research.google.com/assets/colab-badge.svg\" alt=\"Open In Colab\"/></a>"
      ]
    },
    {
      "cell_type": "markdown",
      "metadata": {
        "id": "57xsAMabSa3R",
        "colab_type": "text"
      },
      "source": [
        "**Problem statement**:\n",
        "\n",
        "A house value is simply more than location and square footage. Like the features that make up a person, an educated party would want to know all aspects that give a house its value. For example, you want to sell a house and you don’t know the price which you can take — it can’t be too low or too high. To find house price you usually try to find similar properties in your neighbourhood and based on gathered data you will try to assess your house price.\n",
        "\n",
        "**Objective**: Take advantage of all of the feature variables available below, use it to analyse and predict house prices.\n",
        "\n",
        "- cid: a notation for a house\n",
        "- dayhours: Date house was sold\n",
        "- price: Price is prediction target\n",
        "- room_bed: Number of Bedrooms/House\n",
        "- room_bath: Number of bathrooms/bedrooms\n",
        "- living_measure: square footage of the home\n",
        "- lot_measure: quare footage of the lot\n",
        "- ceil: Total floors (levels) in house\n",
        "- coast: House which has a view to a waterfront\n",
        "- sight: Has been viewed\n",
        "- condition: How good the condition is (Overall)\n",
        "- quality: grade given to the housing unit, based on grading system\n",
        "- ceil_measure: square footage of house apart from basement\n",
        "- basement_measure: square footage of the basement\n",
        "- yr_built: Built Year\n",
        "- yr_renovated: Year when house was renovated\n",
        "- zipcode: zip\n",
        "- lat: Latitude coordinate\n",
        "- long: Longitude coordinate\n",
        "- living_measure15: Living room area in 2015(implies-- some renovations) This might or might not have affected the lotsize area\n",
        "- lot_measure15: lotSize area in 2015(implies-- some renovations)\n",
        "- furnished: Based on the quality of room\n",
        "- total_area: Measure of both living and lot"
      ]
    },
    {
      "cell_type": "markdown",
      "metadata": {
        "id": "C1rurJCBSa3V",
        "colab_type": "text"
      },
      "source": [
        "### Imports"
      ]
    },
    {
      "cell_type": "code",
      "metadata": {
        "id": "hF8lm7IYSa3Y",
        "colab_type": "code",
        "colab": {}
      },
      "source": [
        "# # import comet_ml to track model performances\n",
        "# from comet_ml import Experiment\n",
        "\n",
        "    \n",
        "# # Add the following code anywhere in your machine learning file\n",
        "# experiment = Experiment(api_key=\"HBFZ14J63ox8YgtKSiEQ6Gqbo\",\n",
        "#                         project_name=\"MLCapstone_1\", workspace=\"prasad-ml\")"
      ],
      "execution_count": 0,
      "outputs": []
    },
    {
      "cell_type": "code",
      "metadata": {
        "id": "G23KSbrASa3h",
        "colab_type": "code",
        "colab": {}
      },
      "source": [
        "# Numerical calculation\n",
        "import numpy as np\n",
        "from scipy.stats import zscore\n",
        "from scipy import stats\n",
        "import warnings\n",
        "\n",
        "# Data handling\n",
        "import pandas as pd\n",
        "\n",
        "# Data Visualization\n",
        "import matplotlib.pyplot as plt\n",
        "import seaborn as sns\n",
        "\n",
        "# Sample and parameter tuning\n",
        "from sklearn.model_selection import train_test_split\n",
        "\n",
        "# Feature Engineering\n",
        "from sklearn.decomposition import PCA\n",
        "\n",
        "# Import Linear Regression machine learning library\n",
        "from sklearn.linear_model import LinearRegression,Ridge, Lasso"
      ],
      "execution_count": 0,
      "outputs": []
    },
    {
      "cell_type": "markdown",
      "metadata": {
        "id": "XdkRZxERSa3m",
        "colab_type": "text"
      },
      "source": [
        "### Load Dataset"
      ]
    },
    {
      "cell_type": "code",
      "metadata": {
        "id": "wMCPcko5Sa3q",
        "colab_type": "code",
        "colab": {}
      },
      "source": [
        "warnings.filterwarnings('ignore')\n",
        "# Load the dataset into a Pandas dataframe called housedata\n",
        "housedata = pd.read_csv('https://github.com/prasad-ml/DataScience/raw/master/innercity.csv')\n",
        "\n",
        "# Save an original copy of the dataframe\n",
        "housedata_original = housedata.copy()"
      ],
      "execution_count": 0,
      "outputs": []
    },
    {
      "cell_type": "markdown",
      "metadata": {
        "id": "7XR-QF6fSa3v",
        "colab_type": "text"
      },
      "source": [
        "### Exploratory Data Analysis\n",
        "\n",
        "1. Univariate analysis\n",
        "  - Univariate analysis – data types and description of the independent attributes which should include name, meaning, range of values observed, central values (mean and median), standard deviation and quartiles, analysis of the body of distributions / tails,  missing values, outliers\n",
        "2. Multivariate analysis \n",
        "  - Bi-variate analysis between the predictor variables and between the predictor variables and target column. Comment on your findings in terms of their relationship and degree of relation if any. Presence of leverage points. Visualize the analysis using boxplots and pair plots, histograms or density curves. Select the most appropriate attributes\n",
        "3. Strategies to address the different data challenges such as data pollution, outliers and missing values\n"
      ]
    },
    {
      "cell_type": "code",
      "metadata": {
        "id": "MR7cyj-tSa3x",
        "colab_type": "code",
        "colab": {
          "base_uri": "https://localhost:8080/",
          "height": 224
        },
        "outputId": "2d6bed08-8ed6-48e4-c5d2-306b2585a7cc"
      },
      "source": [
        "housedata.head()"
      ],
      "execution_count": 33,
      "outputs": [
        {
          "output_type": "execute_result",
          "data": {
            "text/html": [
              "<div>\n",
              "<style scoped>\n",
              "    .dataframe tbody tr th:only-of-type {\n",
              "        vertical-align: middle;\n",
              "    }\n",
              "\n",
              "    .dataframe tbody tr th {\n",
              "        vertical-align: top;\n",
              "    }\n",
              "\n",
              "    .dataframe thead th {\n",
              "        text-align: right;\n",
              "    }\n",
              "</style>\n",
              "<table border=\"1\" class=\"dataframe\">\n",
              "  <thead>\n",
              "    <tr style=\"text-align: right;\">\n",
              "      <th></th>\n",
              "      <th>cid</th>\n",
              "      <th>dayhours</th>\n",
              "      <th>price</th>\n",
              "      <th>room_bed</th>\n",
              "      <th>room_bath</th>\n",
              "      <th>living_measure</th>\n",
              "      <th>lot_measure</th>\n",
              "      <th>ceil</th>\n",
              "      <th>coast</th>\n",
              "      <th>sight</th>\n",
              "      <th>condition</th>\n",
              "      <th>quality</th>\n",
              "      <th>ceil_measure</th>\n",
              "      <th>basement</th>\n",
              "      <th>yr_built</th>\n",
              "      <th>yr_renovated</th>\n",
              "      <th>zipcode</th>\n",
              "      <th>lat</th>\n",
              "      <th>long</th>\n",
              "      <th>living_measure15</th>\n",
              "      <th>lot_measure15</th>\n",
              "      <th>furnished</th>\n",
              "      <th>total_area</th>\n",
              "    </tr>\n",
              "  </thead>\n",
              "  <tbody>\n",
              "    <tr>\n",
              "      <th>0</th>\n",
              "      <td>3034200666</td>\n",
              "      <td>20141107T000000</td>\n",
              "      <td>808100</td>\n",
              "      <td>4</td>\n",
              "      <td>3.25</td>\n",
              "      <td>3020</td>\n",
              "      <td>13457</td>\n",
              "      <td>1.0</td>\n",
              "      <td>0</td>\n",
              "      <td>0</td>\n",
              "      <td>5</td>\n",
              "      <td>9</td>\n",
              "      <td>3020</td>\n",
              "      <td>0</td>\n",
              "      <td>1956</td>\n",
              "      <td>0</td>\n",
              "      <td>98133</td>\n",
              "      <td>47.7174</td>\n",
              "      <td>-122.336</td>\n",
              "      <td>2120</td>\n",
              "      <td>7553</td>\n",
              "      <td>1</td>\n",
              "      <td>16477</td>\n",
              "    </tr>\n",
              "    <tr>\n",
              "      <th>1</th>\n",
              "      <td>8731981640</td>\n",
              "      <td>20141204T000000</td>\n",
              "      <td>277500</td>\n",
              "      <td>4</td>\n",
              "      <td>2.50</td>\n",
              "      <td>2550</td>\n",
              "      <td>7500</td>\n",
              "      <td>1.0</td>\n",
              "      <td>0</td>\n",
              "      <td>0</td>\n",
              "      <td>3</td>\n",
              "      <td>8</td>\n",
              "      <td>1750</td>\n",
              "      <td>800</td>\n",
              "      <td>1976</td>\n",
              "      <td>0</td>\n",
              "      <td>98023</td>\n",
              "      <td>47.3165</td>\n",
              "      <td>-122.386</td>\n",
              "      <td>2260</td>\n",
              "      <td>8800</td>\n",
              "      <td>0</td>\n",
              "      <td>10050</td>\n",
              "    </tr>\n",
              "    <tr>\n",
              "      <th>2</th>\n",
              "      <td>5104530220</td>\n",
              "      <td>20150420T000000</td>\n",
              "      <td>404000</td>\n",
              "      <td>3</td>\n",
              "      <td>2.50</td>\n",
              "      <td>2370</td>\n",
              "      <td>4324</td>\n",
              "      <td>2.0</td>\n",
              "      <td>0</td>\n",
              "      <td>0</td>\n",
              "      <td>3</td>\n",
              "      <td>8</td>\n",
              "      <td>2370</td>\n",
              "      <td>0</td>\n",
              "      <td>2006</td>\n",
              "      <td>0</td>\n",
              "      <td>98038</td>\n",
              "      <td>47.3515</td>\n",
              "      <td>-121.999</td>\n",
              "      <td>2370</td>\n",
              "      <td>4348</td>\n",
              "      <td>0</td>\n",
              "      <td>6694</td>\n",
              "    </tr>\n",
              "    <tr>\n",
              "      <th>3</th>\n",
              "      <td>6145600285</td>\n",
              "      <td>20140529T000000</td>\n",
              "      <td>300000</td>\n",
              "      <td>2</td>\n",
              "      <td>1.00</td>\n",
              "      <td>820</td>\n",
              "      <td>3844</td>\n",
              "      <td>1.0</td>\n",
              "      <td>0</td>\n",
              "      <td>0</td>\n",
              "      <td>4</td>\n",
              "      <td>6</td>\n",
              "      <td>820</td>\n",
              "      <td>0</td>\n",
              "      <td>1916</td>\n",
              "      <td>0</td>\n",
              "      <td>98133</td>\n",
              "      <td>47.7049</td>\n",
              "      <td>-122.349</td>\n",
              "      <td>1520</td>\n",
              "      <td>3844</td>\n",
              "      <td>0</td>\n",
              "      <td>4664</td>\n",
              "    </tr>\n",
              "    <tr>\n",
              "      <th>4</th>\n",
              "      <td>8924100111</td>\n",
              "      <td>20150424T000000</td>\n",
              "      <td>699000</td>\n",
              "      <td>2</td>\n",
              "      <td>1.50</td>\n",
              "      <td>1400</td>\n",
              "      <td>4050</td>\n",
              "      <td>1.0</td>\n",
              "      <td>0</td>\n",
              "      <td>0</td>\n",
              "      <td>4</td>\n",
              "      <td>8</td>\n",
              "      <td>1400</td>\n",
              "      <td>0</td>\n",
              "      <td>1954</td>\n",
              "      <td>0</td>\n",
              "      <td>98115</td>\n",
              "      <td>47.6768</td>\n",
              "      <td>-122.269</td>\n",
              "      <td>1900</td>\n",
              "      <td>5940</td>\n",
              "      <td>0</td>\n",
              "      <td>5450</td>\n",
              "    </tr>\n",
              "  </tbody>\n",
              "</table>\n",
              "</div>"
            ],
            "text/plain": [
              "          cid         dayhours   price  ...  lot_measure15  furnished  total_area\n",
              "0  3034200666  20141107T000000  808100  ...           7553          1       16477\n",
              "1  8731981640  20141204T000000  277500  ...           8800          0       10050\n",
              "2  5104530220  20150420T000000  404000  ...           4348          0        6694\n",
              "3  6145600285  20140529T000000  300000  ...           3844          0        4664\n",
              "4  8924100111  20150424T000000  699000  ...           5940          0        5450\n",
              "\n",
              "[5 rows x 23 columns]"
            ]
          },
          "metadata": {
            "tags": []
          },
          "execution_count": 33
        }
      ]
    },
    {
      "cell_type": "code",
      "metadata": {
        "id": "sjACa1XkSa36",
        "colab_type": "code",
        "colab": {
          "base_uri": "https://localhost:8080/",
          "height": 493
        },
        "outputId": "02e9c43d-803f-4b06-af7f-e34a1fc31c15"
      },
      "source": [
        "housedata.info()"
      ],
      "execution_count": 34,
      "outputs": [
        {
          "output_type": "stream",
          "text": [
            "<class 'pandas.core.frame.DataFrame'>\n",
            "RangeIndex: 21613 entries, 0 to 21612\n",
            "Data columns (total 23 columns):\n",
            "cid                 21613 non-null int64\n",
            "dayhours            21613 non-null object\n",
            "price               21613 non-null int64\n",
            "room_bed            21613 non-null int64\n",
            "room_bath           21613 non-null float64\n",
            "living_measure      21613 non-null int64\n",
            "lot_measure         21613 non-null int64\n",
            "ceil                21613 non-null float64\n",
            "coast               21613 non-null int64\n",
            "sight               21613 non-null int64\n",
            "condition           21613 non-null int64\n",
            "quality             21613 non-null int64\n",
            "ceil_measure        21613 non-null int64\n",
            "basement            21613 non-null int64\n",
            "yr_built            21613 non-null int64\n",
            "yr_renovated        21613 non-null int64\n",
            "zipcode             21613 non-null int64\n",
            "lat                 21613 non-null float64\n",
            "long                21613 non-null float64\n",
            "living_measure15    21613 non-null int64\n",
            "lot_measure15       21613 non-null int64\n",
            "furnished           21613 non-null int64\n",
            "total_area          21613 non-null int64\n",
            "dtypes: float64(4), int64(18), object(1)\n",
            "memory usage: 3.8+ MB\n"
          ],
          "name": "stdout"
        }
      ]
    },
    {
      "cell_type": "code",
      "metadata": {
        "id": "ZONCv9lnSa4E",
        "colab_type": "code",
        "colab": {
          "base_uri": "https://localhost:8080/",
          "height": 317
        },
        "outputId": "975a7cd9-268d-4dae-c18d-128abab87bfe"
      },
      "source": [
        "housedata.describe()"
      ],
      "execution_count": 35,
      "outputs": [
        {
          "output_type": "execute_result",
          "data": {
            "text/html": [
              "<div>\n",
              "<style scoped>\n",
              "    .dataframe tbody tr th:only-of-type {\n",
              "        vertical-align: middle;\n",
              "    }\n",
              "\n",
              "    .dataframe tbody tr th {\n",
              "        vertical-align: top;\n",
              "    }\n",
              "\n",
              "    .dataframe thead th {\n",
              "        text-align: right;\n",
              "    }\n",
              "</style>\n",
              "<table border=\"1\" class=\"dataframe\">\n",
              "  <thead>\n",
              "    <tr style=\"text-align: right;\">\n",
              "      <th></th>\n",
              "      <th>cid</th>\n",
              "      <th>price</th>\n",
              "      <th>room_bed</th>\n",
              "      <th>room_bath</th>\n",
              "      <th>living_measure</th>\n",
              "      <th>lot_measure</th>\n",
              "      <th>ceil</th>\n",
              "      <th>coast</th>\n",
              "      <th>sight</th>\n",
              "      <th>condition</th>\n",
              "      <th>quality</th>\n",
              "      <th>ceil_measure</th>\n",
              "      <th>basement</th>\n",
              "      <th>yr_built</th>\n",
              "      <th>yr_renovated</th>\n",
              "      <th>zipcode</th>\n",
              "      <th>lat</th>\n",
              "      <th>long</th>\n",
              "      <th>living_measure15</th>\n",
              "      <th>lot_measure15</th>\n",
              "      <th>furnished</th>\n",
              "      <th>total_area</th>\n",
              "    </tr>\n",
              "  </thead>\n",
              "  <tbody>\n",
              "    <tr>\n",
              "      <th>count</th>\n",
              "      <td>2.161300e+04</td>\n",
              "      <td>2.161300e+04</td>\n",
              "      <td>21613.000000</td>\n",
              "      <td>21613.000000</td>\n",
              "      <td>21613.000000</td>\n",
              "      <td>2.161300e+04</td>\n",
              "      <td>21613.000000</td>\n",
              "      <td>21613.000000</td>\n",
              "      <td>21613.000000</td>\n",
              "      <td>21613.000000</td>\n",
              "      <td>21613.000000</td>\n",
              "      <td>21613.000000</td>\n",
              "      <td>21613.000000</td>\n",
              "      <td>21613.000000</td>\n",
              "      <td>21613.000000</td>\n",
              "      <td>21613.000000</td>\n",
              "      <td>21613.000000</td>\n",
              "      <td>21613.000000</td>\n",
              "      <td>21613.000000</td>\n",
              "      <td>21613.000000</td>\n",
              "      <td>21613.000000</td>\n",
              "      <td>2.161300e+04</td>\n",
              "    </tr>\n",
              "    <tr>\n",
              "      <th>mean</th>\n",
              "      <td>4.580302e+09</td>\n",
              "      <td>5.401822e+05</td>\n",
              "      <td>3.370842</td>\n",
              "      <td>2.114757</td>\n",
              "      <td>2079.899736</td>\n",
              "      <td>1.510697e+04</td>\n",
              "      <td>1.494309</td>\n",
              "      <td>0.007542</td>\n",
              "      <td>0.234303</td>\n",
              "      <td>3.409430</td>\n",
              "      <td>7.656873</td>\n",
              "      <td>1788.390691</td>\n",
              "      <td>291.509045</td>\n",
              "      <td>1971.005136</td>\n",
              "      <td>84.402258</td>\n",
              "      <td>98077.939805</td>\n",
              "      <td>47.560053</td>\n",
              "      <td>-122.213896</td>\n",
              "      <td>1986.552492</td>\n",
              "      <td>12768.455652</td>\n",
              "      <td>0.196687</td>\n",
              "      <td>1.718687e+04</td>\n",
              "    </tr>\n",
              "    <tr>\n",
              "      <th>std</th>\n",
              "      <td>2.876566e+09</td>\n",
              "      <td>3.673622e+05</td>\n",
              "      <td>0.930062</td>\n",
              "      <td>0.770163</td>\n",
              "      <td>918.440897</td>\n",
              "      <td>4.142051e+04</td>\n",
              "      <td>0.539989</td>\n",
              "      <td>0.086517</td>\n",
              "      <td>0.766318</td>\n",
              "      <td>0.650743</td>\n",
              "      <td>1.175459</td>\n",
              "      <td>828.090978</td>\n",
              "      <td>442.575043</td>\n",
              "      <td>29.373411</td>\n",
              "      <td>401.679240</td>\n",
              "      <td>53.505026</td>\n",
              "      <td>0.138564</td>\n",
              "      <td>0.140828</td>\n",
              "      <td>685.391304</td>\n",
              "      <td>27304.179631</td>\n",
              "      <td>0.397503</td>\n",
              "      <td>4.158908e+04</td>\n",
              "    </tr>\n",
              "    <tr>\n",
              "      <th>min</th>\n",
              "      <td>1.000102e+06</td>\n",
              "      <td>7.500000e+04</td>\n",
              "      <td>0.000000</td>\n",
              "      <td>0.000000</td>\n",
              "      <td>290.000000</td>\n",
              "      <td>5.200000e+02</td>\n",
              "      <td>1.000000</td>\n",
              "      <td>0.000000</td>\n",
              "      <td>0.000000</td>\n",
              "      <td>1.000000</td>\n",
              "      <td>1.000000</td>\n",
              "      <td>290.000000</td>\n",
              "      <td>0.000000</td>\n",
              "      <td>1900.000000</td>\n",
              "      <td>0.000000</td>\n",
              "      <td>98001.000000</td>\n",
              "      <td>47.155900</td>\n",
              "      <td>-122.519000</td>\n",
              "      <td>399.000000</td>\n",
              "      <td>651.000000</td>\n",
              "      <td>0.000000</td>\n",
              "      <td>1.423000e+03</td>\n",
              "    </tr>\n",
              "    <tr>\n",
              "      <th>25%</th>\n",
              "      <td>2.123049e+09</td>\n",
              "      <td>3.219500e+05</td>\n",
              "      <td>3.000000</td>\n",
              "      <td>1.750000</td>\n",
              "      <td>1427.000000</td>\n",
              "      <td>5.040000e+03</td>\n",
              "      <td>1.000000</td>\n",
              "      <td>0.000000</td>\n",
              "      <td>0.000000</td>\n",
              "      <td>3.000000</td>\n",
              "      <td>7.000000</td>\n",
              "      <td>1190.000000</td>\n",
              "      <td>0.000000</td>\n",
              "      <td>1951.000000</td>\n",
              "      <td>0.000000</td>\n",
              "      <td>98033.000000</td>\n",
              "      <td>47.471000</td>\n",
              "      <td>-122.328000</td>\n",
              "      <td>1490.000000</td>\n",
              "      <td>5100.000000</td>\n",
              "      <td>0.000000</td>\n",
              "      <td>7.035000e+03</td>\n",
              "    </tr>\n",
              "    <tr>\n",
              "      <th>50%</th>\n",
              "      <td>3.904930e+09</td>\n",
              "      <td>4.500000e+05</td>\n",
              "      <td>3.000000</td>\n",
              "      <td>2.250000</td>\n",
              "      <td>1910.000000</td>\n",
              "      <td>7.618000e+03</td>\n",
              "      <td>1.500000</td>\n",
              "      <td>0.000000</td>\n",
              "      <td>0.000000</td>\n",
              "      <td>3.000000</td>\n",
              "      <td>7.000000</td>\n",
              "      <td>1560.000000</td>\n",
              "      <td>0.000000</td>\n",
              "      <td>1975.000000</td>\n",
              "      <td>0.000000</td>\n",
              "      <td>98065.000000</td>\n",
              "      <td>47.571800</td>\n",
              "      <td>-122.230000</td>\n",
              "      <td>1840.000000</td>\n",
              "      <td>7620.000000</td>\n",
              "      <td>0.000000</td>\n",
              "      <td>9.575000e+03</td>\n",
              "    </tr>\n",
              "    <tr>\n",
              "      <th>75%</th>\n",
              "      <td>7.308900e+09</td>\n",
              "      <td>6.450000e+05</td>\n",
              "      <td>4.000000</td>\n",
              "      <td>2.500000</td>\n",
              "      <td>2550.000000</td>\n",
              "      <td>1.068800e+04</td>\n",
              "      <td>2.000000</td>\n",
              "      <td>0.000000</td>\n",
              "      <td>0.000000</td>\n",
              "      <td>4.000000</td>\n",
              "      <td>8.000000</td>\n",
              "      <td>2210.000000</td>\n",
              "      <td>560.000000</td>\n",
              "      <td>1997.000000</td>\n",
              "      <td>0.000000</td>\n",
              "      <td>98118.000000</td>\n",
              "      <td>47.678000</td>\n",
              "      <td>-122.125000</td>\n",
              "      <td>2360.000000</td>\n",
              "      <td>10083.000000</td>\n",
              "      <td>0.000000</td>\n",
              "      <td>1.300000e+04</td>\n",
              "    </tr>\n",
              "    <tr>\n",
              "      <th>max</th>\n",
              "      <td>9.900000e+09</td>\n",
              "      <td>7.700000e+06</td>\n",
              "      <td>33.000000</td>\n",
              "      <td>8.000000</td>\n",
              "      <td>13540.000000</td>\n",
              "      <td>1.651359e+06</td>\n",
              "      <td>3.500000</td>\n",
              "      <td>1.000000</td>\n",
              "      <td>4.000000</td>\n",
              "      <td>5.000000</td>\n",
              "      <td>13.000000</td>\n",
              "      <td>9410.000000</td>\n",
              "      <td>4820.000000</td>\n",
              "      <td>2015.000000</td>\n",
              "      <td>2015.000000</td>\n",
              "      <td>98199.000000</td>\n",
              "      <td>47.777600</td>\n",
              "      <td>-121.315000</td>\n",
              "      <td>6210.000000</td>\n",
              "      <td>871200.000000</td>\n",
              "      <td>1.000000</td>\n",
              "      <td>1.652659e+06</td>\n",
              "    </tr>\n",
              "  </tbody>\n",
              "</table>\n",
              "</div>"
            ],
            "text/plain": [
              "                cid         price  ...     furnished    total_area\n",
              "count  2.161300e+04  2.161300e+04  ...  21613.000000  2.161300e+04\n",
              "mean   4.580302e+09  5.401822e+05  ...      0.196687  1.718687e+04\n",
              "std    2.876566e+09  3.673622e+05  ...      0.397503  4.158908e+04\n",
              "min    1.000102e+06  7.500000e+04  ...      0.000000  1.423000e+03\n",
              "25%    2.123049e+09  3.219500e+05  ...      0.000000  7.035000e+03\n",
              "50%    3.904930e+09  4.500000e+05  ...      0.000000  9.575000e+03\n",
              "75%    7.308900e+09  6.450000e+05  ...      0.000000  1.300000e+04\n",
              "max    9.900000e+09  7.700000e+06  ...      1.000000  1.652659e+06\n",
              "\n",
              "[8 rows x 22 columns]"
            ]
          },
          "metadata": {
            "tags": []
          },
          "execution_count": 35
        }
      ]
    },
    {
      "cell_type": "markdown",
      "metadata": {
        "id": "bJpCYniSSa4I",
        "colab_type": "text"
      },
      "source": [
        "### Univariate Analysis\n",
        "Let's explore the spread of data points, presence of any outliers for all attributes. We will be using the following plots for this analysis.\n",
        "- Density curve with histogram\n",
        "- boxplot\n",
        "- pie chart\n",
        "- countplot\n",
        "- pointplot"
      ]
    },
    {
      "cell_type": "code",
      "metadata": {
        "id": "q1YrJbdrSa4L",
        "colab_type": "code",
        "colab": {
          "base_uri": "https://localhost:8080/",
          "height": 936
        },
        "outputId": "1e876c4a-685a-4665-834d-5e73c67755ec"
      },
      "source": [
        "import itertools\n",
        "# Analyze the body of the distributions\n",
        "cols = [i for i in housedata.columns if i not in ('cid','dayhours','lat','long','zipcode','yr_built','yr_renovated')]\n",
        "fig = plt.figure(figsize=(16,16))\n",
        "for i,j,k in itertools.zip_longest(cols, range(len(cols)), [\"darkorange\",\"r\",\"g\",\"c\",\"m\",\"k\",\"lime\",\"c\",\"r\",\"g\",\"c\",\"m\",\"k\",\"lime\",\"c\",\"g\"]):\n",
        "    plt.subplot(4,4,j+1)\n",
        "    ax = sns.distplot(housedata[i],color=k)\n",
        "    plt.axvline(housedata[i].mean(),linestyle=\"dashed\",label=\"mean\",color=\"k\")\n",
        "    plt.legend(loc=\"best\")"
      ],
      "execution_count": 36,
      "outputs": [
        {
          "output_type": "display_data",
          "data": {
            "image/png": "[encoded data removed]",
            "text/plain": [
              "<Figure size 1152x1152 with 16 Axes>"
            ]
          },
          "metadata": {
            "tags": []
          }
        }
      ]
    },
    {
      "cell_type": "code",
      "metadata": {
        "id": "am4PWilfSa4Q",
        "colab_type": "code",
        "colab": {
          "base_uri": "https://localhost:8080/",
          "height": 463
        },
        "outputId": "fb592dfb-5071-4775-9590-922b524cb95b"
      },
      "source": [
        "# Target feature \"Comprehensive Strength\" distribution\n",
        "plt.figure(figsize=(16,7))\n",
        "sns.set_style('darkgrid', {'axes.grid' : True})\n",
        "sns.distplot(housedata[\"price\"],color=\"b\",rug=True)\n",
        "plt.axvline(housedata[\"price\"].mean(), linestyle=\"dashed\", color=\"k\", label='mean', linewidth=2)\n",
        "plt.legend(loc=\"best\",prop={\"size\":14})"
      ],
      "execution_count": 37,
      "outputs": [
        {
          "output_type": "execute_result",
          "data": {
            "text/plain": [
              "<matplotlib.legend.Legend at 0x7fbbc2b2fe80>"
            ]
          },
          "metadata": {
            "tags": []
          },
          "execution_count": 37
        },
        {
          "output_type": "display_data",
          "data": {
            "image/png": "[encoded data removed]",
            "text/plain": [
              "<Figure size 1152x504 with 1 Axes>"
            ]
          },
          "metadata": {
            "tags": []
          }
        }
      ]
    },
    {
      "cell_type": "markdown",
      "metadata": {
        "id": "I3GPwtDkSa4V",
        "colab_type": "text"
      },
      "source": [
        "**Observations:**\n",
        "- It seems there is presence of long tails in almost all of the columns indicates outliers\n",
        "- The distribution of *price* feature seems to be left skewed or having outliers.\n",
        "- There are clearly bumps visible in *ceil*, *condition* and *quality* features"
      ]
    },
    {
      "cell_type": "code",
      "metadata": {
        "id": "xRg3RqbISa4X",
        "colab_type": "code",
        "colab": {
          "base_uri": "https://localhost:8080/",
          "height": 425
        },
        "outputId": "a8eb2564-b805-486a-858b-0d7060b203e2"
      },
      "source": [
        "# Check for any Non-Real value present in the dataset such as '?' or '*' etc.\n",
        "housedata[~housedata.applymap(np.isreal)].sum(axis=0)"
      ],
      "execution_count": 38,
      "outputs": [
        {
          "output_type": "execute_result",
          "data": {
            "text/plain": [
              "cid                                                                 0\n",
              "dayhours            20141107T00000020141204T00000020150420T0000002...\n",
              "price                                                               0\n",
              "room_bed                                                            0\n",
              "room_bath                                                           0\n",
              "living_measure                                                      0\n",
              "lot_measure                                                         0\n",
              "ceil                                                                0\n",
              "coast                                                               0\n",
              "sight                                                               0\n",
              "condition                                                           0\n",
              "quality                                                             0\n",
              "ceil_measure                                                        0\n",
              "basement                                                            0\n",
              "yr_built                                                            0\n",
              "yr_renovated                                                        0\n",
              "zipcode                                                             0\n",
              "lat                                                                 0\n",
              "long                                                                0\n",
              "living_measure15                                                    0\n",
              "lot_measure15                                                       0\n",
              "furnished                                                           0\n",
              "total_area                                                          0\n",
              "dtype: object"
            ]
          },
          "metadata": {
            "tags": []
          },
          "execution_count": 38
        }
      ]
    },
    {
      "cell_type": "markdown",
      "metadata": {
        "id": "FreDULh9Sa4e",
        "colab_type": "text"
      },
      "source": [
        "**Observations**\n",
        "- dayhours column is having datetime in string format\n",
        "- Need to convert dayhours to datetime format"
      ]
    },
    {
      "cell_type": "code",
      "metadata": {
        "id": "lxyrvI4xSa4g",
        "colab_type": "code",
        "colab": {}
      },
      "source": [
        "#Convert dayhours to datetime format\n",
        "from datetime import datetime\n",
        "\n",
        "housedata['dayhours'] = pd.to_datetime(housedata['dayhours'], format='%Y%m%dT%H%M%S')"
      ],
      "execution_count": 0,
      "outputs": []
    },
    {
      "cell_type": "code",
      "metadata": {
        "id": "RG_oVyT1Sa4l",
        "colab_type": "code",
        "colab": {
          "base_uri": "https://localhost:8080/",
          "height": 309
        },
        "outputId": "9dadd14a-4748-4de1-d96b-b5ef1e15a9b4"
      },
      "source": [
        "housedata.head()"
      ],
      "execution_count": 40,
      "outputs": [
        {
          "output_type": "execute_result",
          "data": {
            "text/html": [
              "<div>\n",
              "<style scoped>\n",
              "    .dataframe tbody tr th:only-of-type {\n",
              "        vertical-align: middle;\n",
              "    }\n",
              "\n",
              "    .dataframe tbody tr th {\n",
              "        vertical-align: top;\n",
              "    }\n",
              "\n",
              "    .dataframe thead th {\n",
              "        text-align: right;\n",
              "    }\n",
              "</style>\n",
              "<table border=\"1\" class=\"dataframe\">\n",
              "  <thead>\n",
              "    <tr style=\"text-align: right;\">\n",
              "      <th></th>\n",
              "      <th>cid</th>\n",
              "      <th>dayhours</th>\n",
              "      <th>price</th>\n",
              "      <th>room_bed</th>\n",
              "      <th>room_bath</th>\n",
              "      <th>living_measure</th>\n",
              "      <th>lot_measure</th>\n",
              "      <th>ceil</th>\n",
              "      <th>coast</th>\n",
              "      <th>sight</th>\n",
              "      <th>condition</th>\n",
              "      <th>quality</th>\n",
              "      <th>ceil_measure</th>\n",
              "      <th>basement</th>\n",
              "      <th>yr_built</th>\n",
              "      <th>yr_renovated</th>\n",
              "      <th>zipcode</th>\n",
              "      <th>lat</th>\n",
              "      <th>long</th>\n",
              "      <th>living_measure15</th>\n",
              "      <th>lot_measure15</th>\n",
              "      <th>furnished</th>\n",
              "      <th>total_area</th>\n",
              "    </tr>\n",
              "  </thead>\n",
              "  <tbody>\n",
              "    <tr>\n",
              "      <th>0</th>\n",
              "      <td>3034200666</td>\n",
              "      <td>2014-11-07</td>\n",
              "      <td>808100</td>\n",
              "      <td>4</td>\n",
              "      <td>3.25</td>\n",
              "      <td>3020</td>\n",
              "      <td>13457</td>\n",
              "      <td>1.0</td>\n",
              "      <td>0</td>\n",
              "      <td>0</td>\n",
              "      <td>5</td>\n",
              "      <td>9</td>\n",
              "      <td>3020</td>\n",
              "      <td>0</td>\n",
              "      <td>1956</td>\n",
              "      <td>0</td>\n",
              "      <td>98133</td>\n",
              "      <td>47.7174</td>\n",
              "      <td>-122.336</td>\n",
              "      <td>2120</td>\n",
              "      <td>7553</td>\n",
              "      <td>1</td>\n",
              "      <td>16477</td>\n",
              "    </tr>\n",
              "    <tr>\n",
              "      <th>1</th>\n",
              "      <td>8731981640</td>\n",
              "      <td>2014-12-04</td>\n",
              "      <td>277500</td>\n",
              "      <td>4</td>\n",
              "      <td>2.50</td>\n",
              "      <td>2550</td>\n",
              "      <td>7500</td>\n",
              "      <td>1.0</td>\n",
              "      <td>0</td>\n",
              "      <td>0</td>\n",
              "      <td>3</td>\n",
              "      <td>8</td>\n",
              "      <td>1750</td>\n",
              "      <td>800</td>\n",
              "      <td>1976</td>\n",
              "      <td>0</td>\n",
              "      <td>98023</td>\n",
              "      <td>47.3165</td>\n",
              "      <td>-122.386</td>\n",
              "      <td>2260</td>\n",
              "      <td>8800</td>\n",
              "      <td>0</td>\n",
              "      <td>10050</td>\n",
              "    </tr>\n",
              "    <tr>\n",
              "      <th>2</th>\n",
              "      <td>5104530220</td>\n",
              "      <td>2015-04-20</td>\n",
              "      <td>404000</td>\n",
              "      <td>3</td>\n",
              "      <td>2.50</td>\n",
              "      <td>2370</td>\n",
              "      <td>4324</td>\n",
              "      <td>2.0</td>\n",
              "      <td>0</td>\n",
              "      <td>0</td>\n",
              "      <td>3</td>\n",
              "      <td>8</td>\n",
              "      <td>2370</td>\n",
              "      <td>0</td>\n",
              "      <td>2006</td>\n",
              "      <td>0</td>\n",
              "      <td>98038</td>\n",
              "      <td>47.3515</td>\n",
              "      <td>-121.999</td>\n",
              "      <td>2370</td>\n",
              "      <td>4348</td>\n",
              "      <td>0</td>\n",
              "      <td>6694</td>\n",
              "    </tr>\n",
              "    <tr>\n",
              "      <th>3</th>\n",
              "      <td>6145600285</td>\n",
              "      <td>2014-05-29</td>\n",
              "      <td>300000</td>\n",
              "      <td>2</td>\n",
              "      <td>1.00</td>\n",
              "      <td>820</td>\n",
              "      <td>3844</td>\n",
              "      <td>1.0</td>\n",
              "      <td>0</td>\n",
              "      <td>0</td>\n",
              "      <td>4</td>\n",
              "      <td>6</td>\n",
              "      <td>820</td>\n",
              "      <td>0</td>\n",
              "      <td>1916</td>\n",
              "      <td>0</td>\n",
              "      <td>98133</td>\n",
              "      <td>47.7049</td>\n",
              "      <td>-122.349</td>\n",
              "      <td>1520</td>\n",
              "      <td>3844</td>\n",
              "      <td>0</td>\n",
              "      <td>4664</td>\n",
              "    </tr>\n",
              "    <tr>\n",
              "      <th>4</th>\n",
              "      <td>8924100111</td>\n",
              "      <td>2015-04-24</td>\n",
              "      <td>699000</td>\n",
              "      <td>2</td>\n",
              "      <td>1.50</td>\n",
              "      <td>1400</td>\n",
              "      <td>4050</td>\n",
              "      <td>1.0</td>\n",
              "      <td>0</td>\n",
              "      <td>0</td>\n",
              "      <td>4</td>\n",
              "      <td>8</td>\n",
              "      <td>1400</td>\n",
              "      <td>0</td>\n",
              "      <td>1954</td>\n",
              "      <td>0</td>\n",
              "      <td>98115</td>\n",
              "      <td>47.6768</td>\n",
              "      <td>-122.269</td>\n",
              "      <td>1900</td>\n",
              "      <td>5940</td>\n",
              "      <td>0</td>\n",
              "      <td>5450</td>\n",
              "    </tr>\n",
              "  </tbody>\n",
              "</table>\n",
              "</div>"
            ],
            "text/plain": [
              "          cid   dayhours   price  ...  lot_measure15  furnished  total_area\n",
              "0  3034200666 2014-11-07  808100  ...           7553          1       16477\n",
              "1  8731981640 2014-12-04  277500  ...           8800          0       10050\n",
              "2  5104530220 2015-04-20  404000  ...           4348          0        6694\n",
              "3  6145600285 2014-05-29  300000  ...           3844          0        4664\n",
              "4  8924100111 2015-04-24  699000  ...           5940          0        5450\n",
              "\n",
              "[5 rows x 23 columns]"
            ]
          },
          "metadata": {
            "tags": []
          },
          "execution_count": 40
        }
      ]
    },
    {
      "cell_type": "code",
      "metadata": {
        "id": "XKS8eOZ-Sa4r",
        "colab_type": "code",
        "colab": {}
      },
      "source": [
        "#Remove un necessary columns\n",
        "housedatabkp = housedata\n",
        "\n",
        "columns = ['dayhours','cid','lat','long']\n",
        "housedata = housedata.drop(columns, axis=1)"
      ],
      "execution_count": 0,
      "outputs": []
    },
    {
      "cell_type": "code",
      "metadata": {
        "id": "UNgySV4YSa4w",
        "colab_type": "code",
        "colab": {
          "base_uri": "https://localhost:8080/",
          "height": 357
        },
        "outputId": "26ee4073-da7f-46f3-88e0-9d7144e70710"
      },
      "source": [
        "# Check for Nan/missing values\n",
        "housedata.applymap(np.isnan).sum(axis=0)\n",
        "\n",
        "#For identifying NaN values in price\n",
        "#housedata[mydata['price'].isnull()]"
      ],
      "execution_count": 42,
      "outputs": [
        {
          "output_type": "execute_result",
          "data": {
            "text/plain": [
              "price               0\n",
              "room_bed            0\n",
              "room_bath           0\n",
              "living_measure      0\n",
              "lot_measure         0\n",
              "ceil                0\n",
              "coast               0\n",
              "sight               0\n",
              "condition           0\n",
              "quality             0\n",
              "ceil_measure        0\n",
              "basement            0\n",
              "yr_built            0\n",
              "yr_renovated        0\n",
              "zipcode             0\n",
              "living_measure15    0\n",
              "lot_measure15       0\n",
              "furnished           0\n",
              "total_area          0\n",
              "dtype: int64"
            ]
          },
          "metadata": {
            "tags": []
          },
          "execution_count": 42
        }
      ]
    },
    {
      "cell_type": "code",
      "metadata": {
        "id": "d0pwez3YSa40",
        "colab_type": "code",
        "colab": {
          "base_uri": "https://localhost:8080/",
          "height": 357
        },
        "outputId": "a7d56c93-c788-4fb1-e285-28afc1f6fab8"
      },
      "source": [
        "# Find out the count of 0s in each column\n",
        "(housedata == 0.0).sum(axis=0)"
      ],
      "execution_count": 43,
      "outputs": [
        {
          "output_type": "execute_result",
          "data": {
            "text/plain": [
              "price                   0\n",
              "room_bed               13\n",
              "room_bath              10\n",
              "living_measure          0\n",
              "lot_measure             0\n",
              "ceil                    0\n",
              "coast               21450\n",
              "sight               19489\n",
              "condition               0\n",
              "quality                 0\n",
              "ceil_measure            0\n",
              "basement            13126\n",
              "yr_built                0\n",
              "yr_renovated        20699\n",
              "zipcode                 0\n",
              "living_measure15        0\n",
              "lot_measure15           0\n",
              "furnished           17362\n",
              "total_area              0\n",
              "dtype: int64"
            ]
          },
          "metadata": {
            "tags": []
          },
          "execution_count": 43
        }
      ]
    },
    {
      "cell_type": "code",
      "metadata": {
        "id": "SVTWldnTSa42",
        "colab_type": "code",
        "colab": {
          "base_uri": "https://localhost:8080/",
          "height": 119
        },
        "outputId": "e32b088a-cc82-482e-f070-388cccf4a3cb"
      },
      "source": [
        "housedata.sight.value_counts()"
      ],
      "execution_count": 44,
      "outputs": [
        {
          "output_type": "execute_result",
          "data": {
            "text/plain": [
              "0    19489\n",
              "2      963\n",
              "3      510\n",
              "1      332\n",
              "4      319\n",
              "Name: sight, dtype: int64"
            ]
          },
          "metadata": {
            "tags": []
          },
          "execution_count": 44
        }
      ]
    },
    {
      "cell_type": "markdown",
      "metadata": {
        "id": "V0bCFiK6Sa45",
        "colab_type": "text"
      },
      "source": [
        "**Observations:**\n",
        "- There are no Nan values present in dataset\n",
        "- columns coast, sight, basement, yr_renovated, furnished has many zero values\n",
        "- However furnished and coast are bollean values\n",
        "- we are going to convert yr_renovated column to boolean value to know whether it has renovated or not"
      ]
    },
    {
      "cell_type": "code",
      "metadata": {
        "id": "cFiEdaKeSa46",
        "colab_type": "code",
        "colab": {}
      },
      "source": [
        "\n",
        "#convert values to ints:\n",
        "#housedata['price'] = housedata['price'].astype(int)\n",
        "housedata['price'] = housedata['price'].fillna(0).astype(int)"
      ],
      "execution_count": 0,
      "outputs": []
    },
    {
      "cell_type": "markdown",
      "metadata": {
        "id": "O26pubFhSa5D",
        "colab_type": "text"
      },
      "source": [
        "### Outlier Treatement"
      ]
    },
    {
      "cell_type": "code",
      "metadata": {
        "id": "bxDdq251Sa5D",
        "colab_type": "code",
        "colab": {
          "base_uri": "https://localhost:8080/",
          "height": 596
        },
        "outputId": "a57be299-0cf3-440f-fb6c-72ce26eab4a7"
      },
      "source": [
        "# Plot the central tendency of the dataset\n",
        "_, bp = housedata.boxplot(return_type='both', figsize=(20,10))"
      ],
      "execution_count": 46,
      "outputs": [
        {
          "output_type": "display_data",
          "data": {
            "image/png": "[encoded data removed]",
            "text/plain": [
              "<Figure size 1440x720 with 1 Axes>"
            ]
          },
          "metadata": {
            "tags": []
          }
        }
      ]
    },
    {
      "cell_type": "code",
      "metadata": {
        "id": "KVfLR8-kSa5G",
        "colab_type": "code",
        "colab": {
          "base_uri": "https://localhost:8080/",
          "height": 596
        },
        "outputId": "17de1551-9b59-486f-bab1-5c0791f8b562"
      },
      "source": [
        "# Plot the columns which are having too many outliers\n",
        "_, bp = housedata.boxplot(column=[\"price\",\"lot_measure\",\"total_area\",\"lot_measure15\"],return_type='both', figsize=(20,10))"
      ],
      "execution_count": 47,
      "outputs": [
        {
          "output_type": "display_data",
          "data": {
            "image/png": "[encoded data removed]",
            "text/plain": [
              "<Figure size 1440x720 with 1 Axes>"
            ]
          },
          "metadata": {
            "tags": []
          }
        }
      ]
    },
    {
      "cell_type": "code",
      "metadata": {
        "id": "SoW9MKB1Sa5P",
        "colab_type": "code",
        "colab": {
          "base_uri": "https://localhost:8080/",
          "height": 674
        },
        "outputId": "b47e8bea-1c00-4950-d9ca-298cc4b95dc3"
      },
      "source": [
        "# Plot the central tendency excluding cid field\n",
        "_, bp = housedata.boxplot(column=[\n",
        "'living_measure',\n",
        "'ceil_measure',\n",
        "'living_measure15'\n",
        "],return_type='both', figsize=(20,10), rot='vertical')"
      ],
      "execution_count": 48,
      "outputs": [
        {
          "output_type": "display_data",
          "data": {
            "image/png": "[encoded data removed]",
            "text/plain": [
              "<Figure size 1440x720 with 1 Axes>"
            ]
          },
          "metadata": {
            "tags": []
          }
        }
      ]
    },
    {
      "cell_type": "code",
      "metadata": {
        "id": "VHK2GU9HSa5X",
        "colab_type": "code",
        "colab": {}
      },
      "source": [
        "# # outliers capping for price\n",
        "# q3 = housedata.price.quantile(0.75)\n",
        "# high = q3 + 1.5*(q3 - housedata.price.quantile(0.25))\n",
        "# housedata.loc[(housedata.price > high), 'price'] = high\n",
        "# print (high)\n",
        "# # outliers capping for lot_measure\n",
        "# q3 = housedata.lot_measure.quantile(0.75)\n",
        "# high = q3 + 1.5*(q3 - housedata.lot_measure.quantile(0.25))\n",
        "# housedata.loc[(housedata.lot_measure > high), 'lot_measure'] = high\n",
        "# print (high)\n",
        "# outliers capping for total_area\n",
        "# q3 = housedata.total_area.quantile(0.75)\n",
        "# high = q3 + 1.5*(q3 - housedata.total_area.quantile(0.25))\n",
        "# housedata.loc[(housedata.total_area > high), 'total_area'] = high\n",
        "# print (high)\n",
        "# # # outliers capping for lot_measure15\n",
        "# # q3 = housedata.lot_measure15.quantile(0.75)\n",
        "# # high = q3 + 1.5*(q3 - housedata.lot_measure15.quantile(0.25))\n",
        "# # housedata.loc[(housedata.lot_measure15 > high), 'lot_measure15'] = high\n",
        "# # print (high)\n",
        "# # outliers capping for living_measure\n",
        "# q3 = housedata.living_measure.quantile(0.75)\n",
        "# high = q3 + 1.5*(q3 - housedata.living_measure.quantile(0.25))\n",
        "# housedata.loc[(housedata.living_measure > high), 'living_measure'] = high\n",
        "# # outliers capping for ceil_measure\n",
        "# q3 = housedata.ceil_measure.quantile(0.75)\n",
        "# high = q3 + 1.5*(q3 - housedata.ceil_measure.quantile(0.25))\n",
        "# housedata.loc[(housedata.ceil_measure > high), 'ceil_measure'] = high\n",
        "# # # outliers capping for basement\n",
        "# # q3 = housedata.basement.quantile(0.75)\n",
        "# # high = q3 + 1.5*(q3 - housedata.basement.quantile(0.25))\n",
        "# # housedata.loc[(housedata.basement > high), 'basement'] = high\n",
        "# # outliers capping for living_measure15\n",
        "# q3 = housedata.living_measure15.quantile(0.75)\n",
        "# high = q3 + 1.5*(q3 - housedata.living_measure15.quantile(0.25))\n",
        "# housedata.loc[(housedata.living_measure15 > high), 'living_measure15'] = high"
      ],
      "execution_count": 0,
      "outputs": []
    },
    {
      "cell_type": "code",
      "metadata": {
        "id": "EhlUAD-1Sa5e",
        "colab_type": "code",
        "colab": {}
      },
      "source": [
        "# Plot the central tendency of the dataset\n",
        "# _, bp = housedata.boxplot(column=[\"price\",\"lot_measure\",\"total_area\",\"lot_measure15\"],return_type='both', figsize=(20,10))"
      ],
      "execution_count": 0,
      "outputs": []
    },
    {
      "cell_type": "code",
      "metadata": {
        "id": "MHqmSJNWSa5h",
        "colab_type": "code",
        "colab": {}
      },
      "source": [
        "# # Plot the central tendency excluding cid field\n",
        "# _, bp = housedata.boxplot(column=[\n",
        "# 'living_measure',\n",
        "# 'ceil_measure',\n",
        "# 'basement',\n",
        "# 'living_measure15'\n",
        "# ],return_type='both', figsize=(20,10), rot='vertical')"
      ],
      "execution_count": 0,
      "outputs": []
    },
    {
      "cell_type": "markdown",
      "metadata": {
        "id": "HBBG79uDSa5k",
        "colab_type": "text"
      },
      "source": [
        "**Observations**\n",
        "- Capping outliers proved to be not so much useful\n",
        "- Instaed we will try any of scale, transform and standardize techniques"
      ]
    },
    {
      "cell_type": "markdown",
      "metadata": {
        "id": "Z-6b5MdQSa5l",
        "colab_type": "text"
      },
      "source": [
        "### Bivariate Analysis\n",
        "Let's explore the relationship among the predictor variables and between the predictor variables and target column. We will be using the density curve plus histogram, scatterplot and pairplots for this analysis.\n",
        "#### Pairplot\n",
        "Pairplot helps picturizing the pair wise relationship between two variables. It creates a square matrix of no. of continous attributes of the dataset. The diagonal plots represents the histogram and/or the kde plot of a particular attributes where as the upper or lower trangular plots represents the co-linearity of two attributes."
      ]
    },
    {
      "cell_type": "code",
      "metadata": {
        "id": "MSp1HehbSa5m",
        "colab_type": "code",
        "colab": {}
      },
      "source": [
        "#sns.pairplot(mydata)"
      ],
      "execution_count": 0,
      "outputs": []
    },
    {
      "cell_type": "markdown",
      "metadata": {
        "id": "MSZkW-iySa5o",
        "colab_type": "text"
      },
      "source": [
        "### Feature Engineering"
      ]
    },
    {
      "cell_type": "code",
      "metadata": {
        "id": "34hE6ouoSa5p",
        "colab_type": "code",
        "colab": {
          "base_uri": "https://localhost:8080/",
          "height": 689
        },
        "outputId": "8a01ad18-7dfe-4592-9b4a-672fafa4ffa5"
      },
      "source": [
        "#Findout \n",
        "housedata.head(20)"
      ],
      "execution_count": 53,
      "outputs": [
        {
          "output_type": "execute_result",
          "data": {
            "text/html": [
              "<div>\n",
              "<style scoped>\n",
              "    .dataframe tbody tr th:only-of-type {\n",
              "        vertical-align: middle;\n",
              "    }\n",
              "\n",
              "    .dataframe tbody tr th {\n",
              "        vertical-align: top;\n",
              "    }\n",
              "\n",
              "    .dataframe thead th {\n",
              "        text-align: right;\n",
              "    }\n",
              "</style>\n",
              "<table border=\"1\" class=\"dataframe\">\n",
              "  <thead>\n",
              "    <tr style=\"text-align: right;\">\n",
              "      <th></th>\n",
              "      <th>price</th>\n",
              "      <th>room_bed</th>\n",
              "      <th>room_bath</th>\n",
              "      <th>living_measure</th>\n",
              "      <th>lot_measure</th>\n",
              "      <th>ceil</th>\n",
              "      <th>coast</th>\n",
              "      <th>sight</th>\n",
              "      <th>condition</th>\n",
              "      <th>quality</th>\n",
              "      <th>ceil_measure</th>\n",
              "      <th>basement</th>\n",
              "      <th>yr_built</th>\n",
              "      <th>yr_renovated</th>\n",
              "      <th>zipcode</th>\n",
              "      <th>living_measure15</th>\n",
              "      <th>lot_measure15</th>\n",
              "      <th>furnished</th>\n",
              "      <th>total_area</th>\n",
              "    </tr>\n",
              "  </thead>\n",
              "  <tbody>\n",
              "    <tr>\n",
              "      <th>0</th>\n",
              "      <td>808100</td>\n",
              "      <td>4</td>\n",
              "      <td>3.25</td>\n",
              "      <td>3020</td>\n",
              "      <td>13457</td>\n",
              "      <td>1.0</td>\n",
              "      <td>0</td>\n",
              "      <td>0</td>\n",
              "      <td>5</td>\n",
              "      <td>9</td>\n",
              "      <td>3020</td>\n",
              "      <td>0</td>\n",
              "      <td>1956</td>\n",
              "      <td>0</td>\n",
              "      <td>98133</td>\n",
              "      <td>2120</td>\n",
              "      <td>7553</td>\n",
              "      <td>1</td>\n",
              "      <td>16477</td>\n",
              "    </tr>\n",
              "    <tr>\n",
              "      <th>1</th>\n",
              "      <td>277500</td>\n",
              "      <td>4</td>\n",
              "      <td>2.50</td>\n",
              "      <td>2550</td>\n",
              "      <td>7500</td>\n",
              "      <td>1.0</td>\n",
              "      <td>0</td>\n",
              "      <td>0</td>\n",
              "      <td>3</td>\n",
              "      <td>8</td>\n",
              "      <td>1750</td>\n",
              "      <td>800</td>\n",
              "      <td>1976</td>\n",
              "      <td>0</td>\n",
              "      <td>98023</td>\n",
              "      <td>2260</td>\n",
              "      <td>8800</td>\n",
              "      <td>0</td>\n",
              "      <td>10050</td>\n",
              "    </tr>\n",
              "    <tr>\n",
              "      <th>2</th>\n",
              "      <td>404000</td>\n",
              "      <td>3</td>\n",
              "      <td>2.50</td>\n",
              "      <td>2370</td>\n",
              "      <td>4324</td>\n",
              "      <td>2.0</td>\n",
              "      <td>0</td>\n",
              "      <td>0</td>\n",
              "      <td>3</td>\n",
              "      <td>8</td>\n",
              "      <td>2370</td>\n",
              "      <td>0</td>\n",
              "      <td>2006</td>\n",
              "      <td>0</td>\n",
              "      <td>98038</td>\n",
              "      <td>2370</td>\n",
              "      <td>4348</td>\n",
              "      <td>0</td>\n",
              "      <td>6694</td>\n",
              "    </tr>\n",
              "    <tr>\n",
              "      <th>3</th>\n",
              "      <td>300000</td>\n",
              "      <td>2</td>\n",
              "      <td>1.00</td>\n",
              "      <td>820</td>\n",
              "      <td>3844</td>\n",
              "      <td>1.0</td>\n",
              "      <td>0</td>\n",
              "      <td>0</td>\n",
              "      <td>4</td>\n",
              "      <td>6</td>\n",
              "      <td>820</td>\n",
              "      <td>0</td>\n",
              "      <td>1916</td>\n",
              "      <td>0</td>\n",
              "      <td>98133</td>\n",
              "      <td>1520</td>\n",
              "      <td>3844</td>\n",
              "      <td>0</td>\n",
              "      <td>4664</td>\n",
              "    </tr>\n",
              "    <tr>\n",
              "      <th>4</th>\n",
              "      <td>699000</td>\n",
              "      <td>2</td>\n",
              "      <td>1.50</td>\n",
              "      <td>1400</td>\n",
              "      <td>4050</td>\n",
              "      <td>1.0</td>\n",
              "      <td>0</td>\n",
              "      <td>0</td>\n",
              "      <td>4</td>\n",
              "      <td>8</td>\n",
              "      <td>1400</td>\n",
              "      <td>0</td>\n",
              "      <td>1954</td>\n",
              "      <td>0</td>\n",
              "      <td>98115</td>\n",
              "      <td>1900</td>\n",
              "      <td>5940</td>\n",
              "      <td>0</td>\n",
              "      <td>5450</td>\n",
              "    </tr>\n",
              "    <tr>\n",
              "      <th>5</th>\n",
              "      <td>585000</td>\n",
              "      <td>3</td>\n",
              "      <td>2.50</td>\n",
              "      <td>2050</td>\n",
              "      <td>11690</td>\n",
              "      <td>2.0</td>\n",
              "      <td>0</td>\n",
              "      <td>0</td>\n",
              "      <td>4</td>\n",
              "      <td>9</td>\n",
              "      <td>2050</td>\n",
              "      <td>0</td>\n",
              "      <td>1989</td>\n",
              "      <td>0</td>\n",
              "      <td>98059</td>\n",
              "      <td>2410</td>\n",
              "      <td>10172</td>\n",
              "      <td>1</td>\n",
              "      <td>13740</td>\n",
              "    </tr>\n",
              "    <tr>\n",
              "      <th>6</th>\n",
              "      <td>465000</td>\n",
              "      <td>3</td>\n",
              "      <td>1.75</td>\n",
              "      <td>1480</td>\n",
              "      <td>6360</td>\n",
              "      <td>1.0</td>\n",
              "      <td>0</td>\n",
              "      <td>0</td>\n",
              "      <td>3</td>\n",
              "      <td>7</td>\n",
              "      <td>1480</td>\n",
              "      <td>0</td>\n",
              "      <td>1954</td>\n",
              "      <td>0</td>\n",
              "      <td>98133</td>\n",
              "      <td>1480</td>\n",
              "      <td>6360</td>\n",
              "      <td>0</td>\n",
              "      <td>7840</td>\n",
              "    </tr>\n",
              "    <tr>\n",
              "      <th>7</th>\n",
              "      <td>480000</td>\n",
              "      <td>3</td>\n",
              "      <td>1.50</td>\n",
              "      <td>2100</td>\n",
              "      <td>67269</td>\n",
              "      <td>1.0</td>\n",
              "      <td>0</td>\n",
              "      <td>0</td>\n",
              "      <td>4</td>\n",
              "      <td>7</td>\n",
              "      <td>1220</td>\n",
              "      <td>880</td>\n",
              "      <td>1949</td>\n",
              "      <td>0</td>\n",
              "      <td>98028</td>\n",
              "      <td>1610</td>\n",
              "      <td>15999</td>\n",
              "      <td>0</td>\n",
              "      <td>69369</td>\n",
              "    </tr>\n",
              "    <tr>\n",
              "      <th>8</th>\n",
              "      <td>780000</td>\n",
              "      <td>4</td>\n",
              "      <td>2.00</td>\n",
              "      <td>2600</td>\n",
              "      <td>4800</td>\n",
              "      <td>1.0</td>\n",
              "      <td>0</td>\n",
              "      <td>2</td>\n",
              "      <td>3</td>\n",
              "      <td>8</td>\n",
              "      <td>1400</td>\n",
              "      <td>1200</td>\n",
              "      <td>1953</td>\n",
              "      <td>0</td>\n",
              "      <td>98119</td>\n",
              "      <td>2050</td>\n",
              "      <td>3505</td>\n",
              "      <td>0</td>\n",
              "      <td>7400</td>\n",
              "    </tr>\n",
              "    <tr>\n",
              "      <th>9</th>\n",
              "      <td>215000</td>\n",
              "      <td>4</td>\n",
              "      <td>1.00</td>\n",
              "      <td>1130</td>\n",
              "      <td>7400</td>\n",
              "      <td>1.0</td>\n",
              "      <td>0</td>\n",
              "      <td>0</td>\n",
              "      <td>4</td>\n",
              "      <td>7</td>\n",
              "      <td>1130</td>\n",
              "      <td>0</td>\n",
              "      <td>1969</td>\n",
              "      <td>0</td>\n",
              "      <td>98003</td>\n",
              "      <td>1540</td>\n",
              "      <td>7379</td>\n",
              "      <td>0</td>\n",
              "      <td>8530</td>\n",
              "    </tr>\n",
              "    <tr>\n",
              "      <th>10</th>\n",
              "      <td>402000</td>\n",
              "      <td>2</td>\n",
              "      <td>1.00</td>\n",
              "      <td>710</td>\n",
              "      <td>5100</td>\n",
              "      <td>1.0</td>\n",
              "      <td>0</td>\n",
              "      <td>0</td>\n",
              "      <td>5</td>\n",
              "      <td>7</td>\n",
              "      <td>710</td>\n",
              "      <td>0</td>\n",
              "      <td>1905</td>\n",
              "      <td>0</td>\n",
              "      <td>98117</td>\n",
              "      <td>1530</td>\n",
              "      <td>5100</td>\n",
              "      <td>0</td>\n",
              "      <td>5810</td>\n",
              "    </tr>\n",
              "    <tr>\n",
              "      <th>11</th>\n",
              "      <td>299000</td>\n",
              "      <td>4</td>\n",
              "      <td>2.50</td>\n",
              "      <td>2350</td>\n",
              "      <td>6958</td>\n",
              "      <td>2.0</td>\n",
              "      <td>0</td>\n",
              "      <td>0</td>\n",
              "      <td>3</td>\n",
              "      <td>9</td>\n",
              "      <td>2350</td>\n",
              "      <td>0</td>\n",
              "      <td>1998</td>\n",
              "      <td>0</td>\n",
              "      <td>98092</td>\n",
              "      <td>2480</td>\n",
              "      <td>6395</td>\n",
              "      <td>1</td>\n",
              "      <td>9308</td>\n",
              "    </tr>\n",
              "    <tr>\n",
              "      <th>12</th>\n",
              "      <td>785000</td>\n",
              "      <td>4</td>\n",
              "      <td>2.50</td>\n",
              "      <td>3440</td>\n",
              "      <td>56192</td>\n",
              "      <td>2.0</td>\n",
              "      <td>0</td>\n",
              "      <td>0</td>\n",
              "      <td>3</td>\n",
              "      <td>9</td>\n",
              "      <td>3440</td>\n",
              "      <td>0</td>\n",
              "      <td>1994</td>\n",
              "      <td>0</td>\n",
              "      <td>98053</td>\n",
              "      <td>3150</td>\n",
              "      <td>44431</td>\n",
              "      <td>1</td>\n",
              "      <td>59632</td>\n",
              "    </tr>\n",
              "    <tr>\n",
              "      <th>13</th>\n",
              "      <td>865000</td>\n",
              "      <td>4</td>\n",
              "      <td>2.00</td>\n",
              "      <td>2750</td>\n",
              "      <td>5527</td>\n",
              "      <td>2.0</td>\n",
              "      <td>0</td>\n",
              "      <td>0</td>\n",
              "      <td>3</td>\n",
              "      <td>8</td>\n",
              "      <td>2130</td>\n",
              "      <td>620</td>\n",
              "      <td>1901</td>\n",
              "      <td>1987</td>\n",
              "      <td>98119</td>\n",
              "      <td>1290</td>\n",
              "      <td>1764</td>\n",
              "      <td>0</td>\n",
              "      <td>8277</td>\n",
              "    </tr>\n",
              "    <tr>\n",
              "      <th>14</th>\n",
              "      <td>554000</td>\n",
              "      <td>5</td>\n",
              "      <td>2.50</td>\n",
              "      <td>3440</td>\n",
              "      <td>12900</td>\n",
              "      <td>1.0</td>\n",
              "      <td>0</td>\n",
              "      <td>2</td>\n",
              "      <td>4</td>\n",
              "      <td>8</td>\n",
              "      <td>1720</td>\n",
              "      <td>1720</td>\n",
              "      <td>1958</td>\n",
              "      <td>0</td>\n",
              "      <td>98166</td>\n",
              "      <td>2100</td>\n",
              "      <td>10751</td>\n",
              "      <td>0</td>\n",
              "      <td>16340</td>\n",
              "    </tr>\n",
              "    <tr>\n",
              "      <th>15</th>\n",
              "      <td>361000</td>\n",
              "      <td>3</td>\n",
              "      <td>1.50</td>\n",
              "      <td>1200</td>\n",
              "      <td>7236</td>\n",
              "      <td>1.0</td>\n",
              "      <td>0</td>\n",
              "      <td>0</td>\n",
              "      <td>3</td>\n",
              "      <td>7</td>\n",
              "      <td>1200</td>\n",
              "      <td>0</td>\n",
              "      <td>1975</td>\n",
              "      <td>0</td>\n",
              "      <td>98011</td>\n",
              "      <td>1680</td>\n",
              "      <td>7800</td>\n",
              "      <td>0</td>\n",
              "      <td>8436</td>\n",
              "    </tr>\n",
              "    <tr>\n",
              "      <th>16</th>\n",
              "      <td>459000</td>\n",
              "      <td>4</td>\n",
              "      <td>2.75</td>\n",
              "      <td>2790</td>\n",
              "      <td>6600</td>\n",
              "      <td>2.0</td>\n",
              "      <td>0</td>\n",
              "      <td>0</td>\n",
              "      <td>3</td>\n",
              "      <td>9</td>\n",
              "      <td>2790</td>\n",
              "      <td>0</td>\n",
              "      <td>2000</td>\n",
              "      <td>0</td>\n",
              "      <td>98058</td>\n",
              "      <td>2900</td>\n",
              "      <td>6752</td>\n",
              "      <td>1</td>\n",
              "      <td>9390</td>\n",
              "    </tr>\n",
              "    <tr>\n",
              "      <th>17</th>\n",
              "      <td>200000</td>\n",
              "      <td>3</td>\n",
              "      <td>1.00</td>\n",
              "      <td>1480</td>\n",
              "      <td>5600</td>\n",
              "      <td>1.0</td>\n",
              "      <td>0</td>\n",
              "      <td>0</td>\n",
              "      <td>4</td>\n",
              "      <td>6</td>\n",
              "      <td>940</td>\n",
              "      <td>540</td>\n",
              "      <td>1947</td>\n",
              "      <td>0</td>\n",
              "      <td>98178</td>\n",
              "      <td>1350</td>\n",
              "      <td>11100</td>\n",
              "      <td>0</td>\n",
              "      <td>7080</td>\n",
              "    </tr>\n",
              "    <tr>\n",
              "      <th>18</th>\n",
              "      <td>403000</td>\n",
              "      <td>2</td>\n",
              "      <td>1.00</td>\n",
              "      <td>1100</td>\n",
              "      <td>3598</td>\n",
              "      <td>1.0</td>\n",
              "      <td>0</td>\n",
              "      <td>0</td>\n",
              "      <td>4</td>\n",
              "      <td>7</td>\n",
              "      <td>1100</td>\n",
              "      <td>0</td>\n",
              "      <td>1926</td>\n",
              "      <td>0</td>\n",
              "      <td>98144</td>\n",
              "      <td>1240</td>\n",
              "      <td>3598</td>\n",
              "      <td>0</td>\n",
              "      <td>4698</td>\n",
              "    </tr>\n",
              "    <tr>\n",
              "      <th>19</th>\n",
              "      <td>327500</td>\n",
              "      <td>3</td>\n",
              "      <td>2.25</td>\n",
              "      <td>2310</td>\n",
              "      <td>7200</td>\n",
              "      <td>2.0</td>\n",
              "      <td>0</td>\n",
              "      <td>0</td>\n",
              "      <td>3</td>\n",
              "      <td>8</td>\n",
              "      <td>2310</td>\n",
              "      <td>0</td>\n",
              "      <td>1990</td>\n",
              "      <td>0</td>\n",
              "      <td>98031</td>\n",
              "      <td>1960</td>\n",
              "      <td>7201</td>\n",
              "      <td>0</td>\n",
              "      <td>9510</td>\n",
              "    </tr>\n",
              "  </tbody>\n",
              "</table>\n",
              "</div>"
            ],
            "text/plain": [
              "     price  room_bed  room_bath  ...  lot_measure15  furnished  total_area\n",
              "0   808100         4       3.25  ...           7553          1       16477\n",
              "1   277500         4       2.50  ...           8800          0       10050\n",
              "2   404000         3       2.50  ...           4348          0        6694\n",
              "3   300000         2       1.00  ...           3844          0        4664\n",
              "4   699000         2       1.50  ...           5940          0        5450\n",
              "5   585000         3       2.50  ...          10172          1       13740\n",
              "6   465000         3       1.75  ...           6360          0        7840\n",
              "7   480000         3       1.50  ...          15999          0       69369\n",
              "8   780000         4       2.00  ...           3505          0        7400\n",
              "9   215000         4       1.00  ...           7379          0        8530\n",
              "10  402000         2       1.00  ...           5100          0        5810\n",
              "11  299000         4       2.50  ...           6395          1        9308\n",
              "12  785000         4       2.50  ...          44431          1       59632\n",
              "13  865000         4       2.00  ...           1764          0        8277\n",
              "14  554000         5       2.50  ...          10751          0       16340\n",
              "15  361000         3       1.50  ...           7800          0        8436\n",
              "16  459000         4       2.75  ...           6752          1        9390\n",
              "17  200000         3       1.00  ...          11100          0        7080\n",
              "18  403000         2       1.00  ...           3598          0        4698\n",
              "19  327500         3       2.25  ...           7201          0        9510\n",
              "\n",
              "[20 rows x 19 columns]"
            ]
          },
          "metadata": {
            "tags": []
          },
          "execution_count": 53
        }
      ]
    },
    {
      "cell_type": "code",
      "metadata": {
        "id": "7jkxfsoLSa5r",
        "colab_type": "code",
        "colab": {
          "base_uri": "https://localhost:8080/",
          "height": 566
        },
        "outputId": "998405e2-bb67-4266-cbcf-550abe9393ff"
      },
      "source": [
        "#Coralation plot\n",
        "corr = housedata.corr()\n",
        "\n",
        "# Top 40% Corralation train attributes with price\n",
        "top_feature = corr.index[abs(corr['price']>0.5)]\n",
        "plt.subplots(figsize=(12, 8))\n",
        "top_corr = housedata[top_feature].corr()\n",
        "sns.heatmap(top_corr, annot=True)\n",
        "plt.show()"
      ],
      "execution_count": 54,
      "outputs": [
        {
          "output_type": "display_data",
          "data": {
            "image/png": "[encoded data removed]",
            "text/plain": [
              "<Figure size 864x576 with 2 Axes>"
            ]
          },
          "metadata": {
            "tags": []
          }
        }
      ]
    },
    {
      "cell_type": "code",
      "metadata": {
        "id": "6GlBR5bCSa5y",
        "colab_type": "code",
        "colab": {}
      },
      "source": [
        "#Arrange data into independent and dependent variables\n",
        "columns = ['price']\n",
        "X = housedata.drop(columns, axis=1)\n",
        "y = housedata.price"
      ],
      "execution_count": 0,
      "outputs": []
    },
    {
      "cell_type": "code",
      "metadata": {
        "id": "SacGOL_0Sa56",
        "colab_type": "code",
        "colab": {}
      },
      "source": [
        "from sklearn.feature_selection import RFE\n",
        "from sklearn.linear_model import LogisticRegression\n",
        "#mydata.iloc[16785]\n",
        "\n",
        "model = LogisticRegression()\n",
        "rfe = RFE(model, 10)\n",
        "rfe = rfe.fit(X, y)"
      ],
      "execution_count": 0,
      "outputs": []
    },
    {
      "cell_type": "code",
      "metadata": {
        "id": "HGZYLICJSa6D",
        "colab_type": "code",
        "colab": {
          "base_uri": "https://localhost:8080/",
          "height": 68
        },
        "outputId": "63608286-2eab-4ec7-db60-e3d4827e7e77"
      },
      "source": [
        "# summarize the selection of the attributes\n",
        "print(rfe.support_)\n",
        "print(rfe.ranking_)"
      ],
      "execution_count": 57,
      "outputs": [
        {
          "output_type": "stream",
          "text": [
            "[ True  True False False  True False False  True  True False False False\n",
            " False False False False  True False]\n",
            "[ 1  1  7 10  1  3  2  1  1  8  4  5  6 13  9 12  1 11]\n"
          ],
          "name": "stdout"
        }
      ]
    },
    {
      "cell_type": "code",
      "metadata": {
        "id": "Xk73V5WE7LBc",
        "colab_type": "code",
        "colab": {}
      },
      "source": [
        "X = X.loc[:, rfe.support_]"
      ],
      "execution_count": 0,
      "outputs": []
    },
    {
      "cell_type": "code",
      "metadata": {
        "id": "vmltvr8z6zqu",
        "colab_type": "code",
        "colab": {
          "base_uri": "https://localhost:8080/",
          "height": 204
        },
        "outputId": "64921b01-c94d-4632-de07-1932211b987a"
      },
      "source": [
        "X.head()"
      ],
      "execution_count": 80,
      "outputs": [
        {
          "output_type": "execute_result",
          "data": {
            "text/html": [
              "<div>\n",
              "<style scoped>\n",
              "    .dataframe tbody tr th:only-of-type {\n",
              "        vertical-align: middle;\n",
              "    }\n",
              "\n",
              "    .dataframe tbody tr th {\n",
              "        vertical-align: top;\n",
              "    }\n",
              "\n",
              "    .dataframe thead th {\n",
              "        text-align: right;\n",
              "    }\n",
              "</style>\n",
              "<table border=\"1\" class=\"dataframe\">\n",
              "  <thead>\n",
              "    <tr style=\"text-align: right;\">\n",
              "      <th></th>\n",
              "      <th>room_bed</th>\n",
              "      <th>room_bath</th>\n",
              "      <th>ceil</th>\n",
              "      <th>condition</th>\n",
              "      <th>quality</th>\n",
              "      <th>furnished</th>\n",
              "    </tr>\n",
              "  </thead>\n",
              "  <tbody>\n",
              "    <tr>\n",
              "      <th>0</th>\n",
              "      <td>4</td>\n",
              "      <td>3.25</td>\n",
              "      <td>1.0</td>\n",
              "      <td>5</td>\n",
              "      <td>9</td>\n",
              "      <td>1</td>\n",
              "    </tr>\n",
              "    <tr>\n",
              "      <th>1</th>\n",
              "      <td>4</td>\n",
              "      <td>2.50</td>\n",
              "      <td>1.0</td>\n",
              "      <td>3</td>\n",
              "      <td>8</td>\n",
              "      <td>0</td>\n",
              "    </tr>\n",
              "    <tr>\n",
              "      <th>2</th>\n",
              "      <td>3</td>\n",
              "      <td>2.50</td>\n",
              "      <td>2.0</td>\n",
              "      <td>3</td>\n",
              "      <td>8</td>\n",
              "      <td>0</td>\n",
              "    </tr>\n",
              "    <tr>\n",
              "      <th>3</th>\n",
              "      <td>2</td>\n",
              "      <td>1.00</td>\n",
              "      <td>1.0</td>\n",
              "      <td>4</td>\n",
              "      <td>6</td>\n",
              "      <td>0</td>\n",
              "    </tr>\n",
              "    <tr>\n",
              "      <th>4</th>\n",
              "      <td>2</td>\n",
              "      <td>1.50</td>\n",
              "      <td>1.0</td>\n",
              "      <td>4</td>\n",
              "      <td>8</td>\n",
              "      <td>0</td>\n",
              "    </tr>\n",
              "  </tbody>\n",
              "</table>\n",
              "</div>"
            ],
            "text/plain": [
              "   room_bed  room_bath  ceil  condition  quality  furnished\n",
              "0         4       3.25   1.0          5        9          1\n",
              "1         4       2.50   1.0          3        8          0\n",
              "2         3       2.50   2.0          3        8          0\n",
              "3         2       1.00   1.0          4        6          0\n",
              "4         2       1.50   1.0          4        8          0"
            ]
          },
          "metadata": {
            "tags": []
          },
          "execution_count": 80
        }
      ]
    },
    {
      "cell_type": "markdown",
      "metadata": {
        "id": "qOiUJ4y2Sa6J",
        "colab_type": "text"
      },
      "source": [
        "#### Log Transform"
      ]
    },
    {
      "cell_type": "code",
      "metadata": {
        "id": "LUya25ApSa6L",
        "colab_type": "code",
        "colab": {}
      },
      "source": [
        "# #we use log function which is in numpy\n",
        "# y['price'] = np.log1p(y['price'])\n",
        "# X['living_measure'] = np.log1p(X['living_measure'])\n",
        "# X['ceil_measure'] = np.log1p(X['ceil_measure'])\n",
        "# X['living_measure15'] = np.log1p(X['living_measure15'])\n",
        "# X['lot_measure'] = np.log1p(X['lot_measure'])\n",
        "# X['total_area'] = np.log1p(X['total_area'])\n",
        "# X['lot_measure15'] = np.log1p(X['lot_measure15'])\n",
        "# # X['basement'] = np.log1p(X['basement'])\n",
        "\n",
        "\n",
        "# #Check again for more normal distribution\n",
        "# plt.subplots(figsize=(12,9))\n",
        "# sns.distplot(y['price'], fit=stats.norm)\n",
        "\n",
        "# # Get the fitted parameters used by the function\n",
        "# (mu, sigma) = stats.norm.fit(y['price'])\n",
        "\n",
        "# # plot with the distribution\n",
        "# plt.legend(['Normal dist. ($\\mu=$ {:.2f} and $\\sigma=$ {:.2f} )'.format(mu, sigma)], loc='best')\n",
        "# plt.ylabel('Frequency')\n",
        "\n",
        "# #Probablity plot\n",
        "# fig = plt.figure()\n",
        "# stats.probplot(y['price'], plot=plt)\n",
        "# plt.show()"
      ],
      "execution_count": 0,
      "outputs": []
    },
    {
      "cell_type": "markdown",
      "metadata": {
        "id": "6jbzQPCoSa6R",
        "colab_type": "text"
      },
      "source": [
        "**Observation**\n",
        "- Performance of model is degraded after Log transform\n",
        "- Hence avoiding this"
      ]
    },
    {
      "cell_type": "markdown",
      "metadata": {
        "id": "skUFoLYiSa6S",
        "colab_type": "text"
      },
      "source": [
        "#### Z Score "
      ]
    },
    {
      "cell_type": "code",
      "metadata": {
        "id": "myabdwtnSa6W",
        "colab_type": "code",
        "colab": {}
      },
      "source": [
        "# X = X.apply(zscore)\n",
        "# X.describe()"
      ],
      "execution_count": 0,
      "outputs": []
    },
    {
      "cell_type": "markdown",
      "metadata": {
        "id": "FFsx2wa0Sa6a",
        "colab_type": "text"
      },
      "source": [
        "#### MinMaxScalar"
      ]
    },
    {
      "cell_type": "code",
      "metadata": {
        "id": "vFFs26SBSa6b",
        "colab_type": "code",
        "colab": {}
      },
      "source": [
        "from sklearn.preprocessing import  MinMaxScaler\n",
        "\n",
        "col = X.columns.tolist()\n",
        "mm_scaler = MinMaxScaler().fit(X)\n",
        "X = pd.DataFrame(mm_scaler.transform(X),columns=col)"
      ],
      "execution_count": 0,
      "outputs": []
    },
    {
      "cell_type": "code",
      "metadata": {
        "id": "RzzDYwIJSa6k",
        "colab_type": "code",
        "colab": {}
      },
      "source": [
        "X.head()"
      ],
      "execution_count": 0,
      "outputs": []
    },
    {
      "cell_type": "markdown",
      "metadata": {
        "id": "kzK-qbBvSa6o",
        "colab_type": "text"
      },
      "source": [
        "#### Feature Scoring"
      ]
    },
    {
      "cell_type": "code",
      "metadata": {
        "id": "rgsvuZBlSa6p",
        "colab_type": "code",
        "colab": {}
      },
      "source": [
        "from sklearn.feature_selection import SelectKBest\n",
        "#from sklearn.feature_selection import chi2\n",
        "\n",
        "#apply SelectKBest class to extract top 10 best features\n",
        "bestfeatures = SelectKBest( k ='all')\n",
        "fit = bestfeatures.fit(X,y)\n",
        "dfscores = pd.DataFrame(fit.scores_)\n",
        "dfcolumns = pd.DataFrame(X.columns)\n",
        "#concat two dataframes for better visualization \n",
        "featureScores = pd.concat([dfcolumns,dfscores],axis=1)\n",
        "featureScores.columns = ['Specs','Score']  #naming the dataframe columns\n",
        "print(featureScores.nlargest(16,'Score'))  #print 10 best features"
      ],
      "execution_count": 0,
      "outputs": []
    },
    {
      "cell_type": "code",
      "metadata": {
        "id": "IejQgm-bSa6u",
        "colab_type": "code",
        "colab": {}
      },
      "source": [
        "#Removing less scored features\n",
        "columns=['lot_measure','lot_measure15','total_area']\n",
        "mydata = mydata.drop(columns, axis=1)\n",
        "mydata.head()"
      ],
      "execution_count": 0,
      "outputs": []
    },
    {
      "cell_type": "markdown",
      "metadata": {
        "id": "GnnuJFpxSa60",
        "colab_type": "text"
      },
      "source": [
        "**Observations**\n",
        "- Using Feature scoring we are able to find less imporatnt features\n",
        "- Removed last 3 features from data set('lot_measure','lot_measure15','total_area')"
      ]
    },
    {
      "cell_type": "markdown",
      "metadata": {
        "id": "l7Sb7RPeSa63",
        "colab_type": "text"
      },
      "source": [
        "#### PCA"
      ]
    },
    {
      "cell_type": "code",
      "metadata": {
        "id": "uNtyFVCzSa63",
        "colab_type": "code",
        "colab": {}
      },
      "source": [
        "# #Fitting the PCA algorithm with our Data\n",
        "# pca = PCA().fit(X)\n",
        "# #Plotting the Cumulative Summation of the Explained Variance\n",
        "# plt.figure()\n",
        "# plt.plot(np.cumsum(pca.explained_variance_ratio_))\n",
        "# plt.xlabel('Number of Components')\n",
        "# plt.ylabel('Variance (%)') #for each component\n",
        "# plt.title('Dataset Explained Variance')\n",
        "# plt.show()"
      ],
      "execution_count": 0,
      "outputs": []
    },
    {
      "cell_type": "code",
      "metadata": {
        "id": "ygmzzNkwSa67",
        "colab_type": "code",
        "colab": {}
      },
      "source": [
        "# pca = PCA(n_components=10)\n",
        "# mydata_pca = pca.fit_transform(X)\n",
        "# mydata_df = pd.DataFrame(mydata_pca)  "
      ],
      "execution_count": 0,
      "outputs": []
    },
    {
      "cell_type": "code",
      "metadata": {
        "id": "y2Pr3MKSSa69",
        "colab_type": "code",
        "colab": {}
      },
      "source": [
        "# #Testing PCA with Linear Regression\n",
        "# #Split data into Train and test\n",
        "# #Size of test data is 30% of original data\n",
        "# X_train, X_test, y_train, y_test = train_test_split(mydata_df, y, test_size=0.30, random_state=1)\n",
        "\n",
        "# regression_model = LinearRegression()\n",
        "# regression_model.fit(X_train, y_train)\n",
        "# print(regression_model.score(X_train, y_train))\n",
        "# print(regression_model.score(X_test, y_test))"
      ],
      "execution_count": 0,
      "outputs": []
    },
    {
      "cell_type": "code",
      "metadata": {
        "id": "5c0ggLpYSa6_",
        "colab_type": "code",
        "colab": {}
      },
      "source": [
        "# # Test with Support Vector Regresser\n",
        "# from sklearn.svm import SVR\n",
        "# svc_model = SVR(C= .5,kernel='linear',gamma=1)\n",
        "# svc_model.fit(X_train, y_train)\n",
        "\n",
        "# prediction = svc_model.predict(X_test)\n",
        "# #print(prediction)\n",
        "# #print(svc_model.support_vectors_)\n",
        "\n",
        "# print(svc_model.score(X_test, y_test))\n",
        "# print(svc_model.score(X_train, y_train))"
      ],
      "execution_count": 0,
      "outputs": []
    },
    {
      "cell_type": "markdown",
      "metadata": {
        "id": "FpivdGQ1Sa7G",
        "colab_type": "text"
      },
      "source": [
        "#### Observation\n",
        "- PCA reduced number of dimensions to 8\n",
        "- But performance of model is not upto the mark"
      ]
    },
    {
      "cell_type": "markdown",
      "metadata": {
        "id": "PVzbuQLdSa7M",
        "colab_type": "text"
      },
      "source": [
        "### Generte Polynomial Model"
      ]
    },
    {
      "cell_type": "code",
      "metadata": {
        "id": "duyJl2PNSa7N",
        "colab_type": "code",
        "colab": {}
      },
      "source": [
        "# from sklearn.preprocessing import PolynomialFeatures\n",
        "\n",
        "# poly = PolynomialFeatures(degree = 2, interaction_only=True)\n",
        "\n",
        "# X_poly = poly.fit_transform(X)\n",
        "# X_te, X_test, y_te, y_test = train_test_split(X_poly, y, test_size=0.20, random_state=1)\n",
        "# X_train, X_val, y_train, y_val = train_test_split(X_te, y_te, test_size=0.20, random_state=1)\n",
        "# X_train.shape"
      ],
      "execution_count": 0,
      "outputs": []
    },
    {
      "cell_type": "code",
      "metadata": {
        "id": "7g7aIhgrSa7U",
        "colab_type": "code",
        "colab": {}
      },
      "source": [
        "# #Fit linear modelon poly features\n",
        "# regression_model.fit(X_train, y_train)\n",
        "# print(regression_model.coef_[0])"
      ],
      "execution_count": 0,
      "outputs": []
    },
    {
      "cell_type": "code",
      "metadata": {
        "id": "T0T66bcmSa7W",
        "colab_type": "code",
        "colab": {}
      },
      "source": [
        "# print(regression_model.score(X_train, y_train))\n",
        "# print(regression_model.score(X_val, y_val))"
      ],
      "execution_count": 0,
      "outputs": []
    },
    {
      "cell_type": "markdown",
      "metadata": {
        "id": "7L3QVTYSSa7c",
        "colab_type": "text"
      },
      "source": [
        "**Observations**\n",
        "- Polynomial features is not giving good results\n",
        "- Hence ignoring this"
      ]
    },
    {
      "cell_type": "markdown",
      "metadata": {
        "id": "Gvyl7-7BSa7c",
        "colab_type": "text"
      },
      "source": [
        "## Modelling"
      ]
    },
    {
      "cell_type": "code",
      "metadata": {
        "id": "cLNgaYIHSa7e",
        "colab_type": "code",
        "colab": {}
      },
      "source": [
        "from sklearn.metrics import r2_score, mean_squared_error\n",
        "\n",
        "# Arrange data into independent and dependent variables\n",
        "# X = mydata.drop('price', axis=1)\n",
        "# y = mydata[['price']]"
      ],
      "execution_count": 0,
      "outputs": []
    },
    {
      "cell_type": "code",
      "metadata": {
        "id": "g5E5GQgYSa7i",
        "colab_type": "code",
        "colab": {}
      },
      "source": [
        "# #Split data into Train and test\n",
        "# #Size of test data is 30% of original data\n",
        "X_train, X_test, y_train, y_test = train_test_split(X, y, test_size=0.30, random_state=1)"
      ],
      "execution_count": 0,
      "outputs": []
    },
    {
      "cell_type": "markdown",
      "metadata": {
        "id": "FaxwVTYtSa7n",
        "colab_type": "text"
      },
      "source": [
        "#### Linear Regression"
      ]
    },
    {
      "cell_type": "code",
      "metadata": {
        "id": "2qkGTFkaSa7n",
        "colab_type": "code",
        "colab": {
          "base_uri": "https://localhost:8080/",
          "height": 34
        },
        "outputId": "e8cfe076-4e3a-41e3-ffc9-1c99853f3172"
      },
      "source": [
        "# invoke the LinearRegression function and find the bestfit model on training data\n",
        "\n",
        "regression_model = LinearRegression()\n",
        "regression_model.fit(X_train, y_train)\n"
      ],
      "execution_count": 82,
      "outputs": [
        {
          "output_type": "execute_result",
          "data": {
            "text/plain": [
              "LinearRegression(copy_X=True, fit_intercept=True, n_jobs=None, normalize=False)"
            ]
          },
          "metadata": {
            "tags": []
          },
          "execution_count": 82
        }
      ]
    },
    {
      "cell_type": "code",
      "metadata": {
        "id": "nJVOpl2DSa7q",
        "colab_type": "code",
        "colab": {
          "base_uri": "https://localhost:8080/",
          "height": 51
        },
        "outputId": "3e55e939-470e-4255-f0d1-4fa2a5b657e8"
      },
      "source": [
        "\n",
        "print(regression_model.score(X_train, y_train))\n",
        "print(regression_model.score(X_test, y_test))"
      ],
      "execution_count": 83,
      "outputs": [
        {
          "output_type": "stream",
          "text": [
            "0.4849708236255531\n",
            "0.4895446166646384\n"
          ],
          "name": "stdout"
        }
      ]
    },
    {
      "cell_type": "code",
      "metadata": {
        "id": "BW8aeEumSa7r",
        "colab_type": "code",
        "colab": {
          "base_uri": "https://localhost:8080/",
          "height": 102
        },
        "outputId": "cab65595-34f7-4dd4-da2f-f7390f0d6013"
      },
      "source": [
        "ridge = Ridge()\n",
        "ridge.fit(X_train, y_train)\n",
        "print (\"Ridge model :\",(ridge.coef_))\n",
        "print ('')\n",
        "print(ridge.score(X_train, y_train))\n",
        "print(ridge.score(X_test, y_test))"
      ],
      "execution_count": 84,
      "outputs": [
        {
          "output_type": "stream",
          "text": [
            "Ridge model : [  5808.05280017  84227.29790772 -48585.00674879  68445.08657152\n",
            " 153245.56403143 120631.03632168]\n",
            "\n",
            "0.48497081786474094\n",
            "0.4895448570747951\n"
          ],
          "name": "stdout"
        }
      ]
    },
    {
      "cell_type": "code",
      "metadata": {
        "id": "9jdmU_DRSa7t",
        "colab_type": "code",
        "colab": {
          "base_uri": "https://localhost:8080/",
          "height": 102
        },
        "outputId": "e63175ba-2e85-432d-dfec-dcb8f54e6fa6"
      },
      "source": [
        "lasso = Lasso(alpha=0.1)\n",
        "lasso.fit(X_train, y_train)\n",
        "print (\"Lasso model :\",(lasso.coef_))\n",
        "print ('')\n",
        "print(lasso.score(X_train, y_train))\n",
        "print(lasso.score(X_test, y_test))"
      ],
      "execution_count": 85,
      "outputs": [
        {
          "output_type": "stream",
          "text": [
            "Lasso model : [  5800.77057122  84244.35653702 -48609.53641393  68455.38695478\n",
            " 153229.76411039 120719.92900058]\n",
            "\n",
            "0.4849708236239709\n",
            "0.48954460998843163\n"
          ],
          "name": "stdout"
        }
      ]
    },
    {
      "cell_type": "code",
      "metadata": {
        "id": "6HQxGwAhSa7u",
        "colab_type": "code",
        "colab": {
          "base_uri": "https://localhost:8080/",
          "height": 248
        },
        "outputId": "b2379137-4aa6-4eb9-8270-9d2811535b20"
      },
      "source": [
        "#Make predictions using predict\n",
        "predictions = regression_model.predict(X_test)\n",
        "\n",
        "r2 = r2_score(y_test, predictions)\n",
        "mse = mean_squared_error(y_test, predictions)\n",
        "print('r^2: ', r2)\n",
        "print(\"MSE: \", mse)\n",
        "\n",
        "\n",
        "#Log metrics\n",
        "dictn = {\"Linear Regression Train Accuracy\":Train_score,\"Linear Regression Test Accuracy\":Test_score,\"LR r^2\":r2,\"LR MSE\":mse}\n",
        "Experiment.log_metrics(experiment, dictn)"
      ],
      "execution_count": 86,
      "outputs": [
        {
          "output_type": "stream",
          "text": [
            "r^2:  0.48954461666463844\n",
            "MSE:  68693992877.87254\n"
          ],
          "name": "stdout"
        },
        {
          "output_type": "error",
          "ename": "NameError",
          "evalue": "ignored",
          "traceback": [
            "\u001b[0;31m---------------------------------------------------------------------------\u001b[0m",
            "\u001b[0;31mNameError\u001b[0m                                 Traceback (most recent call last)",
            "\u001b[0;32m<ipython-input-86-8cb5170e95ce>\u001b[0m in \u001b[0;36m<module>\u001b[0;34m()\u001b[0m\n\u001b[1;32m      8\u001b[0m \u001b[0;34m\u001b[0m\u001b[0m\n\u001b[1;32m      9\u001b[0m \u001b[0;31m#Log metrics\u001b[0m\u001b[0;34m\u001b[0m\u001b[0;34m\u001b[0m\u001b[0;34m\u001b[0m\u001b[0m\n\u001b[0;32m---> 10\u001b[0;31m \u001b[0mdictn\u001b[0m \u001b[0;34m=\u001b[0m \u001b[0;34m{\u001b[0m\u001b[0;34m\"Linear Regression Train Accuracy\"\u001b[0m\u001b[0;34m:\u001b[0m\u001b[0mTrain_score\u001b[0m\u001b[0;34m,\u001b[0m\u001b[0;34m\"Linear Regression Test Accuracy\"\u001b[0m\u001b[0;34m:\u001b[0m\u001b[0mTest_score\u001b[0m\u001b[0;34m,\u001b[0m\u001b[0;34m\"LR r^2\"\u001b[0m\u001b[0;34m:\u001b[0m\u001b[0mr2\u001b[0m\u001b[0;34m,\u001b[0m\u001b[0;34m\"LR MSE\"\u001b[0m\u001b[0;34m:\u001b[0m\u001b[0mmse\u001b[0m\u001b[0;34m}\u001b[0m\u001b[0;34m\u001b[0m\u001b[0;34m\u001b[0m\u001b[0m\n\u001b[0m\u001b[1;32m     11\u001b[0m \u001b[0mExperiment\u001b[0m\u001b[0;34m.\u001b[0m\u001b[0mlog_metrics\u001b[0m\u001b[0;34m(\u001b[0m\u001b[0mexperiment\u001b[0m\u001b[0;34m,\u001b[0m \u001b[0mdictn\u001b[0m\u001b[0;34m)\u001b[0m\u001b[0;34m\u001b[0m\u001b[0;34m\u001b[0m\u001b[0m\n",
            "\u001b[0;31mNameError\u001b[0m: name 'Train_score' is not defined"
          ]
        }
      ]
    },
    {
      "cell_type": "markdown",
      "metadata": {
        "id": "8U4Lr0_CSa7w",
        "colab_type": "text"
      },
      "source": [
        "#### SVM"
      ]
    },
    {
      "cell_type": "code",
      "metadata": {
        "id": "QSc4qu6ISa7x",
        "colab_type": "code",
        "colab": {
          "base_uri": "https://localhost:8080/",
          "height": 51
        },
        "outputId": "7f796d61-2a0a-49d5-cea4-655c8cda73fb"
      },
      "source": [
        "# Test with Support Vector Regresser\n",
        "from sklearn.svm import SVR\n",
        "svc_model = SVR(C= .5,kernel='linear',gamma=1)\n",
        "svc_model.fit(X_train, y_train)\n",
        "\n",
        "prediction = svc_model.predict(X_test)\n",
        "#print(prediction)\n",
        "#print(svc_model.support_vectors_)\n",
        "\n",
        "print(svc_model.score(X_test, y_test))\n",
        "print(svc_model.score(X_train, y_train))"
      ],
      "execution_count": 87,
      "outputs": [
        {
          "output_type": "stream",
          "text": [
            "-0.02484197117470055\n",
            "-0.02809660852057405\n"
          ],
          "name": "stdout"
        }
      ]
    },
    {
      "cell_type": "markdown",
      "metadata": {
        "id": "IvV16pTpSa74",
        "colab_type": "text"
      },
      "source": [
        "#### Decision Tree"
      ]
    },
    {
      "cell_type": "code",
      "metadata": {
        "id": "_U5G6BBHSa74",
        "colab_type": "code",
        "colab": {
          "base_uri": "https://localhost:8080/",
          "height": 51
        },
        "outputId": "189e9c60-baac-4de2-ba4f-25a5e309aa79"
      },
      "source": [
        "from sklearn.tree import DecisionTreeRegressor\n",
        "df_model = DecisionTreeRegressor(criterion='friedman_mse', max_depth=10, min_samples_split=2,max_features=6,random_state=1)\n",
        "df_model.fit(X_train, y_train)\n",
        "\n",
        "Train_score = df_model.score(X_train, y_train)\n",
        "Test_score = df_model.score(X_test,y_test)\n",
        "\n",
        "print(Train_score)\n",
        "print(Test_score)"
      ],
      "execution_count": 89,
      "outputs": [
        {
          "output_type": "stream",
          "text": [
            "0.6841106629024278\n",
            "0.4864245466293171\n"
          ],
          "name": "stdout"
        }
      ]
    },
    {
      "cell_type": "code",
      "metadata": {
        "id": "CSBh1FAHSa76",
        "colab_type": "code",
        "colab": {
          "base_uri": "https://localhost:8080/",
          "height": 51
        },
        "outputId": "1e0ee86f-b867-4265-a38a-3c61b1fbd462"
      },
      "source": [
        "#Make predictions using predict\n",
        "predictions = df_model.predict(X_test)\n",
        "\n",
        "r2 = r2_score(y_test, predictions)\n",
        "mse = mean_squared_error(y_test, predictions)\n",
        "print('r^2: ', r2)\n",
        "print(\"MSE: \", mse)\n",
        "\n",
        "#Log metrics\n",
        "dictn = {\"Decision Tree Test Accuracy\":Train_score,\"Decision Tree Train Accuracy\":Test_score,\"DT r^2\":r2,\"DT MSE\":mse}\n",
        "#Experiment.log_metrics(experiment, dictn, prefix=None, step=None, epoch=None)"
      ],
      "execution_count": 91,
      "outputs": [
        {
          "output_type": "stream",
          "text": [
            "r^2:  0.4864245466293171\n",
            "MSE:  69113873000.17505\n"
          ],
          "name": "stdout"
        }
      ]
    },
    {
      "cell_type": "markdown",
      "metadata": {
        "id": "f9C5DFYGSa77",
        "colab_type": "text"
      },
      "source": [
        "#### Random Forest"
      ]
    },
    {
      "cell_type": "code",
      "metadata": {
        "id": "qIfwfvnfSa78",
        "colab_type": "code",
        "colab": {
          "base_uri": "https://localhost:8080/",
          "height": 51
        },
        "outputId": "bb51d31c-2453-4cbb-8670-a81d316c4e03"
      },
      "source": [
        "from sklearn.ensemble import RandomForestRegressor\n",
        "rfcl = RandomForestRegressor(max_depth=10, n_estimators = 10)\n",
        "rfcl = rfcl.fit(X_train, y_train)\n",
        "\n",
        "# Accuracy of train and test data\n",
        "Train_score = rfcl.score(X_train, y_train)\n",
        "Test_score = rfcl.score(X_test,y_test)\n",
        "\n",
        "print(Train_score)\n",
        "print(Test_score)"
      ],
      "execution_count": 92,
      "outputs": [
        {
          "output_type": "stream",
          "text": [
            "0.6820351425077156\n",
            "0.5855465041997632\n"
          ],
          "name": "stdout"
        }
      ]
    },
    {
      "cell_type": "code",
      "metadata": {
        "id": "aB7OgWO7Sa7-",
        "colab_type": "code",
        "colab": {
          "base_uri": "https://localhost:8080/",
          "height": 51
        },
        "outputId": "ae20d38b-a415-4b06-a2de-f54e0a68e36d"
      },
      "source": [
        "#Make predictions using predict\n",
        "predictions = rfcl.predict(X_test)\n",
        "\n",
        "r2 = r2_score(y_test, predictions)\n",
        "mse = mean_squared_error(y_test, predictions)\n",
        "print('r^2: ', r2)\n",
        "print(\"MSE: \", mse)\n",
        "\n",
        "\n",
        "#Log metrics\n",
        "dictn = {\"Random Forest Train Accuracy\":Train_score,\"Random Forest Test Accuracy\":Test_score,\"RF r^2\":r2,\"RF MSE\":mse}\n",
        "#Experiment.log_metrics(experiment, dictn)"
      ],
      "execution_count": 93,
      "outputs": [
        {
          "output_type": "stream",
          "text": [
            "r^2:  0.5855465041997632\n",
            "MSE:  55774640484.1149\n"
          ],
          "name": "stdout"
        }
      ]
    },
    {
      "cell_type": "markdown",
      "metadata": {
        "id": "YvztMo0HSa8B",
        "colab_type": "text"
      },
      "source": [
        "#### Bagging"
      ]
    },
    {
      "cell_type": "code",
      "metadata": {
        "id": "hQp6yDbSSa8C",
        "colab_type": "code",
        "colab": {
          "base_uri": "https://localhost:8080/",
          "height": 34
        },
        "outputId": "0690efa1-7adf-4ee4-d93d-2963c65ce7e7"
      },
      "source": [
        "from sklearn.ensemble import BaggingRegressor\n",
        "bgcl = BaggingRegressor(n_estimators=60, max_samples=.4 , oob_score=True)\n",
        "\n",
        "bgcl = bgcl.fit(X, y)\n",
        "print(bgcl.oob_score_)"
      ],
      "execution_count": 94,
      "outputs": [
        {
          "output_type": "stream",
          "text": [
            "0.5758573260832885\n"
          ],
          "name": "stdout"
        }
      ]
    },
    {
      "cell_type": "markdown",
      "metadata": {
        "id": "WPd5MCI6Sa8M",
        "colab_type": "text"
      },
      "source": [
        "#### Ada Boosting"
      ]
    },
    {
      "cell_type": "code",
      "metadata": {
        "id": "UGtCmqPqSa8N",
        "colab_type": "code",
        "colab": {
          "base_uri": "https://localhost:8080/",
          "height": 51
        },
        "outputId": "fba519e7-a28b-4272-d36e-9d70f7581687"
      },
      "source": [
        "from sklearn.ensemble import AdaBoostRegressor\n",
        "abcl = AdaBoostRegressor(base_estimator=rfcl, n_estimators=20)\n",
        "abcl = abcl.fit(X_train, y_train)\n",
        "\n",
        "Train_score = abcl.score(X_test , y_test)\n",
        "Test_score = abcl.score(X_train , y_train)\n",
        "\n",
        "\n",
        "print (Train_score)\n",
        "print (Test_score)"
      ],
      "execution_count": 95,
      "outputs": [
        {
          "output_type": "stream",
          "text": [
            "0.5469412252475001\n",
            "0.6563448113285772\n"
          ],
          "name": "stdout"
        }
      ]
    },
    {
      "cell_type": "code",
      "metadata": {
        "id": "gMzGm-EpSa8P",
        "colab_type": "code",
        "colab": {
          "base_uri": "https://localhost:8080/",
          "height": 51
        },
        "outputId": "6486d5a6-2032-4079-db9b-f2426e03230e"
      },
      "source": [
        "#Make predictions using predict\n",
        "predictions = abcl.predict(X_test)\n",
        "\n",
        "r2 = r2_score(y_test, predictions)\n",
        "mse = mean_squared_error(y_test, predictions)\n",
        "print('r^2: ', r2)\n",
        "print(\"MSE: \", mse)\n",
        "\n",
        "\n",
        "#Log metrics\n",
        "dictn = {\"Ada Boosting Train Accuracy\":Train_score,\"Ada Boosting Test Accuracy\":Test_score,\" AB r^2\":r2,\"AB MSE\":mse}\n",
        "# Experiment.log_metrics(experiment, dictn)"
      ],
      "execution_count": 96,
      "outputs": [
        {
          "output_type": "stream",
          "text": [
            "r^2:  0.5469412252475001\n",
            "MSE:  60969905034.1074\n"
          ],
          "name": "stdout"
        }
      ]
    },
    {
      "cell_type": "markdown",
      "metadata": {
        "id": "dsYtNuSVSa8S",
        "colab_type": "text"
      },
      "source": [
        "#### Gradient Boost"
      ]
    },
    {
      "cell_type": "code",
      "metadata": {
        "id": "M9oZTgWQSa8T",
        "colab_type": "code",
        "colab": {
          "base_uri": "https://localhost:8080/",
          "height": 51
        },
        "outputId": "002d87bb-b455-4706-e604-a488532884c5"
      },
      "source": [
        "from sklearn.ensemble import GradientBoostingRegressor\n",
        "gbcl = GradientBoostingRegressor(n_estimators = 20, learning_rate = 0.09, max_depth=10)\n",
        "gbcl = gbcl.fit(X_train, y_train)\n",
        "\n",
        "\n",
        "# Accuracy of test data\n",
        "\n",
        "Train_score = gbcl.score(X_test , y_test)\n",
        "Test_score = gbcl.score(X_train , y_train)\n",
        "                        \n",
        "print(Train_score)\n",
        "print(Test_score)\n"
      ],
      "execution_count": 97,
      "outputs": [
        {
          "output_type": "stream",
          "text": [
            "0.5433097561909255\n",
            "0.6867087293884806\n"
          ],
          "name": "stdout"
        }
      ]
    },
    {
      "cell_type": "code",
      "metadata": {
        "id": "pe8ZrY99Sa8a",
        "colab_type": "code",
        "colab": {
          "base_uri": "https://localhost:8080/",
          "height": 51
        },
        "outputId": "9136fc3f-54ba-4175-b460-36a563f27315"
      },
      "source": [
        "#Make predictions using predict\n",
        "predictions = gbcl.predict(X_test)\n",
        "\n",
        "r2 = r2_score(y_test, predictions)\n",
        "mse = mean_squared_error(y_test, predictions)\n",
        "print('r^2: ', r2)\n",
        "print(\"MSE: \", mse)\n",
        "\n",
        "\n",
        "#Log metrics\n",
        "dictn = {\"Gradient Boosting Train Accuracy\":Train_score,\"Gradient Boosting Test Accuracy\":Test_score,\"GB r^2\":r2,\"GB MSE\":mse}\n",
        "# Experiment.log_metrics(experiment, dictn)"
      ],
      "execution_count": 98,
      "outputs": [
        {
          "output_type": "stream",
          "text": [
            "r^2:  0.5433097561909255\n",
            "MSE:  61458606138.36172\n"
          ],
          "name": "stdout"
        }
      ]
    },
    {
      "cell_type": "markdown",
      "metadata": {
        "id": "ahb6ADY4Sa8f",
        "colab_type": "text"
      },
      "source": [
        "**Observations**\n",
        "- "
      ]
    },
    {
      "cell_type": "markdown",
      "metadata": {
        "id": "y7Gl_WvUSa8g",
        "colab_type": "text"
      },
      "source": [
        "- R2 and MSE of each model \n",
        "         Linear Regression   0.6529320578456257    0.0008033333135331185\n",
        "         Decision Tree       0.6204619293806984    0.0008784895948325702\n",
        "         Random Forest       0.7409305094159241    0.0005996495989066953\n",
        "         Ada Boosting        0.7549207773100702    0.0005672673276002274\n",
        "         Gradient Boosting   0.7316905433456805    0.0006210366867318243\n",
        " \n",
        "- It is evident that Random Forest and Ada Boosting are performing better compared to other models\n",
        "- To improve model performance we have tried \n",
        "    - feature scoring\n",
        "    - log transform\n",
        "    - scaling using MinMaxScalar\n",
        "    - standardization using Zscore\n",
        "    - Dimensionality reduction using PCA\n",
        "    "
      ]
    },
    {
      "cell_type": "code",
      "metadata": {
        "id": "XZkWCp20Sa8h",
        "colab_type": "code",
        "colab": {}
      },
      "source": [
        "from sklearn.model_selection import cross_val_score, cross_val_predict, GridSearchCV\n",
        "from sklearn.ensemble import RandomForestRegressor"
      ],
      "execution_count": 0,
      "outputs": []
    },
    {
      "cell_type": "code",
      "metadata": {
        "id": "7jahlocvSa8j",
        "colab_type": "code",
        "colab": {}
      },
      "source": [
        "def rfr_model(X, y):\n",
        "    # Perform Grid-Search\n",
        "    gsc = GridSearchCV(\n",
        "            estimator=RandomForestRegressor(),\n",
        "            param_grid={\n",
        "                'max_depth': range(7,20),\n",
        "                'n_estimators': (10,15,20,25,30,35,40,45,50),\n",
        "            },\n",
        "            cv=5, scoring='neg_mean_squared_error', verbose=0, n_jobs=3\n",
        "            )\n",
        "    \n",
        "    grid_result = gsc.fit(X, y)\n",
        "    best_params = grid_result.best_params_\n",
        "    print (best_params)\n",
        "    rfr = RandomForestRegressor(max_depth=best_params[\"max_depth\"], min_samples_split=2, n_estimators=best_params[\"n_estimators\"], random_state=1, verbose=False)\n",
        "    \n",
        "    # Perform K-Fold CV\n",
        "    scores = cross_val_score(rfr, X, y, cv=5, scoring='neg_mean_absolute_error')\n",
        "    #predictions = cross_val_predict(rfr, X, y, cv=10)\n",
        "    \n",
        "    return scores"
      ],
      "execution_count": 0,
      "outputs": []
    },
    {
      "cell_type": "code",
      "metadata": {
        "id": "wEWqmbVpSa8o",
        "colab_type": "code",
        "colab": {}
      },
      "source": [
        "#rfr_model(X_poly,y)"
      ],
      "execution_count": 0,
      "outputs": []
    },
    {
      "cell_type": "code",
      "metadata": {
        "id": "giniJ6LvSa8s",
        "colab_type": "code",
        "colab": {}
      },
      "source": [
        "rfr_model(X,y)"
      ],
      "execution_count": 0,
      "outputs": []
    },
    {
      "cell_type": "code",
      "metadata": {
        "id": "KvYP63lxSa8u",
        "colab_type": "code",
        "colab": {}
      },
      "source": [
        ""
      ],
      "execution_count": 0,
      "outputs": []
    }
  ]
}