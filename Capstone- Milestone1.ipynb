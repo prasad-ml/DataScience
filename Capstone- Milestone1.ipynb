{
  "nbformat": 4,
  "nbformat_minor": 0,
  "metadata": {
    "kernelspec": {
      "name": "python3",
      "display_name": "Python 3"
    },
    "language_info": {
      "codemirror_mode": {
        "name": "ipython",
        "version": 3
      },
      "file_extension": ".py",
      "mimetype": "text/x-python",
      "name": "python",
      "nbconvert_exporter": "python",
      "pygments_lexer": "ipython3",
      "version": "3.7.3"
    },
    "colab": {
      "name": "Capstone- Milestone1.ipynb",
      "provenance": [],
      "include_colab_link": true
    },
    "accelerator": "GPU"
  },
  "cells": [
    {
      "cell_type": "markdown",
      "metadata": {
        "id": "view-in-github",
        "colab_type": "text"
      },
      "source": [
        "<a href=\"https://colab.research.google.com/github/prasad-ml/DataScience/blob/master/Capstone-%20Milestone1.ipynb\" target=\"_parent\"><img src=\"https://colab.research.google.com/assets/colab-badge.svg\" alt=\"Open In Colab\"/></a>"
      ]
    },
    {
      "cell_type": "markdown",
      "metadata": {
        "id": "57xsAMabSa3R",
        "colab_type": "text"
      },
      "source": [
        "**Problem statement**:\n",
        "\n",
        "A house value is simply more than location and square footage. Like the features that make up a person, an educated party would want to know all aspects that give a house its value. For example, you want to sell a house and you don’t know the price which you can take — it can’t be too low or too high. To find house price you usually try to find similar properties in your neighbourhood and based on gathered data you will try to assess your house price.\n",
        "\n",
        "**Objective**: Take advantage of all of the feature variables available below, use it to analyse and predict house prices.\n",
        "\n",
        "- cid: a notation for a house\n",
        "- dayhours: Date house was sold\n",
        "- price: Price is prediction target\n",
        "- room_bed: Number of Bedrooms/House\n",
        "- room_bath: Number of bathrooms/bedrooms\n",
        "- living_measure: square footage of the home\n",
        "- lot_measure: quare footage of the lot\n",
        "- ceil: Total floors (levels) in house\n",
        "- coast: House which has a view to a waterfront\n",
        "- sight: Has been viewed\n",
        "- condition: How good the condition is (Overall)\n",
        "- quality: grade given to the housing unit, based on grading system\n",
        "- ceil_measure: square footage of house apart from basement\n",
        "- basement_measure: square footage of the basement\n",
        "- yr_built: Built Year\n",
        "- yr_renovated: Year when house was renovated\n",
        "- zipcode: zip\n",
        "- lat: Latitude coordinate\n",
        "- long: Longitude coordinate\n",
        "- living_measure15: Living room area in 2015(implies-- some renovations) This might or might not have affected the lotsize area\n",
        "- lot_measure15: lotSize area in 2015(implies-- some renovations)\n",
        "- furnished: Based on the quality of room\n",
        "- total_area: Measure of both living and lot"
      ]
    },
    {
      "cell_type": "markdown",
      "metadata": {
        "id": "C1rurJCBSa3V",
        "colab_type": "text"
      },
      "source": [
        "### Imports"
      ]
    },
    {
      "cell_type": "code",
      "metadata": {
        "id": "hF8lm7IYSa3Y",
        "colab_type": "code",
        "colab": {}
      },
      "source": [
        "# # import comet_ml to track model performances\n",
        "# from comet_ml import Experiment\n",
        "\n",
        "    \n",
        "# # Add the following code anywhere in your machine learning file\n",
        "# experiment = Experiment(api_key=\"HBFZ14J63ox8YgtKSiEQ6Gqbo\",\n",
        "#                         project_name=\"MLCapstone_1\", workspace=\"prasad-ml\")"
      ],
      "execution_count": 0,
      "outputs": []
    },
    {
      "cell_type": "code",
      "metadata": {
        "id": "G23KSbrASa3h",
        "colab_type": "code",
        "colab": {}
      },
      "source": [
        "# Numerical calculation\n",
        "import numpy as np\n",
        "from scipy.stats import zscore\n",
        "from scipy import stats\n",
        "import warnings\n",
        "\n",
        "# Data handling\n",
        "import pandas as pd\n",
        "\n",
        "# Data Visualization\n",
        "import matplotlib.pyplot as plt\n",
        "import seaborn as sns\n",
        "\n",
        "# Sample and parameter tuning\n",
        "from sklearn.model_selection import train_test_split\n",
        "\n",
        "# Feature Engineering\n",
        "from sklearn.decomposition import PCA\n",
        "\n",
        "# Import Linear Regression machine learning library\n",
        "from sklearn.linear_model import LinearRegression,Ridge, Lasso"
      ],
      "execution_count": 0,
      "outputs": []
    },
    {
      "cell_type": "markdown",
      "metadata": {
        "id": "XdkRZxERSa3m",
        "colab_type": "text"
      },
      "source": [
        "### Load Dataset"
      ]
    },
    {
      "cell_type": "code",
      "metadata": {
        "id": "wMCPcko5Sa3q",
        "colab_type": "code",
        "colab": {}
      },
      "source": [
        "warnings.filterwarnings('ignore')\n",
        "# Load the dataset into a Pandas dataframe called housedata\n",
        "housedata = pd.read_csv('https://github.com/prasad-ml/DataScience/raw/master/innercity.csv')\n",
        "\n",
        "# Save an original copy of the dataframe\n",
        "housedata_original = housedata.copy()"
      ],
      "execution_count": 0,
      "outputs": []
    },
    {
      "cell_type": "markdown",
      "metadata": {
        "id": "7XR-QF6fSa3v",
        "colab_type": "text"
      },
      "source": [
        "### Exploratory Data Analysis\n",
        "\n",
        "1. Univariate analysis\n",
        "  - Univariate analysis – data types and description of the independent attributes which should include name, meaning, range of values observed, central values (mean and median), standard deviation and quartiles, analysis of the body of distributions / tails,  missing values, outliers\n",
        "2. Multivariate analysis \n",
        "  - Bi-variate analysis between the predictor variables and between the predictor variables and target column. Comment on your findings in terms of their relationship and degree of relation if any. Presence of leverage points. Visualize the analysis using boxplots and pair plots, histograms or density curves. Select the most appropriate attributes\n",
        "3. Strategies to address the different data challenges such as data pollution, outliers and missing values\n"
      ]
    },
    {
      "cell_type": "code",
      "metadata": {
        "id": "MR7cyj-tSa3x",
        "colab_type": "code",
        "outputId": "d5af47d1-ed62-4e21-cd47-9f0b9b2afd67",
        "colab": {
          "base_uri": "https://localhost:8080/",
          "height": 224
        }
      },
      "source": [
        "housedata.head()"
      ],
      "execution_count": 4,
      "outputs": [
        {
          "output_type": "execute_result",
          "data": {
            "text/html": [
              "<div>\n",
              "<style scoped>\n",
              "    .dataframe tbody tr th:only-of-type {\n",
              "        vertical-align: middle;\n",
              "    }\n",
              "\n",
              "    .dataframe tbody tr th {\n",
              "        vertical-align: top;\n",
              "    }\n",
              "\n",
              "    .dataframe thead th {\n",
              "        text-align: right;\n",
              "    }\n",
              "</style>\n",
              "<table border=\"1\" class=\"dataframe\">\n",
              "  <thead>\n",
              "    <tr style=\"text-align: right;\">\n",
              "      <th></th>\n",
              "      <th>cid</th>\n",
              "      <th>dayhours</th>\n",
              "      <th>price</th>\n",
              "      <th>room_bed</th>\n",
              "      <th>room_bath</th>\n",
              "      <th>living_measure</th>\n",
              "      <th>lot_measure</th>\n",
              "      <th>ceil</th>\n",
              "      <th>coast</th>\n",
              "      <th>sight</th>\n",
              "      <th>condition</th>\n",
              "      <th>quality</th>\n",
              "      <th>ceil_measure</th>\n",
              "      <th>basement</th>\n",
              "      <th>yr_built</th>\n",
              "      <th>yr_renovated</th>\n",
              "      <th>zipcode</th>\n",
              "      <th>lat</th>\n",
              "      <th>long</th>\n",
              "      <th>living_measure15</th>\n",
              "      <th>lot_measure15</th>\n",
              "      <th>furnished</th>\n",
              "      <th>total_area</th>\n",
              "    </tr>\n",
              "  </thead>\n",
              "  <tbody>\n",
              "    <tr>\n",
              "      <th>0</th>\n",
              "      <td>3034200666</td>\n",
              "      <td>20141107T000000</td>\n",
              "      <td>808100</td>\n",
              "      <td>4</td>\n",
              "      <td>3.25</td>\n",
              "      <td>3020</td>\n",
              "      <td>13457</td>\n",
              "      <td>1.0</td>\n",
              "      <td>0</td>\n",
              "      <td>0</td>\n",
              "      <td>5</td>\n",
              "      <td>9</td>\n",
              "      <td>3020</td>\n",
              "      <td>0</td>\n",
              "      <td>1956</td>\n",
              "      <td>0</td>\n",
              "      <td>98133</td>\n",
              "      <td>47.7174</td>\n",
              "      <td>-122.336</td>\n",
              "      <td>2120</td>\n",
              "      <td>7553</td>\n",
              "      <td>1</td>\n",
              "      <td>16477</td>\n",
              "    </tr>\n",
              "    <tr>\n",
              "      <th>1</th>\n",
              "      <td>8731981640</td>\n",
              "      <td>20141204T000000</td>\n",
              "      <td>277500</td>\n",
              "      <td>4</td>\n",
              "      <td>2.50</td>\n",
              "      <td>2550</td>\n",
              "      <td>7500</td>\n",
              "      <td>1.0</td>\n",
              "      <td>0</td>\n",
              "      <td>0</td>\n",
              "      <td>3</td>\n",
              "      <td>8</td>\n",
              "      <td>1750</td>\n",
              "      <td>800</td>\n",
              "      <td>1976</td>\n",
              "      <td>0</td>\n",
              "      <td>98023</td>\n",
              "      <td>47.3165</td>\n",
              "      <td>-122.386</td>\n",
              "      <td>2260</td>\n",
              "      <td>8800</td>\n",
              "      <td>0</td>\n",
              "      <td>10050</td>\n",
              "    </tr>\n",
              "    <tr>\n",
              "      <th>2</th>\n",
              "      <td>5104530220</td>\n",
              "      <td>20150420T000000</td>\n",
              "      <td>404000</td>\n",
              "      <td>3</td>\n",
              "      <td>2.50</td>\n",
              "      <td>2370</td>\n",
              "      <td>4324</td>\n",
              "      <td>2.0</td>\n",
              "      <td>0</td>\n",
              "      <td>0</td>\n",
              "      <td>3</td>\n",
              "      <td>8</td>\n",
              "      <td>2370</td>\n",
              "      <td>0</td>\n",
              "      <td>2006</td>\n",
              "      <td>0</td>\n",
              "      <td>98038</td>\n",
              "      <td>47.3515</td>\n",
              "      <td>-121.999</td>\n",
              "      <td>2370</td>\n",
              "      <td>4348</td>\n",
              "      <td>0</td>\n",
              "      <td>6694</td>\n",
              "    </tr>\n",
              "    <tr>\n",
              "      <th>3</th>\n",
              "      <td>6145600285</td>\n",
              "      <td>20140529T000000</td>\n",
              "      <td>300000</td>\n",
              "      <td>2</td>\n",
              "      <td>1.00</td>\n",
              "      <td>820</td>\n",
              "      <td>3844</td>\n",
              "      <td>1.0</td>\n",
              "      <td>0</td>\n",
              "      <td>0</td>\n",
              "      <td>4</td>\n",
              "      <td>6</td>\n",
              "      <td>820</td>\n",
              "      <td>0</td>\n",
              "      <td>1916</td>\n",
              "      <td>0</td>\n",
              "      <td>98133</td>\n",
              "      <td>47.7049</td>\n",
              "      <td>-122.349</td>\n",
              "      <td>1520</td>\n",
              "      <td>3844</td>\n",
              "      <td>0</td>\n",
              "      <td>4664</td>\n",
              "    </tr>\n",
              "    <tr>\n",
              "      <th>4</th>\n",
              "      <td>8924100111</td>\n",
              "      <td>20150424T000000</td>\n",
              "      <td>699000</td>\n",
              "      <td>2</td>\n",
              "      <td>1.50</td>\n",
              "      <td>1400</td>\n",
              "      <td>4050</td>\n",
              "      <td>1.0</td>\n",
              "      <td>0</td>\n",
              "      <td>0</td>\n",
              "      <td>4</td>\n",
              "      <td>8</td>\n",
              "      <td>1400</td>\n",
              "      <td>0</td>\n",
              "      <td>1954</td>\n",
              "      <td>0</td>\n",
              "      <td>98115</td>\n",
              "      <td>47.6768</td>\n",
              "      <td>-122.269</td>\n",
              "      <td>1900</td>\n",
              "      <td>5940</td>\n",
              "      <td>0</td>\n",
              "      <td>5450</td>\n",
              "    </tr>\n",
              "  </tbody>\n",
              "</table>\n",
              "</div>"
            ],
            "text/plain": [
              "          cid         dayhours   price  ...  lot_measure15  furnished  total_area\n",
              "0  3034200666  20141107T000000  808100  ...           7553          1       16477\n",
              "1  8731981640  20141204T000000  277500  ...           8800          0       10050\n",
              "2  5104530220  20150420T000000  404000  ...           4348          0        6694\n",
              "3  6145600285  20140529T000000  300000  ...           3844          0        4664\n",
              "4  8924100111  20150424T000000  699000  ...           5940          0        5450\n",
              "\n",
              "[5 rows x 23 columns]"
            ]
          },
          "metadata": {
            "tags": []
          },
          "execution_count": 4
        }
      ]
    },
    {
      "cell_type": "code",
      "metadata": {
        "id": "sjACa1XkSa36",
        "colab_type": "code",
        "outputId": "cb0d85aa-74bf-46e4-bec7-57cb82f1a601",
        "colab": {
          "base_uri": "https://localhost:8080/",
          "height": 493
        }
      },
      "source": [
        "housedata.info()"
      ],
      "execution_count": 5,
      "outputs": [
        {
          "output_type": "stream",
          "text": [
            "<class 'pandas.core.frame.DataFrame'>\n",
            "RangeIndex: 21613 entries, 0 to 21612\n",
            "Data columns (total 23 columns):\n",
            "cid                 21613 non-null int64\n",
            "dayhours            21613 non-null object\n",
            "price               21613 non-null int64\n",
            "room_bed            21613 non-null int64\n",
            "room_bath           21613 non-null float64\n",
            "living_measure      21613 non-null int64\n",
            "lot_measure         21613 non-null int64\n",
            "ceil                21613 non-null float64\n",
            "coast               21613 non-null int64\n",
            "sight               21613 non-null int64\n",
            "condition           21613 non-null int64\n",
            "quality             21613 non-null int64\n",
            "ceil_measure        21613 non-null int64\n",
            "basement            21613 non-null int64\n",
            "yr_built            21613 non-null int64\n",
            "yr_renovated        21613 non-null int64\n",
            "zipcode             21613 non-null int64\n",
            "lat                 21613 non-null float64\n",
            "long                21613 non-null float64\n",
            "living_measure15    21613 non-null int64\n",
            "lot_measure15       21613 non-null int64\n",
            "furnished           21613 non-null int64\n",
            "total_area          21613 non-null int64\n",
            "dtypes: float64(4), int64(18), object(1)\n",
            "memory usage: 3.8+ MB\n"
          ],
          "name": "stdout"
        }
      ]
    },
    {
      "cell_type": "code",
      "metadata": {
        "id": "ZONCv9lnSa4E",
        "colab_type": "code",
        "outputId": "701d49b7-4f6b-439b-b00a-b0b9caaf4ef2",
        "colab": {
          "base_uri": "https://localhost:8080/",
          "height": 317
        }
      },
      "source": [
        "housedata.describe()"
      ],
      "execution_count": 6,
      "outputs": [
        {
          "output_type": "execute_result",
          "data": {
            "text/html": [
              "<div>\n",
              "<style scoped>\n",
              "    .dataframe tbody tr th:only-of-type {\n",
              "        vertical-align: middle;\n",
              "    }\n",
              "\n",
              "    .dataframe tbody tr th {\n",
              "        vertical-align: top;\n",
              "    }\n",
              "\n",
              "    .dataframe thead th {\n",
              "        text-align: right;\n",
              "    }\n",
              "</style>\n",
              "<table border=\"1\" class=\"dataframe\">\n",
              "  <thead>\n",
              "    <tr style=\"text-align: right;\">\n",
              "      <th></th>\n",
              "      <th>cid</th>\n",
              "      <th>price</th>\n",
              "      <th>room_bed</th>\n",
              "      <th>room_bath</th>\n",
              "      <th>living_measure</th>\n",
              "      <th>lot_measure</th>\n",
              "      <th>ceil</th>\n",
              "      <th>coast</th>\n",
              "      <th>sight</th>\n",
              "      <th>condition</th>\n",
              "      <th>quality</th>\n",
              "      <th>ceil_measure</th>\n",
              "      <th>basement</th>\n",
              "      <th>yr_built</th>\n",
              "      <th>yr_renovated</th>\n",
              "      <th>zipcode</th>\n",
              "      <th>lat</th>\n",
              "      <th>long</th>\n",
              "      <th>living_measure15</th>\n",
              "      <th>lot_measure15</th>\n",
              "      <th>furnished</th>\n",
              "      <th>total_area</th>\n",
              "    </tr>\n",
              "  </thead>\n",
              "  <tbody>\n",
              "    <tr>\n",
              "      <th>count</th>\n",
              "      <td>2.161300e+04</td>\n",
              "      <td>2.161300e+04</td>\n",
              "      <td>21613.000000</td>\n",
              "      <td>21613.000000</td>\n",
              "      <td>21613.000000</td>\n",
              "      <td>2.161300e+04</td>\n",
              "      <td>21613.000000</td>\n",
              "      <td>21613.000000</td>\n",
              "      <td>21613.000000</td>\n",
              "      <td>21613.000000</td>\n",
              "      <td>21613.000000</td>\n",
              "      <td>21613.000000</td>\n",
              "      <td>21613.000000</td>\n",
              "      <td>21613.000000</td>\n",
              "      <td>21613.000000</td>\n",
              "      <td>21613.000000</td>\n",
              "      <td>21613.000000</td>\n",
              "      <td>21613.000000</td>\n",
              "      <td>21613.000000</td>\n",
              "      <td>21613.000000</td>\n",
              "      <td>21613.000000</td>\n",
              "      <td>2.161300e+04</td>\n",
              "    </tr>\n",
              "    <tr>\n",
              "      <th>mean</th>\n",
              "      <td>4.580302e+09</td>\n",
              "      <td>5.401822e+05</td>\n",
              "      <td>3.370842</td>\n",
              "      <td>2.114757</td>\n",
              "      <td>2079.899736</td>\n",
              "      <td>1.510697e+04</td>\n",
              "      <td>1.494309</td>\n",
              "      <td>0.007542</td>\n",
              "      <td>0.234303</td>\n",
              "      <td>3.409430</td>\n",
              "      <td>7.656873</td>\n",
              "      <td>1788.390691</td>\n",
              "      <td>291.509045</td>\n",
              "      <td>1971.005136</td>\n",
              "      <td>84.402258</td>\n",
              "      <td>98077.939805</td>\n",
              "      <td>47.560053</td>\n",
              "      <td>-122.213896</td>\n",
              "      <td>1986.552492</td>\n",
              "      <td>12768.455652</td>\n",
              "      <td>0.196687</td>\n",
              "      <td>1.718687e+04</td>\n",
              "    </tr>\n",
              "    <tr>\n",
              "      <th>std</th>\n",
              "      <td>2.876566e+09</td>\n",
              "      <td>3.673622e+05</td>\n",
              "      <td>0.930062</td>\n",
              "      <td>0.770163</td>\n",
              "      <td>918.440897</td>\n",
              "      <td>4.142051e+04</td>\n",
              "      <td>0.539989</td>\n",
              "      <td>0.086517</td>\n",
              "      <td>0.766318</td>\n",
              "      <td>0.650743</td>\n",
              "      <td>1.175459</td>\n",
              "      <td>828.090978</td>\n",
              "      <td>442.575043</td>\n",
              "      <td>29.373411</td>\n",
              "      <td>401.679240</td>\n",
              "      <td>53.505026</td>\n",
              "      <td>0.138564</td>\n",
              "      <td>0.140828</td>\n",
              "      <td>685.391304</td>\n",
              "      <td>27304.179631</td>\n",
              "      <td>0.397503</td>\n",
              "      <td>4.158908e+04</td>\n",
              "    </tr>\n",
              "    <tr>\n",
              "      <th>min</th>\n",
              "      <td>1.000102e+06</td>\n",
              "      <td>7.500000e+04</td>\n",
              "      <td>0.000000</td>\n",
              "      <td>0.000000</td>\n",
              "      <td>290.000000</td>\n",
              "      <td>5.200000e+02</td>\n",
              "      <td>1.000000</td>\n",
              "      <td>0.000000</td>\n",
              "      <td>0.000000</td>\n",
              "      <td>1.000000</td>\n",
              "      <td>1.000000</td>\n",
              "      <td>290.000000</td>\n",
              "      <td>0.000000</td>\n",
              "      <td>1900.000000</td>\n",
              "      <td>0.000000</td>\n",
              "      <td>98001.000000</td>\n",
              "      <td>47.155900</td>\n",
              "      <td>-122.519000</td>\n",
              "      <td>399.000000</td>\n",
              "      <td>651.000000</td>\n",
              "      <td>0.000000</td>\n",
              "      <td>1.423000e+03</td>\n",
              "    </tr>\n",
              "    <tr>\n",
              "      <th>25%</th>\n",
              "      <td>2.123049e+09</td>\n",
              "      <td>3.219500e+05</td>\n",
              "      <td>3.000000</td>\n",
              "      <td>1.750000</td>\n",
              "      <td>1427.000000</td>\n",
              "      <td>5.040000e+03</td>\n",
              "      <td>1.000000</td>\n",
              "      <td>0.000000</td>\n",
              "      <td>0.000000</td>\n",
              "      <td>3.000000</td>\n",
              "      <td>7.000000</td>\n",
              "      <td>1190.000000</td>\n",
              "      <td>0.000000</td>\n",
              "      <td>1951.000000</td>\n",
              "      <td>0.000000</td>\n",
              "      <td>98033.000000</td>\n",
              "      <td>47.471000</td>\n",
              "      <td>-122.328000</td>\n",
              "      <td>1490.000000</td>\n",
              "      <td>5100.000000</td>\n",
              "      <td>0.000000</td>\n",
              "      <td>7.035000e+03</td>\n",
              "    </tr>\n",
              "    <tr>\n",
              "      <th>50%</th>\n",
              "      <td>3.904930e+09</td>\n",
              "      <td>4.500000e+05</td>\n",
              "      <td>3.000000</td>\n",
              "      <td>2.250000</td>\n",
              "      <td>1910.000000</td>\n",
              "      <td>7.618000e+03</td>\n",
              "      <td>1.500000</td>\n",
              "      <td>0.000000</td>\n",
              "      <td>0.000000</td>\n",
              "      <td>3.000000</td>\n",
              "      <td>7.000000</td>\n",
              "      <td>1560.000000</td>\n",
              "      <td>0.000000</td>\n",
              "      <td>1975.000000</td>\n",
              "      <td>0.000000</td>\n",
              "      <td>98065.000000</td>\n",
              "      <td>47.571800</td>\n",
              "      <td>-122.230000</td>\n",
              "      <td>1840.000000</td>\n",
              "      <td>7620.000000</td>\n",
              "      <td>0.000000</td>\n",
              "      <td>9.575000e+03</td>\n",
              "    </tr>\n",
              "    <tr>\n",
              "      <th>75%</th>\n",
              "      <td>7.308900e+09</td>\n",
              "      <td>6.450000e+05</td>\n",
              "      <td>4.000000</td>\n",
              "      <td>2.500000</td>\n",
              "      <td>2550.000000</td>\n",
              "      <td>1.068800e+04</td>\n",
              "      <td>2.000000</td>\n",
              "      <td>0.000000</td>\n",
              "      <td>0.000000</td>\n",
              "      <td>4.000000</td>\n",
              "      <td>8.000000</td>\n",
              "      <td>2210.000000</td>\n",
              "      <td>560.000000</td>\n",
              "      <td>1997.000000</td>\n",
              "      <td>0.000000</td>\n",
              "      <td>98118.000000</td>\n",
              "      <td>47.678000</td>\n",
              "      <td>-122.125000</td>\n",
              "      <td>2360.000000</td>\n",
              "      <td>10083.000000</td>\n",
              "      <td>0.000000</td>\n",
              "      <td>1.300000e+04</td>\n",
              "    </tr>\n",
              "    <tr>\n",
              "      <th>max</th>\n",
              "      <td>9.900000e+09</td>\n",
              "      <td>7.700000e+06</td>\n",
              "      <td>33.000000</td>\n",
              "      <td>8.000000</td>\n",
              "      <td>13540.000000</td>\n",
              "      <td>1.651359e+06</td>\n",
              "      <td>3.500000</td>\n",
              "      <td>1.000000</td>\n",
              "      <td>4.000000</td>\n",
              "      <td>5.000000</td>\n",
              "      <td>13.000000</td>\n",
              "      <td>9410.000000</td>\n",
              "      <td>4820.000000</td>\n",
              "      <td>2015.000000</td>\n",
              "      <td>2015.000000</td>\n",
              "      <td>98199.000000</td>\n",
              "      <td>47.777600</td>\n",
              "      <td>-121.315000</td>\n",
              "      <td>6210.000000</td>\n",
              "      <td>871200.000000</td>\n",
              "      <td>1.000000</td>\n",
              "      <td>1.652659e+06</td>\n",
              "    </tr>\n",
              "  </tbody>\n",
              "</table>\n",
              "</div>"
            ],
            "text/plain": [
              "                cid         price  ...     furnished    total_area\n",
              "count  2.161300e+04  2.161300e+04  ...  21613.000000  2.161300e+04\n",
              "mean   4.580302e+09  5.401822e+05  ...      0.196687  1.718687e+04\n",
              "std    2.876566e+09  3.673622e+05  ...      0.397503  4.158908e+04\n",
              "min    1.000102e+06  7.500000e+04  ...      0.000000  1.423000e+03\n",
              "25%    2.123049e+09  3.219500e+05  ...      0.000000  7.035000e+03\n",
              "50%    3.904930e+09  4.500000e+05  ...      0.000000  9.575000e+03\n",
              "75%    7.308900e+09  6.450000e+05  ...      0.000000  1.300000e+04\n",
              "max    9.900000e+09  7.700000e+06  ...      1.000000  1.652659e+06\n",
              "\n",
              "[8 rows x 22 columns]"
            ]
          },
          "metadata": {
            "tags": []
          },
          "execution_count": 6
        }
      ]
    },
    {
      "cell_type": "markdown",
      "metadata": {
        "id": "bJpCYniSSa4I",
        "colab_type": "text"
      },
      "source": [
        "### Univariate Analysis\n",
        "Let's explore the spread of data points, presence of any outliers for all attributes. We will be using the following plots for this analysis.\n",
        "- Density curve with histogram\n",
        "- boxplot\n",
        "- pie chart\n",
        "- countplot\n",
        "- pointplot"
      ]
    },
    {
      "cell_type": "code",
      "metadata": {
        "id": "q1YrJbdrSa4L",
        "colab_type": "code",
        "outputId": "50be4104-fd8f-4250-f1c7-3524f3b40775",
        "colab": {
          "base_uri": "https://localhost:8080/",
          "height": 936
        }
      },
      "source": [
        "import itertools\n",
        "# Analyze the body of the distributions\n",
        "cols = [i for i in housedata.columns if i not in ('cid','dayhours','lat','long','zipcode','yr_built','yr_renovated')]\n",
        "fig = plt.figure(figsize=(16,16))\n",
        "for i,j,k in itertools.zip_longest(cols, range(len(cols)), [\"darkorange\",\"r\",\"g\",\"c\",\"m\",\"k\",\"lime\",\"c\",\"r\",\"g\",\"c\",\"m\",\"k\",\"lime\",\"c\",\"g\"]):\n",
        "    plt.subplot(4,4,j+1)\n",
        "    ax = sns.distplot(housedata[i],color=k)\n",
        "    plt.axvline(housedata[i].mean(),linestyle=\"dashed\",label=\"mean\",color=\"k\")\n",
        "    plt.legend(loc=\"best\")"
      ],
      "execution_count": 7,
      "outputs": [
        {
          "output_type": "display_data",
          "data": {
            "image/png": "[encoded data removed]",
            "text/plain": [
              "<Figure size 1152x1152 with 16 Axes>"
            ]
          },
          "metadata": {
            "tags": []
          }
        }
      ]
    },
    {
      "cell_type": "code",
      "metadata": {
        "id": "am4PWilfSa4Q",
        "colab_type": "code",
        "outputId": "03711135-7999-431a-9716-2e46aea38fdc",
        "colab": {
          "base_uri": "https://localhost:8080/",
          "height": 463
        }
      },
      "source": [
        "# Target feature \"Comprehensive Strength\" distribution\n",
        "plt.figure(figsize=(16,7))\n",
        "sns.set_style('darkgrid', {'axes.grid' : True})\n",
        "sns.distplot(housedata[\"price\"],color=\"b\",rug=True)\n",
        "plt.axvline(housedata[\"price\"].mean(), linestyle=\"dashed\", color=\"k\", label='mean', linewidth=2)\n",
        "plt.legend(loc=\"best\",prop={\"size\":14})"
      ],
      "execution_count": 8,
      "outputs": [
        {
          "output_type": "execute_result",
          "data": {
            "text/plain": [
              "<matplotlib.legend.Legend at 0x7f08457a98d0>"
            ]
          },
          "metadata": {
            "tags": []
          },
          "execution_count": 8
        },
        {
          "output_type": "display_data",
          "data": {
            "image/png": "[encoded data removed]",
            "text/plain": [
              "<Figure size 1152x504 with 1 Axes>"
            ]
          },
          "metadata": {
            "tags": []
          }
        }
      ]
    },
    {
      "cell_type": "markdown",
      "metadata": {
        "id": "I3GPwtDkSa4V",
        "colab_type": "text"
      },
      "source": [
        "**Observations:**\n",
        "- It seems there is presence of long tails in almost all of the columns indicates outliers\n",
        "- The distribution of *price* feature seems to be left skewed or having outliers.\n",
        "- There are clearly bumps visible in *ceil*, *condition* and *quality* features"
      ]
    },
    {
      "cell_type": "code",
      "metadata": {
        "id": "xRg3RqbISa4X",
        "colab_type": "code",
        "outputId": "dbf3aaf1-3f9f-4ec3-918b-81e9bf940758",
        "colab": {
          "base_uri": "https://localhost:8080/",
          "height": 425
        }
      },
      "source": [
        "# Check for any Non-Real value present in the dataset such as '?' or '*' etc.\n",
        "housedata[~housedata.applymap(np.isreal)].sum(axis=0)"
      ],
      "execution_count": 9,
      "outputs": [
        {
          "output_type": "execute_result",
          "data": {
            "text/plain": [
              "cid                                                                 0\n",
              "dayhours            20141107T00000020141204T00000020150420T0000002...\n",
              "price                                                               0\n",
              "room_bed                                                            0\n",
              "room_bath                                                           0\n",
              "living_measure                                                      0\n",
              "lot_measure                                                         0\n",
              "ceil                                                                0\n",
              "coast                                                               0\n",
              "sight                                                               0\n",
              "condition                                                           0\n",
              "quality                                                             0\n",
              "ceil_measure                                                        0\n",
              "basement                                                            0\n",
              "yr_built                                                            0\n",
              "yr_renovated                                                        0\n",
              "zipcode                                                             0\n",
              "lat                                                                 0\n",
              "long                                                                0\n",
              "living_measure15                                                    0\n",
              "lot_measure15                                                       0\n",
              "furnished                                                           0\n",
              "total_area                                                          0\n",
              "dtype: object"
            ]
          },
          "metadata": {
            "tags": []
          },
          "execution_count": 9
        }
      ]
    },
    {
      "cell_type": "markdown",
      "metadata": {
        "id": "FreDULh9Sa4e",
        "colab_type": "text"
      },
      "source": [
        "**Observations**\n",
        "- dayhours column is having datetime in string format\n",
        "- Need to convert dayhours to datetime format"
      ]
    },
    {
      "cell_type": "code",
      "metadata": {
        "id": "lxyrvI4xSa4g",
        "colab_type": "code",
        "colab": {}
      },
      "source": [
        "#Convert dayhours to datetime format\n",
        "from datetime import datetime\n",
        "\n",
        "housedata['dayhours'] = pd.to_datetime(housedata['dayhours'], format='%Y%m%dT%H%M%S')"
      ],
      "execution_count": 0,
      "outputs": []
    },
    {
      "cell_type": "code",
      "metadata": {
        "id": "RG_oVyT1Sa4l",
        "colab_type": "code",
        "outputId": "978a1c4c-dc3f-41ea-e062-8afd3511332b",
        "colab": {
          "base_uri": "https://localhost:8080/",
          "height": 309
        }
      },
      "source": [
        "housedata.head()"
      ],
      "execution_count": 11,
      "outputs": [
        {
          "output_type": "execute_result",
          "data": {
            "text/html": [
              "<div>\n",
              "<style scoped>\n",
              "    .dataframe tbody tr th:only-of-type {\n",
              "        vertical-align: middle;\n",
              "    }\n",
              "\n",
              "    .dataframe tbody tr th {\n",
              "        vertical-align: top;\n",
              "    }\n",
              "\n",
              "    .dataframe thead th {\n",
              "        text-align: right;\n",
              "    }\n",
              "</style>\n",
              "<table border=\"1\" class=\"dataframe\">\n",
              "  <thead>\n",
              "    <tr style=\"text-align: right;\">\n",
              "      <th></th>\n",
              "      <th>cid</th>\n",
              "      <th>dayhours</th>\n",
              "      <th>price</th>\n",
              "      <th>room_bed</th>\n",
              "      <th>room_bath</th>\n",
              "      <th>living_measure</th>\n",
              "      <th>lot_measure</th>\n",
              "      <th>ceil</th>\n",
              "      <th>coast</th>\n",
              "      <th>sight</th>\n",
              "      <th>condition</th>\n",
              "      <th>quality</th>\n",
              "      <th>ceil_measure</th>\n",
              "      <th>basement</th>\n",
              "      <th>yr_built</th>\n",
              "      <th>yr_renovated</th>\n",
              "      <th>zipcode</th>\n",
              "      <th>lat</th>\n",
              "      <th>long</th>\n",
              "      <th>living_measure15</th>\n",
              "      <th>lot_measure15</th>\n",
              "      <th>furnished</th>\n",
              "      <th>total_area</th>\n",
              "    </tr>\n",
              "  </thead>\n",
              "  <tbody>\n",
              "    <tr>\n",
              "      <th>0</th>\n",
              "      <td>3034200666</td>\n",
              "      <td>2014-11-07</td>\n",
              "      <td>808100</td>\n",
              "      <td>4</td>\n",
              "      <td>3.25</td>\n",
              "      <td>3020</td>\n",
              "      <td>13457</td>\n",
              "      <td>1.0</td>\n",
              "      <td>0</td>\n",
              "      <td>0</td>\n",
              "      <td>5</td>\n",
              "      <td>9</td>\n",
              "      <td>3020</td>\n",
              "      <td>0</td>\n",
              "      <td>1956</td>\n",
              "      <td>0</td>\n",
              "      <td>98133</td>\n",
              "      <td>47.7174</td>\n",
              "      <td>-122.336</td>\n",
              "      <td>2120</td>\n",
              "      <td>7553</td>\n",
              "      <td>1</td>\n",
              "      <td>16477</td>\n",
              "    </tr>\n",
              "    <tr>\n",
              "      <th>1</th>\n",
              "      <td>8731981640</td>\n",
              "      <td>2014-12-04</td>\n",
              "      <td>277500</td>\n",
              "      <td>4</td>\n",
              "      <td>2.50</td>\n",
              "      <td>2550</td>\n",
              "      <td>7500</td>\n",
              "      <td>1.0</td>\n",
              "      <td>0</td>\n",
              "      <td>0</td>\n",
              "      <td>3</td>\n",
              "      <td>8</td>\n",
              "      <td>1750</td>\n",
              "      <td>800</td>\n",
              "      <td>1976</td>\n",
              "      <td>0</td>\n",
              "      <td>98023</td>\n",
              "      <td>47.3165</td>\n",
              "      <td>-122.386</td>\n",
              "      <td>2260</td>\n",
              "      <td>8800</td>\n",
              "      <td>0</td>\n",
              "      <td>10050</td>\n",
              "    </tr>\n",
              "    <tr>\n",
              "      <th>2</th>\n",
              "      <td>5104530220</td>\n",
              "      <td>2015-04-20</td>\n",
              "      <td>404000</td>\n",
              "      <td>3</td>\n",
              "      <td>2.50</td>\n",
              "      <td>2370</td>\n",
              "      <td>4324</td>\n",
              "      <td>2.0</td>\n",
              "      <td>0</td>\n",
              "      <td>0</td>\n",
              "      <td>3</td>\n",
              "      <td>8</td>\n",
              "      <td>2370</td>\n",
              "      <td>0</td>\n",
              "      <td>2006</td>\n",
              "      <td>0</td>\n",
              "      <td>98038</td>\n",
              "      <td>47.3515</td>\n",
              "      <td>-121.999</td>\n",
              "      <td>2370</td>\n",
              "      <td>4348</td>\n",
              "      <td>0</td>\n",
              "      <td>6694</td>\n",
              "    </tr>\n",
              "    <tr>\n",
              "      <th>3</th>\n",
              "      <td>6145600285</td>\n",
              "      <td>2014-05-29</td>\n",
              "      <td>300000</td>\n",
              "      <td>2</td>\n",
              "      <td>1.00</td>\n",
              "      <td>820</td>\n",
              "      <td>3844</td>\n",
              "      <td>1.0</td>\n",
              "      <td>0</td>\n",
              "      <td>0</td>\n",
              "      <td>4</td>\n",
              "      <td>6</td>\n",
              "      <td>820</td>\n",
              "      <td>0</td>\n",
              "      <td>1916</td>\n",
              "      <td>0</td>\n",
              "      <td>98133</td>\n",
              "      <td>47.7049</td>\n",
              "      <td>-122.349</td>\n",
              "      <td>1520</td>\n",
              "      <td>3844</td>\n",
              "      <td>0</td>\n",
              "      <td>4664</td>\n",
              "    </tr>\n",
              "    <tr>\n",
              "      <th>4</th>\n",
              "      <td>8924100111</td>\n",
              "      <td>2015-04-24</td>\n",
              "      <td>699000</td>\n",
              "      <td>2</td>\n",
              "      <td>1.50</td>\n",
              "      <td>1400</td>\n",
              "      <td>4050</td>\n",
              "      <td>1.0</td>\n",
              "      <td>0</td>\n",
              "      <td>0</td>\n",
              "      <td>4</td>\n",
              "      <td>8</td>\n",
              "      <td>1400</td>\n",
              "      <td>0</td>\n",
              "      <td>1954</td>\n",
              "      <td>0</td>\n",
              "      <td>98115</td>\n",
              "      <td>47.6768</td>\n",
              "      <td>-122.269</td>\n",
              "      <td>1900</td>\n",
              "      <td>5940</td>\n",
              "      <td>0</td>\n",
              "      <td>5450</td>\n",
              "    </tr>\n",
              "  </tbody>\n",
              "</table>\n",
              "</div>"
            ],
            "text/plain": [
              "          cid   dayhours   price  ...  lot_measure15  furnished  total_area\n",
              "0  3034200666 2014-11-07  808100  ...           7553          1       16477\n",
              "1  8731981640 2014-12-04  277500  ...           8800          0       10050\n",
              "2  5104530220 2015-04-20  404000  ...           4348          0        6694\n",
              "3  6145600285 2014-05-29  300000  ...           3844          0        4664\n",
              "4  8924100111 2015-04-24  699000  ...           5940          0        5450\n",
              "\n",
              "[5 rows x 23 columns]"
            ]
          },
          "metadata": {
            "tags": []
          },
          "execution_count": 11
        }
      ]
    },
    {
      "cell_type": "code",
      "metadata": {
        "id": "XKS8eOZ-Sa4r",
        "colab_type": "code",
        "colab": {}
      },
      "source": [
        "#Remove un necessary columns\n",
        "housedatabkp = housedata\n",
        "\n",
        "columns = ['dayhours','cid','lat','long']\n",
        "housedata = housedata.drop(columns, axis=1)"
      ],
      "execution_count": 0,
      "outputs": []
    },
    {
      "cell_type": "code",
      "metadata": {
        "id": "UNgySV4YSa4w",
        "colab_type": "code",
        "outputId": "2d91ecb0-a56f-41c7-f90b-0836f426f174",
        "colab": {
          "base_uri": "https://localhost:8080/",
          "height": 357
        }
      },
      "source": [
        "# Check for Nan/missing values\n",
        "housedata.applymap(np.isnan).sum(axis=0)\n",
        "\n",
        "#For identifying NaN values in price\n",
        "#housedata[mydata['price'].isnull()]"
      ],
      "execution_count": 13,
      "outputs": [
        {
          "output_type": "execute_result",
          "data": {
            "text/plain": [
              "price               0\n",
              "room_bed            0\n",
              "room_bath           0\n",
              "living_measure      0\n",
              "lot_measure         0\n",
              "ceil                0\n",
              "coast               0\n",
              "sight               0\n",
              "condition           0\n",
              "quality             0\n",
              "ceil_measure        0\n",
              "basement            0\n",
              "yr_built            0\n",
              "yr_renovated        0\n",
              "zipcode             0\n",
              "living_measure15    0\n",
              "lot_measure15       0\n",
              "furnished           0\n",
              "total_area          0\n",
              "dtype: int64"
            ]
          },
          "metadata": {
            "tags": []
          },
          "execution_count": 13
        }
      ]
    },
    {
      "cell_type": "code",
      "metadata": {
        "id": "d0pwez3YSa40",
        "colab_type": "code",
        "outputId": "24452ae6-0240-479a-80da-217954f32a37",
        "colab": {
          "base_uri": "https://localhost:8080/",
          "height": 357
        }
      },
      "source": [
        "# Find out the count of 0s in each column\n",
        "(housedata == 0.0).sum(axis=0)"
      ],
      "execution_count": 14,
      "outputs": [
        {
          "output_type": "execute_result",
          "data": {
            "text/plain": [
              "price                   0\n",
              "room_bed               13\n",
              "room_bath              10\n",
              "living_measure          0\n",
              "lot_measure             0\n",
              "ceil                    0\n",
              "coast               21450\n",
              "sight               19489\n",
              "condition               0\n",
              "quality                 0\n",
              "ceil_measure            0\n",
              "basement            13126\n",
              "yr_built                0\n",
              "yr_renovated        20699\n",
              "zipcode                 0\n",
              "living_measure15        0\n",
              "lot_measure15           0\n",
              "furnished           17362\n",
              "total_area              0\n",
              "dtype: int64"
            ]
          },
          "metadata": {
            "tags": []
          },
          "execution_count": 14
        }
      ]
    },
    {
      "cell_type": "code",
      "metadata": {
        "id": "SVTWldnTSa42",
        "colab_type": "code",
        "outputId": "b45c2682-9ac6-4954-f108-82deb2e27146",
        "colab": {
          "base_uri": "https://localhost:8080/",
          "height": 119
        }
      },
      "source": [
        "housedata.sight.value_counts()"
      ],
      "execution_count": 15,
      "outputs": [
        {
          "output_type": "execute_result",
          "data": {
            "text/plain": [
              "0    19489\n",
              "2      963\n",
              "3      510\n",
              "1      332\n",
              "4      319\n",
              "Name: sight, dtype: int64"
            ]
          },
          "metadata": {
            "tags": []
          },
          "execution_count": 15
        }
      ]
    },
    {
      "cell_type": "markdown",
      "metadata": {
        "id": "V0bCFiK6Sa45",
        "colab_type": "text"
      },
      "source": [
        "**Observations:**\n",
        "- There are no Nan values present in dataset\n",
        "- columns coast, sight, basement, yr_renovated, furnished has many zero values\n",
        "- However furnished and coast are bollean values\n",
        "- we are going to convert yr_renovated column to boolean value to know whether it has renovated or not"
      ]
    },
    {
      "cell_type": "code",
      "metadata": {
        "id": "cFiEdaKeSa46",
        "colab_type": "code",
        "colab": {}
      },
      "source": [
        "\n",
        "#convert values to ints:\n",
        "#housedata['price'] = housedata['price'].astype(int)\n",
        "housedata['price'] = housedata['price'].fillna(0).astype(int)"
      ],
      "execution_count": 0,
      "outputs": []
    },
    {
      "cell_type": "markdown",
      "metadata": {
        "id": "O26pubFhSa5D",
        "colab_type": "text"
      },
      "source": [
        "### Outlier Treatement"
      ]
    },
    {
      "cell_type": "code",
      "metadata": {
        "id": "bxDdq251Sa5D",
        "colab_type": "code",
        "outputId": "0e3842d6-7a3a-474a-b6e7-c6a36317ef85",
        "colab": {
          "base_uri": "https://localhost:8080/",
          "height": 0
        }
      },
      "source": [
        "# Plot the central tendency of the dataset\n",
        "_, bp = housedata.boxplot(return_type='both', figsize=(20,10))"
      ],
      "execution_count": 17,
      "outputs": [
        {
          "output_type": "display_data",
          "data": {
            "image/png": "[encoded data removed]",
            "text/plain": [
              "<Figure size 1440x720 with 1 Axes>"
            ]
          },
          "metadata": {
            "tags": []
          }
        }
      ]
    },
    {
      "cell_type": "code",
      "metadata": {
        "id": "KVfLR8-kSa5G",
        "colab_type": "code",
        "outputId": "e1cf1b00-e214-4d3f-a37e-3fa25c1f4319",
        "colab": {
          "base_uri": "https://localhost:8080/",
          "height": 0
        }
      },
      "source": [
        "# Plot the columns which are having too many outliers\n",
        "_, bp = housedata.boxplot(column=[\"price\",\"lot_measure\",\"total_area\",\"lot_measure15\"],return_type='both', figsize=(20,10))"
      ],
      "execution_count": 18,
      "outputs": [
        {
          "output_type": "display_data",
          "data": {
            "image/png": "[encoded data removed]",
            "text/plain": [
              "<Figure size 1440x720 with 1 Axes>"
            ]
          },
          "metadata": {
            "tags": []
          }
        }
      ]
    },
    {
      "cell_type": "code",
      "metadata": {
        "id": "SoW9MKB1Sa5P",
        "colab_type": "code",
        "outputId": "c0f75a54-a6e4-442d-99cf-e4ed2384d7d9",
        "colab": {
          "base_uri": "https://localhost:8080/",
          "height": 0
        }
      },
      "source": [
        "# Plot the central tendency excluding cid field\n",
        "_, bp = housedata.boxplot(column=[\n",
        "'living_measure',\n",
        "'ceil_measure',\n",
        "'living_measure15'\n",
        "],return_type='both', figsize=(20,10), rot='vertical')"
      ],
      "execution_count": 19,
      "outputs": [
        {
          "output_type": "display_data",
          "data": {
            "image/png": "[encoded data removed]",
            "text/plain": [
              "<Figure size 1440x720 with 1 Axes>"
            ]
          },
          "metadata": {
            "tags": []
          }
        }
      ]
    },
    {
      "cell_type": "code",
      "metadata": {
        "id": "VHK2GU9HSa5X",
        "colab_type": "code",
        "colab": {}
      },
      "source": [
        "# # outliers capping for price\n",
        "# q3 = housedata.price.quantile(0.75)\n",
        "# high = q3 + 1.5*(q3 - housedata.price.quantile(0.25))\n",
        "# housedata.loc[(housedata.price > high), 'price'] = high\n",
        "# print (high)\n",
        "# # outliers capping for lot_measure\n",
        "# q3 = housedata.lot_measure.quantile(0.75)\n",
        "# high = q3 + 1.5*(q3 - housedata.lot_measure.quantile(0.25))\n",
        "# housedata.loc[(housedata.lot_measure > high), 'lot_measure'] = high\n",
        "# print (high)\n",
        "# outliers capping for total_area\n",
        "# q3 = housedata.total_area.quantile(0.75)\n",
        "# high = q3 + 1.5*(q3 - housedata.total_area.quantile(0.25))\n",
        "# housedata.loc[(housedata.total_area > high), 'total_area'] = high\n",
        "# print (high)\n",
        "# # # outliers capping for lot_measure15\n",
        "# # q3 = housedata.lot_measure15.quantile(0.75)\n",
        "# # high = q3 + 1.5*(q3 - housedata.lot_measure15.quantile(0.25))\n",
        "# # housedata.loc[(housedata.lot_measure15 > high), 'lot_measure15'] = high\n",
        "# # print (high)\n",
        "# # outliers capping for living_measure\n",
        "# q3 = housedata.living_measure.quantile(0.75)\n",
        "# high = q3 + 1.5*(q3 - housedata.living_measure.quantile(0.25))\n",
        "# housedata.loc[(housedata.living_measure > high), 'living_measure'] = high\n",
        "# # outliers capping for ceil_measure\n",
        "# q3 = housedata.ceil_measure.quantile(0.75)\n",
        "# high = q3 + 1.5*(q3 - housedata.ceil_measure.quantile(0.25))\n",
        "# housedata.loc[(housedata.ceil_measure > high), 'ceil_measure'] = high\n",
        "# # # outliers capping for basement\n",
        "# # q3 = housedata.basement.quantile(0.75)\n",
        "# # high = q3 + 1.5*(q3 - housedata.basement.quantile(0.25))\n",
        "# # housedata.loc[(housedata.basement > high), 'basement'] = high\n",
        "# # outliers capping for living_measure15\n",
        "# q3 = housedata.living_measure15.quantile(0.75)\n",
        "# high = q3 + 1.5*(q3 - housedata.living_measure15.quantile(0.25))\n",
        "# housedata.loc[(housedata.living_measure15 > high), 'living_measure15'] = high"
      ],
      "execution_count": 0,
      "outputs": []
    },
    {
      "cell_type": "code",
      "metadata": {
        "id": "EhlUAD-1Sa5e",
        "colab_type": "code",
        "colab": {}
      },
      "source": [
        "# Plot the central tendency of the dataset\n",
        "# _, bp = housedata.boxplot(column=[\"price\",\"lot_measure\",\"total_area\",\"lot_measure15\"],return_type='both', figsize=(20,10))"
      ],
      "execution_count": 0,
      "outputs": []
    },
    {
      "cell_type": "code",
      "metadata": {
        "id": "MHqmSJNWSa5h",
        "colab_type": "code",
        "colab": {}
      },
      "source": [
        "# # Plot the central tendency excluding cid field\n",
        "# _, bp = housedata.boxplot(column=[\n",
        "# 'living_measure',\n",
        "# 'ceil_measure',\n",
        "# 'basement',\n",
        "# 'living_measure15'\n",
        "# ],return_type='both', figsize=(20,10), rot='vertical')"
      ],
      "execution_count": 0,
      "outputs": []
    },
    {
      "cell_type": "markdown",
      "metadata": {
        "id": "HBBG79uDSa5k",
        "colab_type": "text"
      },
      "source": [
        "**Observations**\n",
        "- Capping outliers proved to be not so much useful\n",
        "- Instaed we will try any of scale, transform and standardize techniques"
      ]
    },
    {
      "cell_type": "markdown",
      "metadata": {
        "id": "Z-6b5MdQSa5l",
        "colab_type": "text"
      },
      "source": [
        "### Bivariate Analysis\n",
        "Let's explore the relationship among the predictor variables and between the predictor variables and target column. We will be using the density curve plus histogram, scatterplot and pairplots for this analysis.\n",
        "#### Pairplot\n",
        "Pairplot helps picturizing the pair wise relationship between two variables. It creates a square matrix of no. of continous attributes of the dataset. The diagonal plots represents the histogram and/or the kde plot of a particular attributes where as the upper or lower trangular plots represents the co-linearity of two attributes."
      ]
    },
    {
      "cell_type": "code",
      "metadata": {
        "id": "MSp1HehbSa5m",
        "colab_type": "code",
        "colab": {}
      },
      "source": [
        "#sns.pairplot(mydata)"
      ],
      "execution_count": 0,
      "outputs": []
    },
    {
      "cell_type": "markdown",
      "metadata": {
        "id": "MSZkW-iySa5o",
        "colab_type": "text"
      },
      "source": [
        "### Feature Engineering"
      ]
    },
    {
      "cell_type": "code",
      "metadata": {
        "id": "34hE6ouoSa5p",
        "colab_type": "code",
        "outputId": "fc834195-b000-4b12-f0a1-18cb7b97ede4",
        "colab": {
          "base_uri": "https://localhost:8080/",
          "height": 669
        }
      },
      "source": [
        "#Findout \n",
        "housedata.head(20)"
      ],
      "execution_count": 24,
      "outputs": [
        {
          "output_type": "execute_result",
          "data": {
            "text/html": [
              "<div>\n",
              "<style scoped>\n",
              "    .dataframe tbody tr th:only-of-type {\n",
              "        vertical-align: middle;\n",
              "    }\n",
              "\n",
              "    .dataframe tbody tr th {\n",
              "        vertical-align: top;\n",
              "    }\n",
              "\n",
              "    .dataframe thead th {\n",
              "        text-align: right;\n",
              "    }\n",
              "</style>\n",
              "<table border=\"1\" class=\"dataframe\">\n",
              "  <thead>\n",
              "    <tr style=\"text-align: right;\">\n",
              "      <th></th>\n",
              "      <th>price</th>\n",
              "      <th>room_bed</th>\n",
              "      <th>room_bath</th>\n",
              "      <th>living_measure</th>\n",
              "      <th>lot_measure</th>\n",
              "      <th>ceil</th>\n",
              "      <th>coast</th>\n",
              "      <th>sight</th>\n",
              "      <th>condition</th>\n",
              "      <th>quality</th>\n",
              "      <th>ceil_measure</th>\n",
              "      <th>basement</th>\n",
              "      <th>yr_built</th>\n",
              "      <th>yr_renovated</th>\n",
              "      <th>zipcode</th>\n",
              "      <th>living_measure15</th>\n",
              "      <th>lot_measure15</th>\n",
              "      <th>furnished</th>\n",
              "      <th>total_area</th>\n",
              "    </tr>\n",
              "  </thead>\n",
              "  <tbody>\n",
              "    <tr>\n",
              "      <th>0</th>\n",
              "      <td>808100</td>\n",
              "      <td>4</td>\n",
              "      <td>3.25</td>\n",
              "      <td>3020</td>\n",
              "      <td>13457</td>\n",
              "      <td>1.0</td>\n",
              "      <td>0</td>\n",
              "      <td>0</td>\n",
              "      <td>5</td>\n",
              "      <td>9</td>\n",
              "      <td>3020</td>\n",
              "      <td>0</td>\n",
              "      <td>1956</td>\n",
              "      <td>0</td>\n",
              "      <td>98133</td>\n",
              "      <td>2120</td>\n",
              "      <td>7553</td>\n",
              "      <td>1</td>\n",
              "      <td>16477</td>\n",
              "    </tr>\n",
              "    <tr>\n",
              "      <th>1</th>\n",
              "      <td>277500</td>\n",
              "      <td>4</td>\n",
              "      <td>2.50</td>\n",
              "      <td>2550</td>\n",
              "      <td>7500</td>\n",
              "      <td>1.0</td>\n",
              "      <td>0</td>\n",
              "      <td>0</td>\n",
              "      <td>3</td>\n",
              "      <td>8</td>\n",
              "      <td>1750</td>\n",
              "      <td>800</td>\n",
              "      <td>1976</td>\n",
              "      <td>0</td>\n",
              "      <td>98023</td>\n",
              "      <td>2260</td>\n",
              "      <td>8800</td>\n",
              "      <td>0</td>\n",
              "      <td>10050</td>\n",
              "    </tr>\n",
              "    <tr>\n",
              "      <th>2</th>\n",
              "      <td>404000</td>\n",
              "      <td>3</td>\n",
              "      <td>2.50</td>\n",
              "      <td>2370</td>\n",
              "      <td>4324</td>\n",
              "      <td>2.0</td>\n",
              "      <td>0</td>\n",
              "      <td>0</td>\n",
              "      <td>3</td>\n",
              "      <td>8</td>\n",
              "      <td>2370</td>\n",
              "      <td>0</td>\n",
              "      <td>2006</td>\n",
              "      <td>0</td>\n",
              "      <td>98038</td>\n",
              "      <td>2370</td>\n",
              "      <td>4348</td>\n",
              "      <td>0</td>\n",
              "      <td>6694</td>\n",
              "    </tr>\n",
              "    <tr>\n",
              "      <th>3</th>\n",
              "      <td>300000</td>\n",
              "      <td>2</td>\n",
              "      <td>1.00</td>\n",
              "      <td>820</td>\n",
              "      <td>3844</td>\n",
              "      <td>1.0</td>\n",
              "      <td>0</td>\n",
              "      <td>0</td>\n",
              "      <td>4</td>\n",
              "      <td>6</td>\n",
              "      <td>820</td>\n",
              "      <td>0</td>\n",
              "      <td>1916</td>\n",
              "      <td>0</td>\n",
              "      <td>98133</td>\n",
              "      <td>1520</td>\n",
              "      <td>3844</td>\n",
              "      <td>0</td>\n",
              "      <td>4664</td>\n",
              "    </tr>\n",
              "    <tr>\n",
              "      <th>4</th>\n",
              "      <td>699000</td>\n",
              "      <td>2</td>\n",
              "      <td>1.50</td>\n",
              "      <td>1400</td>\n",
              "      <td>4050</td>\n",
              "      <td>1.0</td>\n",
              "      <td>0</td>\n",
              "      <td>0</td>\n",
              "      <td>4</td>\n",
              "      <td>8</td>\n",
              "      <td>1400</td>\n",
              "      <td>0</td>\n",
              "      <td>1954</td>\n",
              "      <td>0</td>\n",
              "      <td>98115</td>\n",
              "      <td>1900</td>\n",
              "      <td>5940</td>\n",
              "      <td>0</td>\n",
              "      <td>5450</td>\n",
              "    </tr>\n",
              "    <tr>\n",
              "      <th>5</th>\n",
              "      <td>585000</td>\n",
              "      <td>3</td>\n",
              "      <td>2.50</td>\n",
              "      <td>2050</td>\n",
              "      <td>11690</td>\n",
              "      <td>2.0</td>\n",
              "      <td>0</td>\n",
              "      <td>0</td>\n",
              "      <td>4</td>\n",
              "      <td>9</td>\n",
              "      <td>2050</td>\n",
              "      <td>0</td>\n",
              "      <td>1989</td>\n",
              "      <td>0</td>\n",
              "      <td>98059</td>\n",
              "      <td>2410</td>\n",
              "      <td>10172</td>\n",
              "      <td>1</td>\n",
              "      <td>13740</td>\n",
              "    </tr>\n",
              "    <tr>\n",
              "      <th>6</th>\n",
              "      <td>465000</td>\n",
              "      <td>3</td>\n",
              "      <td>1.75</td>\n",
              "      <td>1480</td>\n",
              "      <td>6360</td>\n",
              "      <td>1.0</td>\n",
              "      <td>0</td>\n",
              "      <td>0</td>\n",
              "      <td>3</td>\n",
              "      <td>7</td>\n",
              "      <td>1480</td>\n",
              "      <td>0</td>\n",
              "      <td>1954</td>\n",
              "      <td>0</td>\n",
              "      <td>98133</td>\n",
              "      <td>1480</td>\n",
              "      <td>6360</td>\n",
              "      <td>0</td>\n",
              "      <td>7840</td>\n",
              "    </tr>\n",
              "    <tr>\n",
              "      <th>7</th>\n",
              "      <td>480000</td>\n",
              "      <td>3</td>\n",
              "      <td>1.50</td>\n",
              "      <td>2100</td>\n",
              "      <td>67269</td>\n",
              "      <td>1.0</td>\n",
              "      <td>0</td>\n",
              "      <td>0</td>\n",
              "      <td>4</td>\n",
              "      <td>7</td>\n",
              "      <td>1220</td>\n",
              "      <td>880</td>\n",
              "      <td>1949</td>\n",
              "      <td>0</td>\n",
              "      <td>98028</td>\n",
              "      <td>1610</td>\n",
              "      <td>15999</td>\n",
              "      <td>0</td>\n",
              "      <td>69369</td>\n",
              "    </tr>\n",
              "    <tr>\n",
              "      <th>8</th>\n",
              "      <td>780000</td>\n",
              "      <td>4</td>\n",
              "      <td>2.00</td>\n",
              "      <td>2600</td>\n",
              "      <td>4800</td>\n",
              "      <td>1.0</td>\n",
              "      <td>0</td>\n",
              "      <td>2</td>\n",
              "      <td>3</td>\n",
              "      <td>8</td>\n",
              "      <td>1400</td>\n",
              "      <td>1200</td>\n",
              "      <td>1953</td>\n",
              "      <td>0</td>\n",
              "      <td>98119</td>\n",
              "      <td>2050</td>\n",
              "      <td>3505</td>\n",
              "      <td>0</td>\n",
              "      <td>7400</td>\n",
              "    </tr>\n",
              "    <tr>\n",
              "      <th>9</th>\n",
              "      <td>215000</td>\n",
              "      <td>4</td>\n",
              "      <td>1.00</td>\n",
              "      <td>1130</td>\n",
              "      <td>7400</td>\n",
              "      <td>1.0</td>\n",
              "      <td>0</td>\n",
              "      <td>0</td>\n",
              "      <td>4</td>\n",
              "      <td>7</td>\n",
              "      <td>1130</td>\n",
              "      <td>0</td>\n",
              "      <td>1969</td>\n",
              "      <td>0</td>\n",
              "      <td>98003</td>\n",
              "      <td>1540</td>\n",
              "      <td>7379</td>\n",
              "      <td>0</td>\n",
              "      <td>8530</td>\n",
              "    </tr>\n",
              "    <tr>\n",
              "      <th>10</th>\n",
              "      <td>402000</td>\n",
              "      <td>2</td>\n",
              "      <td>1.00</td>\n",
              "      <td>710</td>\n",
              "      <td>5100</td>\n",
              "      <td>1.0</td>\n",
              "      <td>0</td>\n",
              "      <td>0</td>\n",
              "      <td>5</td>\n",
              "      <td>7</td>\n",
              "      <td>710</td>\n",
              "      <td>0</td>\n",
              "      <td>1905</td>\n",
              "      <td>0</td>\n",
              "      <td>98117</td>\n",
              "      <td>1530</td>\n",
              "      <td>5100</td>\n",
              "      <td>0</td>\n",
              "      <td>5810</td>\n",
              "    </tr>\n",
              "    <tr>\n",
              "      <th>11</th>\n",
              "      <td>299000</td>\n",
              "      <td>4</td>\n",
              "      <td>2.50</td>\n",
              "      <td>2350</td>\n",
              "      <td>6958</td>\n",
              "      <td>2.0</td>\n",
              "      <td>0</td>\n",
              "      <td>0</td>\n",
              "      <td>3</td>\n",
              "      <td>9</td>\n",
              "      <td>2350</td>\n",
              "      <td>0</td>\n",
              "      <td>1998</td>\n",
              "      <td>0</td>\n",
              "      <td>98092</td>\n",
              "      <td>2480</td>\n",
              "      <td>6395</td>\n",
              "      <td>1</td>\n",
              "      <td>9308</td>\n",
              "    </tr>\n",
              "    <tr>\n",
              "      <th>12</th>\n",
              "      <td>785000</td>\n",
              "      <td>4</td>\n",
              "      <td>2.50</td>\n",
              "      <td>3440</td>\n",
              "      <td>56192</td>\n",
              "      <td>2.0</td>\n",
              "      <td>0</td>\n",
              "      <td>0</td>\n",
              "      <td>3</td>\n",
              "      <td>9</td>\n",
              "      <td>3440</td>\n",
              "      <td>0</td>\n",
              "      <td>1994</td>\n",
              "      <td>0</td>\n",
              "      <td>98053</td>\n",
              "      <td>3150</td>\n",
              "      <td>44431</td>\n",
              "      <td>1</td>\n",
              "      <td>59632</td>\n",
              "    </tr>\n",
              "    <tr>\n",
              "      <th>13</th>\n",
              "      <td>865000</td>\n",
              "      <td>4</td>\n",
              "      <td>2.00</td>\n",
              "      <td>2750</td>\n",
              "      <td>5527</td>\n",
              "      <td>2.0</td>\n",
              "      <td>0</td>\n",
              "      <td>0</td>\n",
              "      <td>3</td>\n",
              "      <td>8</td>\n",
              "      <td>2130</td>\n",
              "      <td>620</td>\n",
              "      <td>1901</td>\n",
              "      <td>1987</td>\n",
              "      <td>98119</td>\n",
              "      <td>1290</td>\n",
              "      <td>1764</td>\n",
              "      <td>0</td>\n",
              "      <td>8277</td>\n",
              "    </tr>\n",
              "    <tr>\n",
              "      <th>14</th>\n",
              "      <td>554000</td>\n",
              "      <td>5</td>\n",
              "      <td>2.50</td>\n",
              "      <td>3440</td>\n",
              "      <td>12900</td>\n",
              "      <td>1.0</td>\n",
              "      <td>0</td>\n",
              "      <td>2</td>\n",
              "      <td>4</td>\n",
              "      <td>8</td>\n",
              "      <td>1720</td>\n",
              "      <td>1720</td>\n",
              "      <td>1958</td>\n",
              "      <td>0</td>\n",
              "      <td>98166</td>\n",
              "      <td>2100</td>\n",
              "      <td>10751</td>\n",
              "      <td>0</td>\n",
              "      <td>16340</td>\n",
              "    </tr>\n",
              "    <tr>\n",
              "      <th>15</th>\n",
              "      <td>361000</td>\n",
              "      <td>3</td>\n",
              "      <td>1.50</td>\n",
              "      <td>1200</td>\n",
              "      <td>7236</td>\n",
              "      <td>1.0</td>\n",
              "      <td>0</td>\n",
              "      <td>0</td>\n",
              "      <td>3</td>\n",
              "      <td>7</td>\n",
              "      <td>1200</td>\n",
              "      <td>0</td>\n",
              "      <td>1975</td>\n",
              "      <td>0</td>\n",
              "      <td>98011</td>\n",
              "      <td>1680</td>\n",
              "      <td>7800</td>\n",
              "      <td>0</td>\n",
              "      <td>8436</td>\n",
              "    </tr>\n",
              "    <tr>\n",
              "      <th>16</th>\n",
              "      <td>459000</td>\n",
              "      <td>4</td>\n",
              "      <td>2.75</td>\n",
              "      <td>2790</td>\n",
              "      <td>6600</td>\n",
              "      <td>2.0</td>\n",
              "      <td>0</td>\n",
              "      <td>0</td>\n",
              "      <td>3</td>\n",
              "      <td>9</td>\n",
              "      <td>2790</td>\n",
              "      <td>0</td>\n",
              "      <td>2000</td>\n",
              "      <td>0</td>\n",
              "      <td>98058</td>\n",
              "      <td>2900</td>\n",
              "      <td>6752</td>\n",
              "      <td>1</td>\n",
              "      <td>9390</td>\n",
              "    </tr>\n",
              "    <tr>\n",
              "      <th>17</th>\n",
              "      <td>200000</td>\n",
              "      <td>3</td>\n",
              "      <td>1.00</td>\n",
              "      <td>1480</td>\n",
              "      <td>5600</td>\n",
              "      <td>1.0</td>\n",
              "      <td>0</td>\n",
              "      <td>0</td>\n",
              "      <td>4</td>\n",
              "      <td>6</td>\n",
              "      <td>940</td>\n",
              "      <td>540</td>\n",
              "      <td>1947</td>\n",
              "      <td>0</td>\n",
              "      <td>98178</td>\n",
              "      <td>1350</td>\n",
              "      <td>11100</td>\n",
              "      <td>0</td>\n",
              "      <td>7080</td>\n",
              "    </tr>\n",
              "    <tr>\n",
              "      <th>18</th>\n",
              "      <td>403000</td>\n",
              "      <td>2</td>\n",
              "      <td>1.00</td>\n",
              "      <td>1100</td>\n",
              "      <td>3598</td>\n",
              "      <td>1.0</td>\n",
              "      <td>0</td>\n",
              "      <td>0</td>\n",
              "      <td>4</td>\n",
              "      <td>7</td>\n",
              "      <td>1100</td>\n",
              "      <td>0</td>\n",
              "      <td>1926</td>\n",
              "      <td>0</td>\n",
              "      <td>98144</td>\n",
              "      <td>1240</td>\n",
              "      <td>3598</td>\n",
              "      <td>0</td>\n",
              "      <td>4698</td>\n",
              "    </tr>\n",
              "    <tr>\n",
              "      <th>19</th>\n",
              "      <td>327500</td>\n",
              "      <td>3</td>\n",
              "      <td>2.25</td>\n",
              "      <td>2310</td>\n",
              "      <td>7200</td>\n",
              "      <td>2.0</td>\n",
              "      <td>0</td>\n",
              "      <td>0</td>\n",
              "      <td>3</td>\n",
              "      <td>8</td>\n",
              "      <td>2310</td>\n",
              "      <td>0</td>\n",
              "      <td>1990</td>\n",
              "      <td>0</td>\n",
              "      <td>98031</td>\n",
              "      <td>1960</td>\n",
              "      <td>7201</td>\n",
              "      <td>0</td>\n",
              "      <td>9510</td>\n",
              "    </tr>\n",
              "  </tbody>\n",
              "</table>\n",
              "</div>"
            ],
            "text/plain": [
              "     price  room_bed  room_bath  ...  lot_measure15  furnished  total_area\n",
              "0   808100         4       3.25  ...           7553          1       16477\n",
              "1   277500         4       2.50  ...           8800          0       10050\n",
              "2   404000         3       2.50  ...           4348          0        6694\n",
              "3   300000         2       1.00  ...           3844          0        4664\n",
              "4   699000         2       1.50  ...           5940          0        5450\n",
              "5   585000         3       2.50  ...          10172          1       13740\n",
              "6   465000         3       1.75  ...           6360          0        7840\n",
              "7   480000         3       1.50  ...          15999          0       69369\n",
              "8   780000         4       2.00  ...           3505          0        7400\n",
              "9   215000         4       1.00  ...           7379          0        8530\n",
              "10  402000         2       1.00  ...           5100          0        5810\n",
              "11  299000         4       2.50  ...           6395          1        9308\n",
              "12  785000         4       2.50  ...          44431          1       59632\n",
              "13  865000         4       2.00  ...           1764          0        8277\n",
              "14  554000         5       2.50  ...          10751          0       16340\n",
              "15  361000         3       1.50  ...           7800          0        8436\n",
              "16  459000         4       2.75  ...           6752          1        9390\n",
              "17  200000         3       1.00  ...          11100          0        7080\n",
              "18  403000         2       1.00  ...           3598          0        4698\n",
              "19  327500         3       2.25  ...           7201          0        9510\n",
              "\n",
              "[20 rows x 19 columns]"
            ]
          },
          "metadata": {
            "tags": []
          },
          "execution_count": 24
        }
      ]
    },
    {
      "cell_type": "code",
      "metadata": {
        "id": "7jkxfsoLSa5r",
        "colab_type": "code",
        "outputId": "ebeb4549-2798-498c-871e-1dba41dcecb7",
        "colab": {
          "base_uri": "https://localhost:8080/",
          "height": 566
        }
      },
      "source": [
        "#Coralation plot\n",
        "corr = housedata.corr()\n",
        "\n",
        "# Top 40% Corralation train attributes with price\n",
        "top_feature = corr.index[abs(corr['price']>0.5)]\n",
        "plt.subplots(figsize=(12, 8))\n",
        "top_corr = housedata[top_feature].corr()\n",
        "sns.heatmap(top_corr, annot=True)\n",
        "plt.show()"
      ],
      "execution_count": 25,
      "outputs": [
        {
          "output_type": "display_data",
          "data": {
            "image/png": "[encoded data removed]",
            "text/plain": [
              "<Figure size 864x576 with 2 Axes>"
            ]
          },
          "metadata": {
            "tags": []
          }
        }
      ]
    },
    {
      "cell_type": "code",
      "metadata": {
        "id": "6GlBR5bCSa5y",
        "colab_type": "code",
        "colab": {}
      },
      "source": [
        "#Arrange data into independent and dependent variables\n",
        "columns = ['price']\n",
        "X = housedata.drop(columns, axis=1)\n",
        "y = housedata.price"
      ],
      "execution_count": 0,
      "outputs": []
    },
    {
      "cell_type": "code",
      "metadata": {
        "id": "SacGOL_0Sa56",
        "colab_type": "code",
        "colab": {}
      },
      "source": [
        "from sklearn.feature_selection import RFE\n",
        "from sklearn.linear_model import LogisticRegression\n",
        "#mydata.iloc[16785]\n",
        "\n",
        "model = LogisticRegression()\n",
        "rfe = RFE(model, 8)\n",
        "rfe = rfe.fit(X, y)"
      ],
      "execution_count": 0,
      "outputs": []
    },
    {
      "cell_type": "code",
      "metadata": {
        "id": "HGZYLICJSa6D",
        "colab_type": "code",
        "outputId": "70d23f33-ba10-4e00-c5a5-d18a67996ad3",
        "colab": {
          "base_uri": "https://localhost:8080/",
          "height": 180
        }
      },
      "source": [
        "# summarize the selection of the attributes\n",
        "print(rfe.support_)\n",
        "print(rfe.ranking_)"
      ],
      "execution_count": 0,
      "outputs": [
        {
          "output_type": "error",
          "ename": "NameError",
          "evalue": "ignored",
          "traceback": [
            "\u001b[0;31m---------------------------------------------------------------------------\u001b[0m",
            "\u001b[0;31mNameError\u001b[0m                                 Traceback (most recent call last)",
            "\u001b[0;32m<ipython-input-1-31c774d00a82>\u001b[0m in \u001b[0;36m<module>\u001b[0;34m()\u001b[0m\n\u001b[0;32m----> 1\u001b[0;31m \u001b[0mprint\u001b[0m\u001b[0;34m(\u001b[0m\u001b[0mrfe\u001b[0m\u001b[0;34m.\u001b[0m\u001b[0msupport_\u001b[0m\u001b[0;34m)\u001b[0m\u001b[0;34m\u001b[0m\u001b[0;34m\u001b[0m\u001b[0m\n\u001b[0m\u001b[1;32m      2\u001b[0m \u001b[0mprint\u001b[0m\u001b[0;34m(\u001b[0m\u001b[0mrfe\u001b[0m\u001b[0;34m.\u001b[0m\u001b[0mranking_\u001b[0m\u001b[0;34m)\u001b[0m\u001b[0;34m\u001b[0m\u001b[0;34m\u001b[0m\u001b[0m\n",
            "\u001b[0;31mNameError\u001b[0m: name 'rfe' is not defined"
          ]
        }
      ]
    },
    {
      "cell_type": "code",
      "metadata": {
        "id": "Xk73V5WE7LBc",
        "colab_type": "code",
        "colab": {}
      },
      "source": [
        "X = X.loc[:, rfe.support_]"
      ],
      "execution_count": 0,
      "outputs": []
    },
    {
      "cell_type": "code",
      "metadata": {
        "id": "yQkbmb1G8Tvj",
        "colab_type": "code",
        "colab": {}
      },
      "source": [
        "# Features identified from RFE room_bed,room_bath,ceil,coast,sight,condition,quality,furnished\n",
        "# Features identified from Correlation room_bath, living_measure,quality, ceil_measure, living_measure15, furnished\n",
        "\n",
        "X = X[[\"room_bed\",\"room_bath\",\"ceil\",\"coast\",\"sight\",\"condition\",\"quality\",\"furnished\",\"living_measure\",\"ceil_measure\", \"living_measure15\"]]"
      ],
      "execution_count": 0,
      "outputs": []
    },
    {
      "cell_type": "code",
      "metadata": {
        "id": "vmltvr8z6zqu",
        "colab_type": "code",
        "outputId": "d0283784-3f92-4fff-e67d-b6dafeba83a1",
        "colab": {
          "base_uri": "https://localhost:8080/",
          "height": 204
        }
      },
      "source": [
        "X.head()"
      ],
      "execution_count": 51,
      "outputs": [
        {
          "output_type": "execute_result",
          "data": {
            "text/html": [
              "<div>\n",
              "<style scoped>\n",
              "    .dataframe tbody tr th:only-of-type {\n",
              "        vertical-align: middle;\n",
              "    }\n",
              "\n",
              "    .dataframe tbody tr th {\n",
              "        vertical-align: top;\n",
              "    }\n",
              "\n",
              "    .dataframe thead th {\n",
              "        text-align: right;\n",
              "    }\n",
              "</style>\n",
              "<table border=\"1\" class=\"dataframe\">\n",
              "  <thead>\n",
              "    <tr style=\"text-align: right;\">\n",
              "      <th></th>\n",
              "      <th>room_bed</th>\n",
              "      <th>room_bath</th>\n",
              "      <th>ceil</th>\n",
              "      <th>coast</th>\n",
              "      <th>sight</th>\n",
              "      <th>condition</th>\n",
              "      <th>quality</th>\n",
              "      <th>furnished</th>\n",
              "      <th>living_measure</th>\n",
              "      <th>ceil_measure</th>\n",
              "      <th>living_measure15</th>\n",
              "    </tr>\n",
              "  </thead>\n",
              "  <tbody>\n",
              "    <tr>\n",
              "      <th>0</th>\n",
              "      <td>4</td>\n",
              "      <td>3.25</td>\n",
              "      <td>1.0</td>\n",
              "      <td>0</td>\n",
              "      <td>0</td>\n",
              "      <td>5</td>\n",
              "      <td>9</td>\n",
              "      <td>1</td>\n",
              "      <td>3020</td>\n",
              "      <td>3020</td>\n",
              "      <td>2120</td>\n",
              "    </tr>\n",
              "    <tr>\n",
              "      <th>1</th>\n",
              "      <td>4</td>\n",
              "      <td>2.50</td>\n",
              "      <td>1.0</td>\n",
              "      <td>0</td>\n",
              "      <td>0</td>\n",
              "      <td>3</td>\n",
              "      <td>8</td>\n",
              "      <td>0</td>\n",
              "      <td>2550</td>\n",
              "      <td>1750</td>\n",
              "      <td>2260</td>\n",
              "    </tr>\n",
              "    <tr>\n",
              "      <th>2</th>\n",
              "      <td>3</td>\n",
              "      <td>2.50</td>\n",
              "      <td>2.0</td>\n",
              "      <td>0</td>\n",
              "      <td>0</td>\n",
              "      <td>3</td>\n",
              "      <td>8</td>\n",
              "      <td>0</td>\n",
              "      <td>2370</td>\n",
              "      <td>2370</td>\n",
              "      <td>2370</td>\n",
              "    </tr>\n",
              "    <tr>\n",
              "      <th>3</th>\n",
              "      <td>2</td>\n",
              "      <td>1.00</td>\n",
              "      <td>1.0</td>\n",
              "      <td>0</td>\n",
              "      <td>0</td>\n",
              "      <td>4</td>\n",
              "      <td>6</td>\n",
              "      <td>0</td>\n",
              "      <td>820</td>\n",
              "      <td>820</td>\n",
              "      <td>1520</td>\n",
              "    </tr>\n",
              "    <tr>\n",
              "      <th>4</th>\n",
              "      <td>2</td>\n",
              "      <td>1.50</td>\n",
              "      <td>1.0</td>\n",
              "      <td>0</td>\n",
              "      <td>0</td>\n",
              "      <td>4</td>\n",
              "      <td>8</td>\n",
              "      <td>0</td>\n",
              "      <td>1400</td>\n",
              "      <td>1400</td>\n",
              "      <td>1900</td>\n",
              "    </tr>\n",
              "  </tbody>\n",
              "</table>\n",
              "</div>"
            ],
            "text/plain": [
              "   room_bed  room_bath  ceil  ...  living_measure  ceil_measure  living_measure15\n",
              "0         4       3.25   1.0  ...            3020          3020              2120\n",
              "1         4       2.50   1.0  ...            2550          1750              2260\n",
              "2         3       2.50   2.0  ...            2370          2370              2370\n",
              "3         2       1.00   1.0  ...             820           820              1520\n",
              "4         2       1.50   1.0  ...            1400          1400              1900\n",
              "\n",
              "[5 rows x 11 columns]"
            ]
          },
          "metadata": {
            "tags": []
          },
          "execution_count": 51
        }
      ]
    },
    {
      "cell_type": "markdown",
      "metadata": {
        "id": "qOiUJ4y2Sa6J",
        "colab_type": "text"
      },
      "source": [
        "#### Log Transform"
      ]
    },
    {
      "cell_type": "code",
      "metadata": {
        "id": "LUya25ApSa6L",
        "colab_type": "code",
        "colab": {}
      },
      "source": [
        "# #we use log function which is in numpy\n",
        "# y['price'] = np.log1p(y['price'])\n",
        "# X['living_measure'] = np.log1p(X['living_measure'])\n",
        "# X['ceil_measure'] = np.log1p(X['ceil_measure'])\n",
        "# X['living_measure15'] = np.log1p(X['living_measure15'])\n",
        "# X['lot_measure'] = np.log1p(X['lot_measure'])\n",
        "# X['total_area'] = np.log1p(X['total_area'])\n",
        "# X['lot_measure15'] = np.log1p(X['lot_measure15'])\n",
        "# # X['basement'] = np.log1p(X['basement'])\n",
        "\n",
        "\n",
        "# #Check again for more normal distribution\n",
        "# plt.subplots(figsize=(12,9))\n",
        "# sns.distplot(y['price'], fit=stats.norm)\n",
        "\n",
        "# # Get the fitted parameters used by the function\n",
        "# (mu, sigma) = stats.norm.fit(y['price'])\n",
        "\n",
        "# # plot with the distribution\n",
        "# plt.legend(['Normal dist. ($\\mu=$ {:.2f} and $\\sigma=$ {:.2f} )'.format(mu, sigma)], loc='best')\n",
        "# plt.ylabel('Frequency')\n",
        "\n",
        "# #Probablity plot\n",
        "# fig = plt.figure()\n",
        "# stats.probplot(y['price'], plot=plt)\n",
        "# plt.show()"
      ],
      "execution_count": 0,
      "outputs": []
    },
    {
      "cell_type": "markdown",
      "metadata": {
        "id": "6jbzQPCoSa6R",
        "colab_type": "text"
      },
      "source": [
        "**Observation**\n",
        "- Performance of model is degraded after Log transform\n",
        "- Hence avoiding this"
      ]
    },
    {
      "cell_type": "markdown",
      "metadata": {
        "id": "skUFoLYiSa6S",
        "colab_type": "text"
      },
      "source": [
        "#### Z Score "
      ]
    },
    {
      "cell_type": "code",
      "metadata": {
        "id": "myabdwtnSa6W",
        "colab_type": "code",
        "colab": {}
      },
      "source": [
        "# X = X.apply(zscore)\n",
        "# X.describe()"
      ],
      "execution_count": 0,
      "outputs": []
    },
    {
      "cell_type": "markdown",
      "metadata": {
        "id": "FFsx2wa0Sa6a",
        "colab_type": "text"
      },
      "source": [
        "#### MinMaxScalar"
      ]
    },
    {
      "cell_type": "code",
      "metadata": {
        "id": "vFFs26SBSa6b",
        "colab_type": "code",
        "colab": {}
      },
      "source": [
        "from sklearn.preprocessing import  MinMaxScaler\n",
        "\n",
        "col = X.columns.tolist()\n",
        "mm_scaler = MinMaxScaler().fit(X)\n",
        "X = pd.DataFrame(mm_scaler.transform(X),columns=col)"
      ],
      "execution_count": 0,
      "outputs": []
    },
    {
      "cell_type": "code",
      "metadata": {
        "id": "RzzDYwIJSa6k",
        "colab_type": "code",
        "colab": {}
      },
      "source": [
        "X.head()"
      ],
      "execution_count": 0,
      "outputs": []
    },
    {
      "cell_type": "markdown",
      "metadata": {
        "id": "kzK-qbBvSa6o",
        "colab_type": "text"
      },
      "source": [
        "#### Feature Scoring"
      ]
    },
    {
      "cell_type": "code",
      "metadata": {
        "id": "rgsvuZBlSa6p",
        "colab_type": "code",
        "colab": {
          "base_uri": "https://localhost:8080/",
          "height": 306
        },
        "outputId": "6346d7b4-b7e7-4ece-cc05-0efacc871093"
      },
      "source": [
        "from sklearn.feature_selection import SelectKBest\n",
        "#from sklearn.feature_selection import chi2\n",
        "\n",
        "#apply SelectKBest class to extract top 10 best features\n",
        "bestfeatures = SelectKBest( k ='all')\n",
        "fit = bestfeatures.fit(X,y)\n",
        "dfscores = pd.DataFrame(fit.scores_)\n",
        "dfcolumns = pd.DataFrame(X.columns)\n",
        "#concat two dataframes for better visualization \n",
        "featureScores = pd.concat([dfcolumns,dfscores],axis=1)\n",
        "featureScores.columns = ['Specs','Score']  #naming the dataframe columns\n",
        "print(featureScores.nlargest(16,'Score'))  #print 10 best features"
      ],
      "execution_count": 49,
      "outputs": [
        {
          "output_type": "stream",
          "text": [
            "               Specs     Score\n",
            "2     living_measure  7.760879\n",
            "8            quality  7.382698\n",
            "16         furnished  5.404689\n",
            "14  living_measure15  5.246788\n",
            "9       ceil_measure  5.148022\n",
            "1          room_bath  3.750130\n",
            "6              sight  2.015502\n",
            "5              coast  1.886872\n",
            "10          basement  1.761437\n",
            "0           room_bed  1.743043\n",
            "4               ceil  1.661984\n",
            "11          yr_built  1.236856\n",
            "13           zipcode  1.071084\n",
            "7          condition  1.050840\n",
            "12      yr_renovated  1.021907\n",
            "17        total_area  0.742990\n"
          ],
          "name": "stdout"
        }
      ]
    },
    {
      "cell_type": "code",
      "metadata": {
        "id": "IejQgm-bSa6u",
        "colab_type": "code",
        "colab": {}
      },
      "source": [
        "#Removing less scored features\n",
        "columns=['lot_measure','lot_measure15','total_area']\n",
        "mydata = mydata.drop(columns, axis=1)\n",
        "mydata.head()"
      ],
      "execution_count": 0,
      "outputs": []
    },
    {
      "cell_type": "markdown",
      "metadata": {
        "id": "GnnuJFpxSa60",
        "colab_type": "text"
      },
      "source": [
        "**Observations**\n",
        "- Using Feature scoring we are able to find less imporatnt features\n",
        "- Removed last 3 features from data set('lot_measure','lot_measure15','total_area')"
      ]
    },
    {
      "cell_type": "markdown",
      "metadata": {
        "id": "l7Sb7RPeSa63",
        "colab_type": "text"
      },
      "source": [
        "#### PCA"
      ]
    },
    {
      "cell_type": "code",
      "metadata": {
        "id": "uNtyFVCzSa63",
        "colab_type": "code",
        "colab": {}
      },
      "source": [
        "# #Fitting the PCA algorithm with our Data\n",
        "# pca = PCA().fit(X)\n",
        "# #Plotting the Cumulative Summation of the Explained Variance\n",
        "# plt.figure()\n",
        "# plt.plot(np.cumsum(pca.explained_variance_ratio_))\n",
        "# plt.xlabel('Number of Components')\n",
        "# plt.ylabel('Variance (%)') #for each component\n",
        "# plt.title('Dataset Explained Variance')\n",
        "# plt.show()"
      ],
      "execution_count": 0,
      "outputs": []
    },
    {
      "cell_type": "code",
      "metadata": {
        "id": "ygmzzNkwSa67",
        "colab_type": "code",
        "colab": {}
      },
      "source": [
        "# pca = PCA(n_components=10)\n",
        "# mydata_pca = pca.fit_transform(X)\n",
        "# mydata_df = pd.DataFrame(mydata_pca)  "
      ],
      "execution_count": 0,
      "outputs": []
    },
    {
      "cell_type": "code",
      "metadata": {
        "id": "y2Pr3MKSSa69",
        "colab_type": "code",
        "colab": {}
      },
      "source": [
        "# #Testing PCA with Linear Regression\n",
        "# #Split data into Train and test\n",
        "# #Size of test data is 30% of original data\n",
        "# X_train, X_test, y_train, y_test = train_test_split(mydata_df, y, test_size=0.30, random_state=1)\n",
        "\n",
        "# regression_model = LinearRegression()\n",
        "# regression_model.fit(X_train, y_train)\n",
        "# print(regression_model.score(X_train, y_train))\n",
        "# print(regression_model.score(X_test, y_test))"
      ],
      "execution_count": 0,
      "outputs": []
    },
    {
      "cell_type": "code",
      "metadata": {
        "id": "5c0ggLpYSa6_",
        "colab_type": "code",
        "colab": {}
      },
      "source": [
        "# # Test with Support Vector Regresser\n",
        "# from sklearn.svm import SVR\n",
        "# svc_model = SVR(C= .5,kernel='linear',gamma=1)\n",
        "# svc_model.fit(X_train, y_train)\n",
        "\n",
        "# prediction = svc_model.predict(X_test)\n",
        "# #print(prediction)\n",
        "# #print(svc_model.support_vectors_)\n",
        "\n",
        "# print(svc_model.score(X_test, y_test))\n",
        "# print(svc_model.score(X_train, y_train))"
      ],
      "execution_count": 0,
      "outputs": []
    },
    {
      "cell_type": "markdown",
      "metadata": {
        "id": "FpivdGQ1Sa7G",
        "colab_type": "text"
      },
      "source": [
        "#### Observation\n",
        "- PCA reduced number of dimensions to 8\n",
        "- But performance of model is not upto the mark"
      ]
    },
    {
      "cell_type": "markdown",
      "metadata": {
        "id": "PVzbuQLdSa7M",
        "colab_type": "text"
      },
      "source": [
        "### Generte Polynomial Model"
      ]
    },
    {
      "cell_type": "code",
      "metadata": {
        "id": "duyJl2PNSa7N",
        "colab_type": "code",
        "colab": {}
      },
      "source": [
        "# from sklearn.preprocessing import PolynomialFeatures\n",
        "\n",
        "# poly = PolynomialFeatures(degree = 2, interaction_only=True)\n",
        "\n",
        "# X_poly = poly.fit_transform(X)\n",
        "# X_te, X_test, y_te, y_test = train_test_split(X_poly, y, test_size=0.20, random_state=1)\n",
        "# X_train, X_val, y_train, y_val = train_test_split(X_te, y_te, test_size=0.20, random_state=1)\n",
        "# X_train.shape"
      ],
      "execution_count": 0,
      "outputs": []
    },
    {
      "cell_type": "code",
      "metadata": {
        "id": "7g7aIhgrSa7U",
        "colab_type": "code",
        "colab": {}
      },
      "source": [
        "# #Fit linear modelon poly features\n",
        "# regression_model.fit(X_train, y_train)\n",
        "# print(regression_model.coef_[0])"
      ],
      "execution_count": 0,
      "outputs": []
    },
    {
      "cell_type": "code",
      "metadata": {
        "id": "T0T66bcmSa7W",
        "colab_type": "code",
        "colab": {}
      },
      "source": [
        "# print(regression_model.score(X_train, y_train))\n",
        "# print(regression_model.score(X_val, y_val))"
      ],
      "execution_count": 0,
      "outputs": []
    },
    {
      "cell_type": "markdown",
      "metadata": {
        "id": "7L3QVTYSSa7c",
        "colab_type": "text"
      },
      "source": [
        "**Observations**\n",
        "- Polynomial features is not giving good results\n",
        "- Hence ignoring this"
      ]
    },
    {
      "cell_type": "markdown",
      "metadata": {
        "id": "Gvyl7-7BSa7c",
        "colab_type": "text"
      },
      "source": [
        "## Modelling"
      ]
    },
    {
      "cell_type": "code",
      "metadata": {
        "id": "cLNgaYIHSa7e",
        "colab_type": "code",
        "colab": {}
      },
      "source": [
        "from sklearn.metrics import r2_score, mean_squared_error\n",
        "\n",
        "# Arrange data into independent and dependent variables\n",
        "# X = mydata.drop('price', axis=1)\n",
        "# y = mydata[['price']]"
      ],
      "execution_count": 0,
      "outputs": []
    },
    {
      "cell_type": "code",
      "metadata": {
        "id": "g5E5GQgYSa7i",
        "colab_type": "code",
        "colab": {}
      },
      "source": [
        "# #Split data into Train and test\n",
        "# #Size of test data is 30% of original data\n",
        "X_train, X_test, y_train, y_test = train_test_split(X, y, test_size=0.30, random_state=1)"
      ],
      "execution_count": 0,
      "outputs": []
    },
    {
      "cell_type": "markdown",
      "metadata": {
        "id": "FaxwVTYtSa7n",
        "colab_type": "text"
      },
      "source": [
        "#### Linear Regression"
      ]
    },
    {
      "cell_type": "code",
      "metadata": {
        "id": "2qkGTFkaSa7n",
        "colab_type": "code",
        "outputId": "7353cfa2-86d0-4d93-ca2f-afa201c60054",
        "colab": {
          "base_uri": "https://localhost:8080/",
          "height": 34
        }
      },
      "source": [
        "# invoke the LinearRegression function and find the bestfit model on training data\n",
        "\n",
        "regression_model = LinearRegression()\n",
        "regression_model.fit(X_train, y_train)\n"
      ],
      "execution_count": 54,
      "outputs": [
        {
          "output_type": "execute_result",
          "data": {
            "text/plain": [
              "LinearRegression(copy_X=True, fit_intercept=True, n_jobs=None, normalize=False)"
            ]
          },
          "metadata": {
            "tags": []
          },
          "execution_count": 54
        }
      ]
    },
    {
      "cell_type": "code",
      "metadata": {
        "id": "nJVOpl2DSa7q",
        "colab_type": "code",
        "outputId": "312a1cc8-a388-4f6d-f1b9-c669ab32b620",
        "colab": {
          "base_uri": "https://localhost:8080/",
          "height": 51
        }
      },
      "source": [
        "\n",
        "print(regression_model.score(X_train, y_train))\n",
        "print(regression_model.score(X_test, y_test))"
      ],
      "execution_count": 55,
      "outputs": [
        {
          "output_type": "stream",
          "text": [
            "0.6060899078676316\n",
            "0.6040595022493229\n"
          ],
          "name": "stdout"
        }
      ]
    },
    {
      "cell_type": "code",
      "metadata": {
        "id": "BW8aeEumSa7r",
        "colab_type": "code",
        "outputId": "3f80bf94-f3bc-4ef1-aba1-a8c64a2897f9",
        "colab": {
          "base_uri": "https://localhost:8080/",
          "height": 119
        }
      },
      "source": [
        "ridge = Ridge()\n",
        "ridge.fit(X_train, y_train)\n",
        "print (\"Ridge model :\",(ridge.coef_))\n",
        "print ('')\n",
        "print(ridge.score(X_train, y_train))\n",
        "print(ridge.score(X_test, y_test))"
      ],
      "execution_count": 56,
      "outputs": [
        {
          "output_type": "stream",
          "text": [
            "Ridge model : [-2.83593226e+04 -1.16050450e+04  3.00824646e+03  6.08021815e+05\n",
            "  6.04934308e+04  5.35584209e+04  8.91566425e+04  5.74202472e+04\n",
            "  2.08943501e+02 -4.09371395e+01  9.91916369e+00]\n",
            "\n",
            "0.6060880642559252\n",
            "0.6041071155514455\n"
          ],
          "name": "stdout"
        }
      ]
    },
    {
      "cell_type": "code",
      "metadata": {
        "id": "9jdmU_DRSa7t",
        "colab_type": "code",
        "outputId": "d34ea5e7-b7cd-4143-fa27-ebf8550d99e6",
        "colab": {
          "base_uri": "https://localhost:8080/",
          "height": 119
        }
      },
      "source": [
        "lasso = Lasso(alpha=0.1)\n",
        "lasso.fit(X_train, y_train)\n",
        "print (\"Lasso model :\",(lasso.coef_))\n",
        "print ('')\n",
        "print(lasso.score(X_train, y_train))\n",
        "print(lasso.score(X_test, y_test))"
      ],
      "execution_count": 57,
      "outputs": [
        {
          "output_type": "stream",
          "text": [
            "Lasso model : [-2.83287660e+04 -1.16109057e+04  3.00526481e+03  6.14226586e+05\n",
            "  6.01931437e+04  5.35675132e+04  8.91743643e+04  5.74833820e+04\n",
            "  2.08938777e+02 -4.09971398e+01  9.94676225e+00]\n",
            "\n",
            "0.6060899078549484\n",
            "0.6040596355996126\n"
          ],
          "name": "stdout"
        }
      ]
    },
    {
      "cell_type": "code",
      "metadata": {
        "id": "6HQxGwAhSa7u",
        "colab_type": "code",
        "outputId": "6c6fbf85-79dc-4f65-e9e2-1c474782ebe5",
        "colab": {
          "base_uri": "https://localhost:8080/",
          "height": 51
        }
      },
      "source": [
        "#Make predictions using predict\n",
        "predictions = regression_model.predict(X_test)\n",
        "\n",
        "r2 = r2_score(y_test, predictions)\n",
        "mse = mean_squared_error(y_test, predictions)\n",
        "print('r^2: ', r2)\n",
        "print(\"MSE: \", mse)\n",
        "\n",
        "\n",
        "#Log metrics\n",
        "#dictn = {\"Linear Regression Train Accuracy\":Train_score,\"Linear Regression Test Accuracy\":Test_score,\"LR r^2\":r2,\"LR MSE\":mse}\n",
        "#Experiment.log_metrics(experiment, dictn)"
      ],
      "execution_count": 58,
      "outputs": [
        {
          "output_type": "stream",
          "text": [
            "r^2:  0.6040595022493229\n",
            "MSE:  53283273368.23708\n"
          ],
          "name": "stdout"
        }
      ]
    },
    {
      "cell_type": "markdown",
      "metadata": {
        "id": "8U4Lr0_CSa7w",
        "colab_type": "text"
      },
      "source": [
        "#### SVM"
      ]
    },
    {
      "cell_type": "code",
      "metadata": {
        "id": "QSc4qu6ISa7x",
        "colab_type": "code",
        "outputId": "0ea6af05-115a-4fc1-dd60-f45980fdd7a8",
        "colab": {
          "base_uri": "https://localhost:8080/",
          "height": 51
        }
      },
      "source": [
        "# Test with Support Vector Regresser\n",
        "from sklearn.svm import SVR\n",
        "svc_model = SVR(C= .5,kernel='linear',gamma=1)\n",
        "svc_model.fit(X_train, y_train)\n",
        "\n",
        "prediction = svc_model.predict(X_test)\n",
        "#print(prediction)\n",
        "#print(svc_model.support_vectors_)\n",
        "\n",
        "print(svc_model.score(X_test, y_test))\n",
        "print(svc_model.score(X_train, y_train))"
      ],
      "execution_count": 59,
      "outputs": [
        {
          "output_type": "stream",
          "text": [
            "0.4719156833663236\n",
            "0.45985819438794406\n"
          ],
          "name": "stdout"
        }
      ]
    },
    {
      "cell_type": "markdown",
      "metadata": {
        "id": "IvV16pTpSa74",
        "colab_type": "text"
      },
      "source": [
        "#### Decision Tree"
      ]
    },
    {
      "cell_type": "code",
      "metadata": {
        "id": "_U5G6BBHSa74",
        "colab_type": "code",
        "outputId": "642d6852-e083-4129-8f1d-a4cf1609a9ce",
        "colab": {
          "base_uri": "https://localhost:8080/",
          "height": 51
        }
      },
      "source": [
        "from sklearn.tree import DecisionTreeRegressor\n",
        "df_model = DecisionTreeRegressor(criterion='friedman_mse', max_depth=10, min_samples_split=2,max_features=6,random_state=1)\n",
        "df_model.fit(X_train, y_train)\n",
        "\n",
        "Train_score = df_model.score(X_train, y_train)\n",
        "Test_score = df_model.score(X_test,y_test)\n",
        "\n",
        "print(Train_score)\n",
        "print(Test_score)"
      ],
      "execution_count": 70,
      "outputs": [
        {
          "output_type": "stream",
          "text": [
            "0.7719668676582635\n",
            "0.5284777631024087\n"
          ],
          "name": "stdout"
        }
      ]
    },
    {
      "cell_type": "code",
      "metadata": {
        "id": "CSBh1FAHSa76",
        "colab_type": "code",
        "outputId": "743a112a-5306-4b27-b228-204b80cd7a20",
        "colab": {
          "base_uri": "https://localhost:8080/",
          "height": 51
        }
      },
      "source": [
        "#Make predictions using predict\n",
        "predictions = df_model.predict(X_test)\n",
        "\n",
        "r2 = r2_score(y_test, predictions)\n",
        "mse = mean_squared_error(y_test, predictions)\n",
        "print('r^2: ', r2)\n",
        "print(\"MSE: \", mse)\n",
        "\n",
        "#Log metrics\n",
        "dictn = {\"Decision Tree Test Accuracy\":Train_score,\"Decision Tree Train Accuracy\":Test_score,\"DT r^2\":r2,\"DT MSE\":mse}\n",
        "#Experiment.log_metrics(experiment, dictn, prefix=None, step=None, epoch=None)"
      ],
      "execution_count": 61,
      "outputs": [
        {
          "output_type": "stream",
          "text": [
            "r^2:  0.5752479417184595\n",
            "MSE:  57160558628.65569\n"
          ],
          "name": "stdout"
        }
      ]
    },
    {
      "cell_type": "markdown",
      "metadata": {
        "id": "f9C5DFYGSa77",
        "colab_type": "text"
      },
      "source": [
        "#### Random Forest"
      ]
    },
    {
      "cell_type": "code",
      "metadata": {
        "id": "qIfwfvnfSa78",
        "colab_type": "code",
        "outputId": "e927585b-a1a5-476a-ee9b-1e7ddfc64bcf",
        "colab": {
          "base_uri": "https://localhost:8080/",
          "height": 51
        }
      },
      "source": [
        "from sklearn.ensemble import RandomForestRegressor\n",
        "rfcl = RandomForestRegressor(max_depth=20, n_estimators = 50)\n",
        "rfcl = rfcl.fit(X_train, y_train)\n",
        "\n",
        "# Accuracy of train and test data\n",
        "Train_score = rfcl.score(X_train, y_train)\n",
        "Test_score = rfcl.score(X_test,y_test)\n",
        "\n",
        "print(Train_score)\n",
        "print(Test_score)"
      ],
      "execution_count": 81,
      "outputs": [
        {
          "output_type": "stream",
          "text": [
            "0.9394997258245922\n",
            "0.6868615636385663\n"
          ],
          "name": "stdout"
        }
      ]
    },
    {
      "cell_type": "code",
      "metadata": {
        "id": "aB7OgWO7Sa7-",
        "colab_type": "code",
        "outputId": "a2a5ffd2-2f2e-4523-f480-f733efdc3450",
        "colab": {
          "base_uri": "https://localhost:8080/",
          "height": 51
        }
      },
      "source": [
        "#Make predictions using predict\n",
        "predictions = rfcl.predict(X_test)\n",
        "\n",
        "r2 = r2_score(y_test, predictions)\n",
        "mse = mean_squared_error(y_test, predictions)\n",
        "print('r^2: ', r2)\n",
        "print(\"MSE: \", mse)\n",
        "\n",
        "\n",
        "#Log metrics\n",
        "dictn = {\"Random Forest Train Accuracy\":Train_score,\"Random Forest Test Accuracy\":Test_score,\"RF r^2\":r2,\"RF MSE\":mse}\n",
        "#Experiment.log_metrics(experiment, dictn)"
      ],
      "execution_count": 63,
      "outputs": [
        {
          "output_type": "stream",
          "text": [
            "r^2:  0.6825376800409382\n",
            "MSE:  42722155663.76606\n"
          ],
          "name": "stdout"
        }
      ]
    },
    {
      "cell_type": "markdown",
      "metadata": {
        "id": "YvztMo0HSa8B",
        "colab_type": "text"
      },
      "source": [
        "#### Bagging"
      ]
    },
    {
      "cell_type": "code",
      "metadata": {
        "id": "hQp6yDbSSa8C",
        "colab_type": "code",
        "outputId": "29c6d122-4f9c-4bae-9ca0-ba96d1dfc039",
        "colab": {
          "base_uri": "https://localhost:8080/",
          "height": 34
        }
      },
      "source": [
        "from sklearn.ensemble import BaggingRegressor\n",
        "bgcl = BaggingRegressor(n_estimators=60, max_samples=.4 , oob_score=True)\n",
        "\n",
        "bgcl = bgcl.fit(X, y)\n",
        "print(bgcl.oob_score_)"
      ],
      "execution_count": 64,
      "outputs": [
        {
          "output_type": "stream",
          "text": [
            "0.6834778042629908\n"
          ],
          "name": "stdout"
        }
      ]
    },
    {
      "cell_type": "markdown",
      "metadata": {
        "id": "WPd5MCI6Sa8M",
        "colab_type": "text"
      },
      "source": [
        "#### Ada Boosting"
      ]
    },
    {
      "cell_type": "code",
      "metadata": {
        "id": "UGtCmqPqSa8N",
        "colab_type": "code",
        "outputId": "adf7b71f-1597-4491-9eaa-6dac6c626dd6",
        "colab": {
          "base_uri": "https://localhost:8080/",
          "height": 51
        }
      },
      "source": [
        "from sklearn.ensemble import AdaBoostRegressor\n",
        "abcl = AdaBoostRegressor(base_estimator=rfcl, n_estimators=20)\n",
        "abcl = abcl.fit(X_train, y_train)\n",
        "\n",
        "Train_score = abcl.score(X_test , y_test)\n",
        "Test_score = abcl.score(X_train , y_train)\n",
        "\n",
        "\n",
        "print (Train_score)\n",
        "print (Test_score)"
      ],
      "execution_count": 65,
      "outputs": [
        {
          "output_type": "stream",
          "text": [
            "0.6830688692784684\n",
            "0.8443381088742049\n"
          ],
          "name": "stdout"
        }
      ]
    },
    {
      "cell_type": "code",
      "metadata": {
        "id": "gMzGm-EpSa8P",
        "colab_type": "code",
        "outputId": "e8491352-ff37-4922-e30a-61664b88ef6a",
        "colab": {
          "base_uri": "https://localhost:8080/",
          "height": 51
        }
      },
      "source": [
        "#Make predictions using predict\n",
        "predictions = abcl.predict(X_test)\n",
        "\n",
        "r2 = r2_score(y_test, predictions)\n",
        "mse = mean_squared_error(y_test, predictions)\n",
        "print('r^2: ', r2)\n",
        "print(\"MSE: \", mse)\n",
        "\n",
        "\n",
        "#Log metrics\n",
        "dictn = {\"Ada Boosting Train Accuracy\":Train_score,\"Ada Boosting Test Accuracy\":Test_score,\" AB r^2\":r2,\"AB MSE\":mse}\n",
        "# Experiment.log_metrics(experiment, dictn)"
      ],
      "execution_count": 66,
      "outputs": [
        {
          "output_type": "stream",
          "text": [
            "r^2:  0.6830688692784684\n",
            "MSE:  42650671434.40739\n"
          ],
          "name": "stdout"
        }
      ]
    },
    {
      "cell_type": "markdown",
      "metadata": {
        "id": "dsYtNuSVSa8S",
        "colab_type": "text"
      },
      "source": [
        "#### Gradient Boost"
      ]
    },
    {
      "cell_type": "code",
      "metadata": {
        "id": "M9oZTgWQSa8T",
        "colab_type": "code",
        "outputId": "b04fa370-ed73-4bbe-a10c-b7d621bc4d3e",
        "colab": {
          "base_uri": "https://localhost:8080/",
          "height": 51
        }
      },
      "source": [
        "from sklearn.ensemble import GradientBoostingRegressor\n",
        "gbcl = GradientBoostingRegressor(n_estimators = 20, learning_rate = 0.09, max_depth=10)\n",
        "gbcl = gbcl.fit(X_train, y_train)\n",
        "\n",
        "\n",
        "# Accuracy of test data\n",
        "\n",
        "Train_score = gbcl.score(X_test , y_test)\n",
        "Test_score = gbcl.score(X_train , y_train)\n",
        "                        \n",
        "print(Train_score)\n",
        "print(Test_score)\n"
      ],
      "execution_count": 67,
      "outputs": [
        {
          "output_type": "stream",
          "text": [
            "0.6698483998056516\n",
            "0.8463270928049782\n"
          ],
          "name": "stdout"
        }
      ]
    },
    {
      "cell_type": "code",
      "metadata": {
        "id": "pe8ZrY99Sa8a",
        "colab_type": "code",
        "outputId": "d7dcc735-f8a9-4c71-ead1-f9671703f034",
        "colab": {
          "base_uri": "https://localhost:8080/",
          "height": 51
        }
      },
      "source": [
        "#Make predictions using predict\n",
        "predictions = gbcl.predict(X_test)\n",
        "\n",
        "r2 = r2_score(y_test, predictions)\n",
        "mse = mean_squared_error(y_test, predictions)\n",
        "print('r^2: ', r2)\n",
        "print(\"MSE: \", mse)\n",
        "\n",
        "\n",
        "#Log metrics\n",
        "dictn = {\"Gradient Boosting Train Accuracy\":Train_score,\"Gradient Boosting Test Accuracy\":Test_score,\"GB r^2\":r2,\"GB MSE\":mse}\n",
        "# Experiment.log_metrics(experiment, dictn)"
      ],
      "execution_count": 68,
      "outputs": [
        {
          "output_type": "stream",
          "text": [
            "r^2:  0.6698483998056516\n",
            "MSE:  44429802119.39256\n"
          ],
          "name": "stdout"
        }
      ]
    },
    {
      "cell_type": "markdown",
      "metadata": {
        "id": "ahb6ADY4Sa8f",
        "colab_type": "text"
      },
      "source": [
        "**Observations**\n",
        "- "
      ]
    },
    {
      "cell_type": "markdown",
      "metadata": {
        "id": "y7Gl_WvUSa8g",
        "colab_type": "text"
      },
      "source": [
        "- R2 and MSE of each model \n",
        "         Linear Regression   0.6529320578456257    0.0008033333135331185\n",
        "         Decision Tree       0.6204619293806984    0.0008784895948325702\n",
        "         Random Forest       0.7409305094159241    0.0005996495989066953\n",
        "         Ada Boosting        0.7549207773100702    0.0005672673276002274\n",
        "         Gradient Boosting   0.7316905433456805    0.0006210366867318243\n",
        " \n",
        "- It is evident that Random Forest and Ada Boosting are performing better compared to other models\n",
        "- To improve model performance we have tried \n",
        "    - feature scoring\n",
        "    - log transform\n",
        "    - scaling using MinMaxScalar\n",
        "    - standardization using Zscore\n",
        "    - Dimensionality reduction using PCA\n",
        "    "
      ]
    },
    {
      "cell_type": "code",
      "metadata": {
        "id": "XZkWCp20Sa8h",
        "colab_type": "code",
        "colab": {}
      },
      "source": [
        "from sklearn.model_selection import cross_val_score, cross_val_predict, GridSearchCV\n",
        "from sklearn.ensemble import RandomForestRegressor"
      ],
      "execution_count": 0,
      "outputs": []
    },
    {
      "cell_type": "code",
      "metadata": {
        "id": "7jahlocvSa8j",
        "colab_type": "code",
        "colab": {}
      },
      "source": [
        "def rfr_model(X, y):\n",
        "    # Perform Grid-Search\n",
        "    gsc = GridSearchCV(\n",
        "            estimator=RandomForestRegressor(),\n",
        "            param_grid={\n",
        "                'max_depth': range(7,20),\n",
        "                'n_estimators': (10,15,20,25,30,35,40,45,50,60,70,80,100),\n",
        "            },\n",
        "            cv=5, scoring='neg_mean_squared_error', verbose=0, n_jobs=3\n",
        "            )\n",
        "    \n",
        "    grid_result = gsc.fit(X, y)\n",
        "    best_params = grid_result.best_params_\n",
        "    print (best_params)\n",
        "    rfr = RandomForestRegressor(max_depth=best_params[\"max_depth\"], min_samples_split=2, n_estimators=best_params[\"n_estimators\"], random_state=1, verbose=False)\n",
        "    \n",
        "    # Perform K-Fold CV\n",
        "    scores = cross_val_score(rfr, X, y, cv=5, scoring='neg_mean_absolute_error')\n",
        "    #predictions = cross_val_predict(rfr, X, y, cv=10)\n",
        "    \n",
        "    return scores"
      ],
      "execution_count": 0,
      "outputs": []
    },
    {
      "cell_type": "code",
      "metadata": {
        "id": "wEWqmbVpSa8o",
        "colab_type": "code",
        "colab": {}
      },
      "source": [
        "#rfr_model(X_poly,y)"
      ],
      "execution_count": 0,
      "outputs": []
    },
    {
      "cell_type": "code",
      "metadata": {
        "id": "giniJ6LvSa8s",
        "colab_type": "code",
        "colab": {
          "base_uri": "https://localhost:8080/",
          "height": 68
        },
        "outputId": "00beb5c1-c227-4911-f509-569b35492325"
      },
      "source": [
        "rfr_model(X,y)"
      ],
      "execution_count": 83,
      "outputs": [
        {
          "output_type": "stream",
          "text": [
            "{'max_depth': 11, 'n_estimators': 100}\n"
          ],
          "name": "stdout"
        },
        {
          "output_type": "execute_result",
          "data": {
            "text/plain": [
              "array([-133255.12322486, -135017.19662258, -133916.16165191,\n",
              "       -133135.60846682, -136299.6947586 ])"
            ]
          },
          "metadata": {
            "tags": []
          },
          "execution_count": 83
        }
      ]
    },
    {
      "cell_type": "code",
      "metadata": {
        "id": "KvYP63lxSa8u",
        "colab_type": "code",
        "colab": {}
      },
      "source": [
        ""
      ],
      "execution_count": 0,
      "outputs": []
    }
  ]
}