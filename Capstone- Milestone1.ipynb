{
 "cells": [
  {
   "cell_type": "markdown",
   "metadata": {},
   "source": [
    "**Problem statement**:\n",
    "\n",
    "A house value is simply more than location and square footage. Like the features that make up a person, an educated party would want to know all aspects that give a house its value. For example, you want to sell a house and you don’t know the price which you can take — it can’t be too low or too high. To find house price you usually try to find similar properties in your neighbourhood and based on gathered data you will try to assess your house price.\n",
    "\n",
    "**Objective**: Take advantage of all of the feature variables available below, use it to analyse and predict house prices.\n",
    "\n",
    "- cid: a notation for a house\n",
    "- dayhours: Date house was sold\n",
    "- price: Price is prediction target\n",
    "- room_bed: Number of Bedrooms/House\n",
    "- room_bath: Number of bathrooms/bedrooms\n",
    "- living_measure: square footage of the home\n",
    "- lot_measure: quare footage of the lot\n",
    "- ceil: Total floors (levels) in house\n",
    "- coast: House which has a view to a waterfront\n",
    "- sight: Has been viewed\n",
    "- condition: How good the condition is (Overall)\n",
    "- quality: grade given to the housing unit, based on grading system\n",
    "- ceil_measure: square footage of house apart from basement\n",
    "- basement_measure: square footage of the basement\n",
    "- yr_built: Built Year\n",
    "- yr_renovated: Year when house was renovated\n",
    "- zipcode: zip\n",
    "- lat: Latitude coordinate\n",
    "- long: Longitude coordinate\n",
    "- living_measure15: Living room area in 2015(implies-- some renovations) This might or might not have affected the lotsize area\n",
    "- lot_measure15: lotSize area in 2015(implies-- some renovations)\n",
    "- furnished: Based on the quality of room\n",
    "- total_area: Measure of both living and lot"
   ]
  },
  {
   "cell_type": "markdown",
   "metadata": {},
   "source": [
    "### Imports"
   ]
  },
  {
   "cell_type": "code",
   "execution_count": 310,
   "metadata": {},
   "outputs": [
    {
     "ename": "ImportError",
     "evalue": "You must import Comet before these modules: sklearn",
     "output_type": "error",
     "traceback": [
      "\u001b[1;31m---------------------------------------------------------------------------\u001b[0m",
      "\u001b[1;31mImportError\u001b[0m                               Traceback (most recent call last)",
      "\u001b[1;32m<ipython-input-310-f3204595887d>\u001b[0m in \u001b[0;36m<module>\u001b[1;34m\u001b[0m\n\u001b[0;32m      4\u001b[0m \u001b[1;31m# Add the following code anywhere in your machine learning file\u001b[0m\u001b[1;33m\u001b[0m\u001b[1;33m\u001b[0m\u001b[1;33m\u001b[0m\u001b[0m\n\u001b[0;32m      5\u001b[0m experiment = Experiment(api_key=\"HBFZ14J63ox8YgtKSiEQ6Gqbo\",\n\u001b[1;32m----> 6\u001b[1;33m                         project_name=\"MLCapstone_1\", workspace=\"prasad-ml\")\n\u001b[0m",
      "\u001b[1;32mC:\\ProgramData\\Anaconda3\\lib\\site-packages\\comet_ml\\__init__.py\u001b[0m in \u001b[0;36m__init__\u001b[1;34m(self, api_key, project_name, workspace, log_code, log_graph, auto_param_logging, auto_metric_logging, parse_args, auto_output_logging, log_env_details, log_git_metadata, log_git_patch, disabled, log_env_gpu, log_env_host, display_summary)\u001b[0m\n\u001b[0;32m    193\u001b[0m             \u001b[0mlog_env_gpu\u001b[0m\u001b[1;33m=\u001b[0m\u001b[0mlog_env_gpu\u001b[0m\u001b[1;33m,\u001b[0m\u001b[1;33m\u001b[0m\u001b[1;33m\u001b[0m\u001b[0m\n\u001b[0;32m    194\u001b[0m             \u001b[0mlog_env_host\u001b[0m\u001b[1;33m=\u001b[0m\u001b[0mlog_env_host\u001b[0m\u001b[1;33m,\u001b[0m\u001b[1;33m\u001b[0m\u001b[1;33m\u001b[0m\u001b[0m\n\u001b[1;32m--> 195\u001b[1;33m             \u001b[0mdisplay_summary\u001b[0m\u001b[1;33m=\u001b[0m\u001b[0mdisplay_summary\u001b[0m\u001b[1;33m,\u001b[0m\u001b[1;33m\u001b[0m\u001b[1;33m\u001b[0m\u001b[0m\n\u001b[0m\u001b[0;32m    196\u001b[0m         )\n\u001b[0;32m    197\u001b[0m \u001b[1;33m\u001b[0m\u001b[0m\n",
      "\u001b[1;32mC:\\ProgramData\\Anaconda3\\lib\\site-packages\\comet_ml\\experiment.py\u001b[0m in \u001b[0;36m__init__\u001b[1;34m(self, project_name, workspace, log_code, log_graph, auto_param_logging, auto_metric_logging, parse_args, auto_output_logging, log_env_details, log_git_metadata, log_git_patch, disabled, log_env_gpu, log_env_host, display_summary)\u001b[0m\n\u001b[0;32m    237\u001b[0m                     \u001b[0mALREADY_IMPORTED_MODULES\u001b[0m\u001b[1;33m\u001b[0m\u001b[1;33m\u001b[0m\u001b[0m\n\u001b[0;32m    238\u001b[0m                 )\n\u001b[1;32m--> 239\u001b[1;33m                 \u001b[1;32mraise\u001b[0m \u001b[0mImportError\u001b[0m\u001b[1;33m(\u001b[0m\u001b[0mmsg\u001b[0m\u001b[1;33m)\u001b[0m\u001b[1;33m\u001b[0m\u001b[1;33m\u001b[0m\u001b[0m\n\u001b[0m\u001b[0;32m    240\u001b[0m \u001b[1;33m\u001b[0m\u001b[0m\n\u001b[0;32m    241\u001b[0m         \u001b[1;31m# Generate a unique identifier for this experiment.\u001b[0m\u001b[1;33m\u001b[0m\u001b[1;33m\u001b[0m\u001b[1;33m\u001b[0m\u001b[0m\n",
      "\u001b[1;31mImportError\u001b[0m: You must import Comet before these modules: sklearn"
     ]
    }
   ],
   "source": [
    "# import comet_ml in the top of your file\n",
    "from comet_ml import Experiment\n",
    "    \n",
    "# Add the following code anywhere in your machine learning file\n",
    "experiment = Experiment(api_key=\"HBFZ14J63ox8YgtKSiEQ6Gqbo\",\n",
    "                        project_name=\"MLCapstone_1\", workspace=\"prasad-ml\")"
   ]
  },
  {
   "cell_type": "code",
   "execution_count": null,
   "metadata": {},
   "outputs": [],
   "source": [
    "# Numerical calculation\n",
    "import numpy as np\n",
    "from scipy.stats import zscore\n",
    "from scipy import stats\n",
    "import warnings\n",
    "\n",
    "# Data handling\n",
    "import pandas as pd\n",
    "\n",
    "# Data Visualization\n",
    "import matplotlib.pyplot as plt\n",
    "import seaborn as sns\n",
    "\n",
    "# Sample and parameter tuning\n",
    "from sklearn.model_selection import train_test_split\n",
    "\n",
    "# Feature Engineering\n",
    "from sklearn.decomposition import PCA\n",
    "\n",
    "# Import Linear Regression machine learning library\n",
    "from sklearn.linear_model import LinearRegression,Ridge, Lasso"
   ]
  },
  {
   "cell_type": "markdown",
   "metadata": {},
   "source": [
    "### Load Dataset"
   ]
  },
  {
   "cell_type": "code",
   "execution_count": null,
   "metadata": {},
   "outputs": [],
   "source": [
    "warnings.filterwarnings('ignore')\n",
    "# Load the dataset into a Pandas dataframe called housedata\n",
    "housedata = pd.read_csv('innercity.csv')\n",
    "\n",
    "# Save an original copy of the dataframe\n",
    "housedata_original = housedata.copy()"
   ]
  },
  {
   "cell_type": "markdown",
   "metadata": {},
   "source": [
    "### Exploratory Data Analysis\n",
    "\n",
    "1. Univariate analysis\n",
    "  - Univariate analysis – data types and description of the independent attributes which should include name, meaning, range of values observed, central values (mean and median), standard deviation and quartiles, analysis of the body of distributions / tails,  missing values, outliers\n",
    "2. Multivariate analysis \n",
    "  - Bi-variate analysis between the predictor variables and between the predictor variables and target column. Comment on your findings in terms of their relationship and degree of relation if any. Presence of leverage points. Visualize the analysis using boxplots and pair plots, histograms or density curves. Select the most appropriate attributes\n",
    "3. Strategies to address the different data challenges such as data pollution, outliers and missing values\n"
   ]
  },
  {
   "cell_type": "code",
   "execution_count": null,
   "metadata": {},
   "outputs": [],
   "source": [
    "housedata.head()"
   ]
  },
  {
   "cell_type": "code",
   "execution_count": null,
   "metadata": {},
   "outputs": [],
   "source": [
    "housedata.info()"
   ]
  },
  {
   "cell_type": "code",
   "execution_count": 305,
   "metadata": {},
   "outputs": [
    {
     "data": {
      "text/html": [
       "<div>\n",
       "<style scoped>\n",
       "    .dataframe tbody tr th:only-of-type {\n",
       "        vertical-align: middle;\n",
       "    }\n",
       "\n",
       "    .dataframe tbody tr th {\n",
       "        vertical-align: top;\n",
       "    }\n",
       "\n",
       "    .dataframe thead th {\n",
       "        text-align: right;\n",
       "    }\n",
       "</style>\n",
       "<table border=\"1\" class=\"dataframe\">\n",
       "  <thead>\n",
       "    <tr style=\"text-align: right;\">\n",
       "      <th></th>\n",
       "      <th>price</th>\n",
       "      <th>room_bed</th>\n",
       "      <th>room_bath</th>\n",
       "      <th>living_measure</th>\n",
       "      <th>lot_measure</th>\n",
       "      <th>ceil</th>\n",
       "      <th>coast</th>\n",
       "      <th>sight</th>\n",
       "      <th>condition</th>\n",
       "      <th>quality</th>\n",
       "      <th>ceil_measure</th>\n",
       "      <th>basement</th>\n",
       "      <th>yr_built</th>\n",
       "      <th>yr_renovated</th>\n",
       "      <th>living_measure15</th>\n",
       "      <th>lot_measure15</th>\n",
       "      <th>furnished</th>\n",
       "      <th>total_area</th>\n",
       "    </tr>\n",
       "  </thead>\n",
       "  <tbody>\n",
       "    <tr>\n",
       "      <th>count</th>\n",
       "      <td>2.161300e+04</td>\n",
       "      <td>21613.000000</td>\n",
       "      <td>21613.000000</td>\n",
       "      <td>21613.000000</td>\n",
       "      <td>2.161300e+04</td>\n",
       "      <td>21613.000000</td>\n",
       "      <td>21613.000000</td>\n",
       "      <td>21613.000000</td>\n",
       "      <td>21613.000000</td>\n",
       "      <td>21613.000000</td>\n",
       "      <td>21613.000000</td>\n",
       "      <td>21613.000000</td>\n",
       "      <td>21613.000000</td>\n",
       "      <td>21613.000000</td>\n",
       "      <td>21613.000000</td>\n",
       "      <td>21613.000000</td>\n",
       "      <td>21613.000000</td>\n",
       "      <td>2.161300e+04</td>\n",
       "    </tr>\n",
       "    <tr>\n",
       "      <th>mean</th>\n",
       "      <td>5.401822e+05</td>\n",
       "      <td>3.370842</td>\n",
       "      <td>2.114757</td>\n",
       "      <td>2079.899736</td>\n",
       "      <td>1.510697e+04</td>\n",
       "      <td>1.494309</td>\n",
       "      <td>0.007542</td>\n",
       "      <td>0.234303</td>\n",
       "      <td>3.409430</td>\n",
       "      <td>7.656873</td>\n",
       "      <td>1788.390691</td>\n",
       "      <td>291.509045</td>\n",
       "      <td>1971.005136</td>\n",
       "      <td>84.402258</td>\n",
       "      <td>1986.552492</td>\n",
       "      <td>12768.455652</td>\n",
       "      <td>0.196687</td>\n",
       "      <td>1.718687e+04</td>\n",
       "    </tr>\n",
       "    <tr>\n",
       "      <th>std</th>\n",
       "      <td>3.673622e+05</td>\n",
       "      <td>0.930062</td>\n",
       "      <td>0.770163</td>\n",
       "      <td>918.440897</td>\n",
       "      <td>4.142051e+04</td>\n",
       "      <td>0.539989</td>\n",
       "      <td>0.086517</td>\n",
       "      <td>0.766318</td>\n",
       "      <td>0.650743</td>\n",
       "      <td>1.175459</td>\n",
       "      <td>828.090978</td>\n",
       "      <td>442.575043</td>\n",
       "      <td>29.373411</td>\n",
       "      <td>401.679240</td>\n",
       "      <td>685.391304</td>\n",
       "      <td>27304.179631</td>\n",
       "      <td>0.397503</td>\n",
       "      <td>4.158908e+04</td>\n",
       "    </tr>\n",
       "    <tr>\n",
       "      <th>min</th>\n",
       "      <td>7.500000e+04</td>\n",
       "      <td>0.000000</td>\n",
       "      <td>0.000000</td>\n",
       "      <td>290.000000</td>\n",
       "      <td>5.200000e+02</td>\n",
       "      <td>1.000000</td>\n",
       "      <td>0.000000</td>\n",
       "      <td>0.000000</td>\n",
       "      <td>1.000000</td>\n",
       "      <td>1.000000</td>\n",
       "      <td>290.000000</td>\n",
       "      <td>0.000000</td>\n",
       "      <td>1900.000000</td>\n",
       "      <td>0.000000</td>\n",
       "      <td>399.000000</td>\n",
       "      <td>651.000000</td>\n",
       "      <td>0.000000</td>\n",
       "      <td>1.423000e+03</td>\n",
       "    </tr>\n",
       "    <tr>\n",
       "      <th>25%</th>\n",
       "      <td>3.219500e+05</td>\n",
       "      <td>3.000000</td>\n",
       "      <td>1.750000</td>\n",
       "      <td>1427.000000</td>\n",
       "      <td>5.040000e+03</td>\n",
       "      <td>1.000000</td>\n",
       "      <td>0.000000</td>\n",
       "      <td>0.000000</td>\n",
       "      <td>3.000000</td>\n",
       "      <td>7.000000</td>\n",
       "      <td>1190.000000</td>\n",
       "      <td>0.000000</td>\n",
       "      <td>1951.000000</td>\n",
       "      <td>0.000000</td>\n",
       "      <td>1490.000000</td>\n",
       "      <td>5100.000000</td>\n",
       "      <td>0.000000</td>\n",
       "      <td>7.035000e+03</td>\n",
       "    </tr>\n",
       "    <tr>\n",
       "      <th>50%</th>\n",
       "      <td>4.500000e+05</td>\n",
       "      <td>3.000000</td>\n",
       "      <td>2.250000</td>\n",
       "      <td>1910.000000</td>\n",
       "      <td>7.618000e+03</td>\n",
       "      <td>1.500000</td>\n",
       "      <td>0.000000</td>\n",
       "      <td>0.000000</td>\n",
       "      <td>3.000000</td>\n",
       "      <td>7.000000</td>\n",
       "      <td>1560.000000</td>\n",
       "      <td>0.000000</td>\n",
       "      <td>1975.000000</td>\n",
       "      <td>0.000000</td>\n",
       "      <td>1840.000000</td>\n",
       "      <td>7620.000000</td>\n",
       "      <td>0.000000</td>\n",
       "      <td>9.575000e+03</td>\n",
       "    </tr>\n",
       "    <tr>\n",
       "      <th>75%</th>\n",
       "      <td>6.450000e+05</td>\n",
       "      <td>4.000000</td>\n",
       "      <td>2.500000</td>\n",
       "      <td>2550.000000</td>\n",
       "      <td>1.068800e+04</td>\n",
       "      <td>2.000000</td>\n",
       "      <td>0.000000</td>\n",
       "      <td>0.000000</td>\n",
       "      <td>4.000000</td>\n",
       "      <td>8.000000</td>\n",
       "      <td>2210.000000</td>\n",
       "      <td>560.000000</td>\n",
       "      <td>1997.000000</td>\n",
       "      <td>0.000000</td>\n",
       "      <td>2360.000000</td>\n",
       "      <td>10083.000000</td>\n",
       "      <td>0.000000</td>\n",
       "      <td>1.300000e+04</td>\n",
       "    </tr>\n",
       "    <tr>\n",
       "      <th>max</th>\n",
       "      <td>7.700000e+06</td>\n",
       "      <td>33.000000</td>\n",
       "      <td>8.000000</td>\n",
       "      <td>13540.000000</td>\n",
       "      <td>1.651359e+06</td>\n",
       "      <td>3.500000</td>\n",
       "      <td>1.000000</td>\n",
       "      <td>4.000000</td>\n",
       "      <td>5.000000</td>\n",
       "      <td>13.000000</td>\n",
       "      <td>9410.000000</td>\n",
       "      <td>4820.000000</td>\n",
       "      <td>2015.000000</td>\n",
       "      <td>2015.000000</td>\n",
       "      <td>6210.000000</td>\n",
       "      <td>871200.000000</td>\n",
       "      <td>1.000000</td>\n",
       "      <td>1.652659e+06</td>\n",
       "    </tr>\n",
       "  </tbody>\n",
       "</table>\n",
       "</div>"
      ],
      "text/plain": [
       "              price      room_bed     room_bath  living_measure   lot_measure  \\\n",
       "count  2.161300e+04  21613.000000  21613.000000    21613.000000  2.161300e+04   \n",
       "mean   5.401822e+05      3.370842      2.114757     2079.899736  1.510697e+04   \n",
       "std    3.673622e+05      0.930062      0.770163      918.440897  4.142051e+04   \n",
       "min    7.500000e+04      0.000000      0.000000      290.000000  5.200000e+02   \n",
       "25%    3.219500e+05      3.000000      1.750000     1427.000000  5.040000e+03   \n",
       "50%    4.500000e+05      3.000000      2.250000     1910.000000  7.618000e+03   \n",
       "75%    6.450000e+05      4.000000      2.500000     2550.000000  1.068800e+04   \n",
       "max    7.700000e+06     33.000000      8.000000    13540.000000  1.651359e+06   \n",
       "\n",
       "               ceil         coast         sight     condition       quality  \\\n",
       "count  21613.000000  21613.000000  21613.000000  21613.000000  21613.000000   \n",
       "mean       1.494309      0.007542      0.234303      3.409430      7.656873   \n",
       "std        0.539989      0.086517      0.766318      0.650743      1.175459   \n",
       "min        1.000000      0.000000      0.000000      1.000000      1.000000   \n",
       "25%        1.000000      0.000000      0.000000      3.000000      7.000000   \n",
       "50%        1.500000      0.000000      0.000000      3.000000      7.000000   \n",
       "75%        2.000000      0.000000      0.000000      4.000000      8.000000   \n",
       "max        3.500000      1.000000      4.000000      5.000000     13.000000   \n",
       "\n",
       "       ceil_measure      basement      yr_built  yr_renovated  \\\n",
       "count  21613.000000  21613.000000  21613.000000  21613.000000   \n",
       "mean    1788.390691    291.509045   1971.005136     84.402258   \n",
       "std      828.090978    442.575043     29.373411    401.679240   \n",
       "min      290.000000      0.000000   1900.000000      0.000000   \n",
       "25%     1190.000000      0.000000   1951.000000      0.000000   \n",
       "50%     1560.000000      0.000000   1975.000000      0.000000   \n",
       "75%     2210.000000    560.000000   1997.000000      0.000000   \n",
       "max     9410.000000   4820.000000   2015.000000   2015.000000   \n",
       "\n",
       "       living_measure15  lot_measure15     furnished    total_area  \n",
       "count      21613.000000   21613.000000  21613.000000  2.161300e+04  \n",
       "mean        1986.552492   12768.455652      0.196687  1.718687e+04  \n",
       "std          685.391304   27304.179631      0.397503  4.158908e+04  \n",
       "min          399.000000     651.000000      0.000000  1.423000e+03  \n",
       "25%         1490.000000    5100.000000      0.000000  7.035000e+03  \n",
       "50%         1840.000000    7620.000000      0.000000  9.575000e+03  \n",
       "75%         2360.000000   10083.000000      0.000000  1.300000e+04  \n",
       "max         6210.000000  871200.000000      1.000000  1.652659e+06  "
      ]
     },
     "execution_count": 305,
     "metadata": {},
     "output_type": "execute_result"
    }
   ],
   "source": [
    "housedata.describe()"
   ]
  },
  {
   "cell_type": "markdown",
   "metadata": {},
   "source": [
    "### Univariate Analysis\n",
    "Let's explore the spread of data points, presence of any outliers for all attributes. We will be using the following plots for this analysis.\n",
    "- Density curve with histogram\n",
    "- boxplot\n",
    "- pie chart\n",
    "- countplot\n",
    "- pointplot"
   ]
  },
  {
   "cell_type": "code",
   "execution_count": 306,
   "metadata": {},
   "outputs": [
    {
     "data": {
      "image/png": "[encoded data removed]",
      "text/plain": [
       "<Figure size 1152x1152 with 16 Axes>"
      ]
     },
     "metadata": {},
     "output_type": "display_data"
    }
   ],
   "source": [
    "import itertools\n",
    "# Analyze the body of the distributions\n",
    "cols = [i for i in housedata.columns if i not in ('cid','dayhours','lat','long','zipcode','yr_built','yr_renovated')]\n",
    "fig = plt.figure(figsize=(16,16))\n",
    "for i,j,k in itertools.zip_longest(cols, range(len(cols)), [\"darkorange\",\"r\",\"g\",\"c\",\"m\",\"k\",\"lime\",\"c\",\"r\",\"g\",\"c\",\"m\",\"k\",\"lime\",\"c\",\"g\"]):\n",
    "    plt.subplot(4,4,j+1)\n",
    "    ax = sns.distplot(housedata[i],color=k)\n",
    "    plt.axvline(housedata[i].mean(),linestyle=\"dashed\",label=\"mean\",color=\"k\")\n",
    "    plt.legend(loc=\"best\")"
   ]
  },
  {
   "cell_type": "code",
   "execution_count": 307,
   "metadata": {},
   "outputs": [
    {
     "data": {
      "text/plain": [
       "<matplotlib.legend.Legend at 0x10b07e3b048>"
      ]
     },
     "execution_count": 307,
     "metadata": {},
     "output_type": "execute_result"
    },
    {
     "data": {
      "image/png": "[encoded data removed]",
      "text/plain": [
       "<Figure size 1152x504 with 1 Axes>"
      ]
     },
     "metadata": {},
     "output_type": "display_data"
    }
   ],
   "source": [
    "# Target feature \"Comprehensive Strength\" distribution\n",
    "plt.figure(figsize=(16,7))\n",
    "sns.set_style('darkgrid', {'axes.grid' : True})\n",
    "sns.distplot(housedata[\"price\"],color=\"b\",rug=True)\n",
    "plt.axvline(housedata[\"price\"].mean(), linestyle=\"dashed\", color=\"k\", label='mean', linewidth=2)\n",
    "plt.legend(loc=\"best\",prop={\"size\":14})"
   ]
  },
  {
   "cell_type": "markdown",
   "metadata": {},
   "source": [
    "**Observations:**\n",
    "- It seems there is presence of long tails in almost all of the columns indicates outliers\n",
    "- The distribution of *price* feature seems to be left skewed or having outliers.\n",
    "- There are clearly bumps visible in *ceil*, *condition* and *quality* features"
   ]
  },
  {
   "cell_type": "code",
   "execution_count": 308,
   "metadata": {},
   "outputs": [
    {
     "data": {
      "text/plain": [
       "price               0.0\n",
       "room_bed            0.0\n",
       "room_bath           0.0\n",
       "living_measure      0.0\n",
       "lot_measure         0.0\n",
       "ceil                0.0\n",
       "coast               0.0\n",
       "sight               0.0\n",
       "condition           0.0\n",
       "quality             0.0\n",
       "ceil_measure        0.0\n",
       "basement            0.0\n",
       "yr_built            0.0\n",
       "yr_renovated        0.0\n",
       "living_measure15    0.0\n",
       "lot_measure15       0.0\n",
       "furnished           0.0\n",
       "total_area          0.0\n",
       "dtype: float64"
      ]
     },
     "execution_count": 308,
     "metadata": {},
     "output_type": "execute_result"
    }
   ],
   "source": [
    "# Check for any Non-Real value present in the dataset such as '?' or '*' etc.\n",
    "housedata[~housedata.applymap(np.isreal)].sum(axis=0)"
   ]
  },
  {
   "cell_type": "markdown",
   "metadata": {},
   "source": [
    "**Observations**\n",
    "- dayhours column is having datetime in string format\n",
    "- Need to convert dayhours to datetime format"
   ]
  },
  {
   "cell_type": "code",
   "execution_count": 309,
   "metadata": {},
   "outputs": [
    {
     "ename": "KeyError",
     "evalue": "'dayhours'",
     "output_type": "error",
     "traceback": [
      "\u001b[1;31m---------------------------------------------------------------------------\u001b[0m",
      "\u001b[1;31mKeyError\u001b[0m                                  Traceback (most recent call last)",
      "\u001b[1;32mC:\\ProgramData\\Anaconda3\\lib\\site-packages\\pandas\\core\\indexes\\base.py\u001b[0m in \u001b[0;36mget_loc\u001b[1;34m(self, key, method, tolerance)\u001b[0m\n\u001b[0;32m   2889\u001b[0m             \u001b[1;32mtry\u001b[0m\u001b[1;33m:\u001b[0m\u001b[1;33m\u001b[0m\u001b[1;33m\u001b[0m\u001b[0m\n\u001b[1;32m-> 2890\u001b[1;33m                 \u001b[1;32mreturn\u001b[0m \u001b[0mself\u001b[0m\u001b[1;33m.\u001b[0m\u001b[0m_engine\u001b[0m\u001b[1;33m.\u001b[0m\u001b[0mget_loc\u001b[0m\u001b[1;33m(\u001b[0m\u001b[0mkey\u001b[0m\u001b[1;33m)\u001b[0m\u001b[1;33m\u001b[0m\u001b[1;33m\u001b[0m\u001b[0m\n\u001b[0m\u001b[0;32m   2891\u001b[0m             \u001b[1;32mexcept\u001b[0m \u001b[0mKeyError\u001b[0m\u001b[1;33m:\u001b[0m\u001b[1;33m\u001b[0m\u001b[1;33m\u001b[0m\u001b[0m\n",
      "\u001b[1;32mpandas\\_libs\\index.pyx\u001b[0m in \u001b[0;36mpandas._libs.index.IndexEngine.get_loc\u001b[1;34m()\u001b[0m\n",
      "\u001b[1;32mpandas\\_libs\\index.pyx\u001b[0m in \u001b[0;36mpandas._libs.index.IndexEngine.get_loc\u001b[1;34m()\u001b[0m\n",
      "\u001b[1;32mpandas\\_libs\\hashtable_class_helper.pxi\u001b[0m in \u001b[0;36mpandas._libs.hashtable.PyObjectHashTable.get_item\u001b[1;34m()\u001b[0m\n",
      "\u001b[1;32mpandas\\_libs\\hashtable_class_helper.pxi\u001b[0m in \u001b[0;36mpandas._libs.hashtable.PyObjectHashTable.get_item\u001b[1;34m()\u001b[0m\n",
      "\u001b[1;31mKeyError\u001b[0m: 'dayhours'",
      "\nDuring handling of the above exception, another exception occurred:\n",
      "\u001b[1;31mKeyError\u001b[0m                                  Traceback (most recent call last)",
      "\u001b[1;32m<ipython-input-309-35f637224e3c>\u001b[0m in \u001b[0;36m<module>\u001b[1;34m\u001b[0m\n\u001b[0;32m      2\u001b[0m \u001b[1;32mfrom\u001b[0m \u001b[0mdatetime\u001b[0m \u001b[1;32mimport\u001b[0m \u001b[0mdatetime\u001b[0m\u001b[1;33m\u001b[0m\u001b[1;33m\u001b[0m\u001b[0m\n\u001b[0;32m      3\u001b[0m \u001b[1;33m\u001b[0m\u001b[0m\n\u001b[1;32m----> 4\u001b[1;33m \u001b[0mhousedata\u001b[0m\u001b[1;33m[\u001b[0m\u001b[1;34m'dayhours'\u001b[0m\u001b[1;33m]\u001b[0m \u001b[1;33m=\u001b[0m \u001b[0mpd\u001b[0m\u001b[1;33m.\u001b[0m\u001b[0mto_datetime\u001b[0m\u001b[1;33m(\u001b[0m\u001b[0mhousedata\u001b[0m\u001b[1;33m[\u001b[0m\u001b[1;34m'dayhours'\u001b[0m\u001b[1;33m]\u001b[0m\u001b[1;33m,\u001b[0m \u001b[0mformat\u001b[0m\u001b[1;33m=\u001b[0m\u001b[1;34m'%Y%m%dT%H%M%S'\u001b[0m\u001b[1;33m)\u001b[0m\u001b[1;33m\u001b[0m\u001b[1;33m\u001b[0m\u001b[0m\n\u001b[0m",
      "\u001b[1;32mC:\\ProgramData\\Anaconda3\\lib\\site-packages\\pandas\\core\\frame.py\u001b[0m in \u001b[0;36m__getitem__\u001b[1;34m(self, key)\u001b[0m\n\u001b[0;32m   2973\u001b[0m             \u001b[1;32mif\u001b[0m \u001b[0mself\u001b[0m\u001b[1;33m.\u001b[0m\u001b[0mcolumns\u001b[0m\u001b[1;33m.\u001b[0m\u001b[0mnlevels\u001b[0m \u001b[1;33m>\u001b[0m \u001b[1;36m1\u001b[0m\u001b[1;33m:\u001b[0m\u001b[1;33m\u001b[0m\u001b[1;33m\u001b[0m\u001b[0m\n\u001b[0;32m   2974\u001b[0m                 \u001b[1;32mreturn\u001b[0m \u001b[0mself\u001b[0m\u001b[1;33m.\u001b[0m\u001b[0m_getitem_multilevel\u001b[0m\u001b[1;33m(\u001b[0m\u001b[0mkey\u001b[0m\u001b[1;33m)\u001b[0m\u001b[1;33m\u001b[0m\u001b[1;33m\u001b[0m\u001b[0m\n\u001b[1;32m-> 2975\u001b[1;33m             \u001b[0mindexer\u001b[0m \u001b[1;33m=\u001b[0m \u001b[0mself\u001b[0m\u001b[1;33m.\u001b[0m\u001b[0mcolumns\u001b[0m\u001b[1;33m.\u001b[0m\u001b[0mget_loc\u001b[0m\u001b[1;33m(\u001b[0m\u001b[0mkey\u001b[0m\u001b[1;33m)\u001b[0m\u001b[1;33m\u001b[0m\u001b[1;33m\u001b[0m\u001b[0m\n\u001b[0m\u001b[0;32m   2976\u001b[0m             \u001b[1;32mif\u001b[0m \u001b[0mis_integer\u001b[0m\u001b[1;33m(\u001b[0m\u001b[0mindexer\u001b[0m\u001b[1;33m)\u001b[0m\u001b[1;33m:\u001b[0m\u001b[1;33m\u001b[0m\u001b[1;33m\u001b[0m\u001b[0m\n\u001b[0;32m   2977\u001b[0m                 \u001b[0mindexer\u001b[0m \u001b[1;33m=\u001b[0m \u001b[1;33m[\u001b[0m\u001b[0mindexer\u001b[0m\u001b[1;33m]\u001b[0m\u001b[1;33m\u001b[0m\u001b[1;33m\u001b[0m\u001b[0m\n",
      "\u001b[1;32mC:\\ProgramData\\Anaconda3\\lib\\site-packages\\pandas\\core\\indexes\\base.py\u001b[0m in \u001b[0;36mget_loc\u001b[1;34m(self, key, method, tolerance)\u001b[0m\n\u001b[0;32m   2890\u001b[0m                 \u001b[1;32mreturn\u001b[0m \u001b[0mself\u001b[0m\u001b[1;33m.\u001b[0m\u001b[0m_engine\u001b[0m\u001b[1;33m.\u001b[0m\u001b[0mget_loc\u001b[0m\u001b[1;33m(\u001b[0m\u001b[0mkey\u001b[0m\u001b[1;33m)\u001b[0m\u001b[1;33m\u001b[0m\u001b[1;33m\u001b[0m\u001b[0m\n\u001b[0;32m   2891\u001b[0m             \u001b[1;32mexcept\u001b[0m \u001b[0mKeyError\u001b[0m\u001b[1;33m:\u001b[0m\u001b[1;33m\u001b[0m\u001b[1;33m\u001b[0m\u001b[0m\n\u001b[1;32m-> 2892\u001b[1;33m                 \u001b[1;32mreturn\u001b[0m \u001b[0mself\u001b[0m\u001b[1;33m.\u001b[0m\u001b[0m_engine\u001b[0m\u001b[1;33m.\u001b[0m\u001b[0mget_loc\u001b[0m\u001b[1;33m(\u001b[0m\u001b[0mself\u001b[0m\u001b[1;33m.\u001b[0m\u001b[0m_maybe_cast_indexer\u001b[0m\u001b[1;33m(\u001b[0m\u001b[0mkey\u001b[0m\u001b[1;33m)\u001b[0m\u001b[1;33m)\u001b[0m\u001b[1;33m\u001b[0m\u001b[1;33m\u001b[0m\u001b[0m\n\u001b[0m\u001b[0;32m   2893\u001b[0m         \u001b[0mindexer\u001b[0m \u001b[1;33m=\u001b[0m \u001b[0mself\u001b[0m\u001b[1;33m.\u001b[0m\u001b[0mget_indexer\u001b[0m\u001b[1;33m(\u001b[0m\u001b[1;33m[\u001b[0m\u001b[0mkey\u001b[0m\u001b[1;33m]\u001b[0m\u001b[1;33m,\u001b[0m \u001b[0mmethod\u001b[0m\u001b[1;33m=\u001b[0m\u001b[0mmethod\u001b[0m\u001b[1;33m,\u001b[0m \u001b[0mtolerance\u001b[0m\u001b[1;33m=\u001b[0m\u001b[0mtolerance\u001b[0m\u001b[1;33m)\u001b[0m\u001b[1;33m\u001b[0m\u001b[1;33m\u001b[0m\u001b[0m\n\u001b[0;32m   2894\u001b[0m         \u001b[1;32mif\u001b[0m \u001b[0mindexer\u001b[0m\u001b[1;33m.\u001b[0m\u001b[0mndim\u001b[0m \u001b[1;33m>\u001b[0m \u001b[1;36m1\u001b[0m \u001b[1;32mor\u001b[0m \u001b[0mindexer\u001b[0m\u001b[1;33m.\u001b[0m\u001b[0msize\u001b[0m \u001b[1;33m>\u001b[0m \u001b[1;36m1\u001b[0m\u001b[1;33m:\u001b[0m\u001b[1;33m\u001b[0m\u001b[1;33m\u001b[0m\u001b[0m\n",
      "\u001b[1;32mpandas\\_libs\\index.pyx\u001b[0m in \u001b[0;36mpandas._libs.index.IndexEngine.get_loc\u001b[1;34m()\u001b[0m\n",
      "\u001b[1;32mpandas\\_libs\\index.pyx\u001b[0m in \u001b[0;36mpandas._libs.index.IndexEngine.get_loc\u001b[1;34m()\u001b[0m\n",
      "\u001b[1;32mpandas\\_libs\\hashtable_class_helper.pxi\u001b[0m in \u001b[0;36mpandas._libs.hashtable.PyObjectHashTable.get_item\u001b[1;34m()\u001b[0m\n",
      "\u001b[1;32mpandas\\_libs\\hashtable_class_helper.pxi\u001b[0m in \u001b[0;36mpandas._libs.hashtable.PyObjectHashTable.get_item\u001b[1;34m()\u001b[0m\n",
      "\u001b[1;31mKeyError\u001b[0m: 'dayhours'"
     ]
    }
   ],
   "source": [
    "#Convert dayhours to datetime format\n",
    "from datetime import datetime\n",
    "\n",
    "housedata['dayhours'] = pd.to_datetime(housedata['dayhours'], format='%Y%m%dT%H%M%S')"
   ]
  },
  {
   "cell_type": "code",
   "execution_count": null,
   "metadata": {},
   "outputs": [],
   "source": [
    "housedata.head()"
   ]
  },
  {
   "cell_type": "code",
   "execution_count": null,
   "metadata": {},
   "outputs": [],
   "source": [
    "#Remove un necessary columns\n",
    "housedatabkp = housedata\n",
    "\n",
    "columns = ['dayhours','cid','zipcode','lat','long']\n",
    "housedata = housedata.drop(columns, axis=1)"
   ]
  },
  {
   "cell_type": "code",
   "execution_count": null,
   "metadata": {},
   "outputs": [],
   "source": [
    "# Check for Nan/missing values\n",
    "housedata.applymap(np.isnan).sum(axis=0)\n",
    "\n",
    "#For identifying NaN values in price\n",
    "#housedata[mydata['price'].isnull()]"
   ]
  },
  {
   "cell_type": "code",
   "execution_count": null,
   "metadata": {},
   "outputs": [],
   "source": [
    "# Find out the count of 0s in each column\n",
    "(housedata == 0.0).sum(axis=0)"
   ]
  },
  {
   "cell_type": "code",
   "execution_count": null,
   "metadata": {},
   "outputs": [],
   "source": [
    "housedata.sight.value_counts()"
   ]
  },
  {
   "cell_type": "markdown",
   "metadata": {},
   "source": [
    "**Observations:**\n",
    "- There are no Nan values present in dataset\n",
    "- columns coast, sight, basement, yr_renovated, furnished has many zero values\n",
    "- However furnished and coast are bollean values\n",
    "- we are going to convert yr_renovated column to boolean value to know whether it has renovated or not"
   ]
  },
  {
   "cell_type": "code",
   "execution_count": null,
   "metadata": {},
   "outputs": [],
   "source": [
    "\n",
    "#convert values to ints:\n",
    "#housedata['price'] = housedata['price'].astype(int)\n",
    "housedata['price'] = housedata['price'].fillna(0).astype(int)"
   ]
  },
  {
   "cell_type": "code",
   "execution_count": null,
   "metadata": {},
   "outputs": [],
   "source": [
    "#Coralation plot\n",
    "corr = housedata.corr()\n",
    "\n",
    "# Top 50% Corralation train attributes with price\n",
    "top_feature = corr.index[abs(corr['price']>0.5)]\n",
    "plt.subplots(figsize=(12, 8))\n",
    "top_corr = housedata[top_feature].corr()\n",
    "sns.heatmap(top_corr, annot=True)\n",
    "plt.show()"
   ]
  },
  {
   "cell_type": "markdown",
   "metadata": {},
   "source": [
    "### Outlier Treatement"
   ]
  },
  {
   "cell_type": "code",
   "execution_count": null,
   "metadata": {},
   "outputs": [],
   "source": [
    "# Plot the central tendency of the dataset\n",
    "_, bp = housedata.boxplot(return_type='both', figsize=(20,10))"
   ]
  },
  {
   "cell_type": "code",
   "execution_count": null,
   "metadata": {},
   "outputs": [],
   "source": [
    "# Plot the columns which are having too many outliers\n",
    "_, bp = housedata.boxplot(column=[\"price\",\"lot_measure\",\"total_area\",\"lot_measure15\"],return_type='both', figsize=(20,10))"
   ]
  },
  {
   "cell_type": "code",
   "execution_count": null,
   "metadata": {},
   "outputs": [],
   "source": [
    "# Plot the central tendency excluding cid field\n",
    "_, bp = housedata.boxplot(column=[\n",
    "'living_measure',\n",
    "'ceil_measure',\n",
    "'living_measure15'\n",
    "],return_type='both', figsize=(20,10), rot='vertical')"
   ]
  },
  {
   "cell_type": "code",
   "execution_count": null,
   "metadata": {},
   "outputs": [],
   "source": [
    "# # outliers capping for price\n",
    "# q3 = housedata.price.quantile(0.75)\n",
    "# high = q3 + 1.5*(q3 - housedata.price.quantile(0.25))\n",
    "# housedata.loc[(housedata.price > high), 'price'] = high\n",
    "# print (high)\n",
    "# # outliers capping for lot_measure\n",
    "# q3 = housedata.lot_measure.quantile(0.75)\n",
    "# high = q3 + 1.5*(q3 - housedata.lot_measure.quantile(0.25))\n",
    "# housedata.loc[(housedata.lot_measure > high), 'lot_measure'] = high\n",
    "# print (high)\n",
    "# outliers capping for total_area\n",
    "# q3 = housedata.total_area.quantile(0.75)\n",
    "# high = q3 + 1.5*(q3 - housedata.total_area.quantile(0.25))\n",
    "# housedata.loc[(housedata.total_area > high), 'total_area'] = high\n",
    "# print (high)\n",
    "# # # outliers capping for lot_measure15\n",
    "# # q3 = housedata.lot_measure15.quantile(0.75)\n",
    "# # high = q3 + 1.5*(q3 - housedata.lot_measure15.quantile(0.25))\n",
    "# # housedata.loc[(housedata.lot_measure15 > high), 'lot_measure15'] = high\n",
    "# # print (high)\n",
    "# # outliers capping for living_measure\n",
    "# q3 = housedata.living_measure.quantile(0.75)\n",
    "# high = q3 + 1.5*(q3 - housedata.living_measure.quantile(0.25))\n",
    "# housedata.loc[(housedata.living_measure > high), 'living_measure'] = high\n",
    "# # outliers capping for ceil_measure\n",
    "# q3 = housedata.ceil_measure.quantile(0.75)\n",
    "# high = q3 + 1.5*(q3 - housedata.ceil_measure.quantile(0.25))\n",
    "# housedata.loc[(housedata.ceil_measure > high), 'ceil_measure'] = high\n",
    "# # # outliers capping for basement\n",
    "# # q3 = housedata.basement.quantile(0.75)\n",
    "# # high = q3 + 1.5*(q3 - housedata.basement.quantile(0.25))\n",
    "# # housedata.loc[(housedata.basement > high), 'basement'] = high\n",
    "# # outliers capping for living_measure15\n",
    "# q3 = housedata.living_measure15.quantile(0.75)\n",
    "# high = q3 + 1.5*(q3 - housedata.living_measure15.quantile(0.25))\n",
    "# housedata.loc[(housedata.living_measure15 > high), 'living_measure15'] = high"
   ]
  },
  {
   "cell_type": "code",
   "execution_count": null,
   "metadata": {},
   "outputs": [],
   "source": [
    "# Plot the central tendency of the dataset\n",
    "# _, bp = housedata.boxplot(column=[\"price\",\"lot_measure\",\"total_area\",\"lot_measure15\"],return_type='both', figsize=(20,10))"
   ]
  },
  {
   "cell_type": "code",
   "execution_count": null,
   "metadata": {},
   "outputs": [],
   "source": [
    "# # Plot the central tendency excluding cid field\n",
    "# _, bp = housedata.boxplot(column=[\n",
    "# 'living_measure',\n",
    "# 'ceil_measure',\n",
    "# 'basement',\n",
    "# 'living_measure15'\n",
    "# ],return_type='both', figsize=(20,10), rot='vertical')"
   ]
  },
  {
   "cell_type": "code",
   "execution_count": null,
   "metadata": {},
   "outputs": [],
   "source": [
    "#Removee cid, zipcode,lat and long columns\n",
    "mydata = housedata[['price','room_bed','room_bath','living_measure','lot_measure','ceil','coast','sight','condition',\n",
    "'quality',\n",
    "'ceil_measure',\n",
    "'basement',\n",
    "'living_measure15',\n",
    "'lot_measure15',\n",
    "'yr_built',\n",
    "'furnished',\n",
    "'total_area']]"
   ]
  },
  {
   "cell_type": "markdown",
   "metadata": {},
   "source": [
    "### Bivariate Analysis\n",
    "Let's explore the relationship among the predictor variables and between the predictor variables and target column. We will be using the density curve plus histogram, scatterplot and pairplots for this analysis.\n",
    "#### Pairplot\n",
    "Pairplot helps picturizing the pair wise relationship between two variables. It creates a square matrix of no. of continous attributes of the dataset. The diagonal plots represents the histogram and/or the kde plot of a particular attributes where as the upper or lower trangular plots represents the co-linearity of two attributes."
   ]
  },
  {
   "cell_type": "code",
   "execution_count": null,
   "metadata": {},
   "outputs": [],
   "source": [
    "#sns.pairplot(mydata)"
   ]
  },
  {
   "cell_type": "markdown",
   "metadata": {},
   "source": [
    "### Feature Engineering"
   ]
  },
  {
   "cell_type": "code",
   "execution_count": null,
   "metadata": {},
   "outputs": [],
   "source": [
    "#Findout \n",
    "mydata.head(20)"
   ]
  },
  {
   "cell_type": "code",
   "execution_count": null,
   "metadata": {},
   "outputs": [],
   "source": [
    "mydata.iloc[16785]"
   ]
  },
  {
   "cell_type": "markdown",
   "metadata": {},
   "source": [
    "#### Log Transform"
   ]
  },
  {
   "cell_type": "code",
   "execution_count": null,
   "metadata": {},
   "outputs": [],
   "source": [
    "#we use log function which is in numpy\n",
    "mydata['price'] = np.log1p(mydata['price'])\n",
    "# mydata['living_measure'] = np.log1p(mydata['living_measure'])\n",
    "# mydata['ceil_measure'] = np.log1p(mydata['ceil_measure'])\n",
    "# mydata['living_measure15'] = np.log1p(mydata['living_measure15'])\n",
    "# mydata['lot_measure'] = np.log1p(mydata['lot_measure'])\n",
    "# mydata['total_area'] = np.log1p(mydata['total_area'])\n",
    "# mydata['lot_measure15'] = np.log1p(mydata['lot_measure15'])\n",
    "# mydata['basement'] = np.log1p(mydata['basement'])\n",
    "\n",
    "\n",
    "#Check again for more normal distribution\n",
    "plt.subplots(figsize=(12,9))\n",
    "sns.distplot(mydata['price'], fit=stats.norm)\n",
    "\n",
    "# Get the fitted parameters used by the function\n",
    "(mu, sigma) = stats.norm.fit(mydata['price'])\n",
    "\n",
    "# plot with the distribution\n",
    "plt.legend(['Normal dist. ($\\mu=$ {:.2f} and $\\sigma=$ {:.2f} )'.format(mu, sigma)], loc='best')\n",
    "plt.ylabel('Frequency')\n",
    "\n",
    "#Probablity plot\n",
    "fig = plt.figure()\n",
    "stats.probplot(mydata['price'], plot=plt)\n",
    "plt.show()"
   ]
  },
  {
   "cell_type": "markdown",
   "metadata": {},
   "source": [
    "**Observation**\n",
    "- Performance of model is degraded after Log transform\n",
    "- Hence avoiding this"
   ]
  },
  {
   "cell_type": "markdown",
   "metadata": {},
   "source": [
    "#### Z Score "
   ]
  },
  {
   "cell_type": "code",
   "execution_count": null,
   "metadata": {},
   "outputs": [],
   "source": [
    "# mydata = mydata.apply(zscore)\n",
    "# mydata.describe()"
   ]
  },
  {
   "cell_type": "markdown",
   "metadata": {},
   "source": [
    "#### MinMaxScalar"
   ]
  },
  {
   "cell_type": "code",
   "execution_count": null,
   "metadata": {},
   "outputs": [],
   "source": []
  },
  {
   "cell_type": "markdown",
   "metadata": {},
   "source": [
    "#### Feature Scoring"
   ]
  },
  {
   "cell_type": "code",
   "execution_count": null,
   "metadata": {},
   "outputs": [],
   "source": [
    "#Arrange data into independent and dependent variables\n",
    "X = mydata.drop('price', axis=1)\n",
    "y = mydata[['price']]"
   ]
  },
  {
   "cell_type": "code",
   "execution_count": null,
   "metadata": {},
   "outputs": [],
   "source": [
    "from sklearn.feature_selection import SelectKBest\n",
    "from sklearn.feature_selection import chi2\n",
    "\n",
    "#apply SelectKBest class to extract top 10 best features\n",
    "bestfeatures = SelectKBest( k ='all')\n",
    "fit = bestfeatures.fit(X,y)\n",
    "dfscores = pd.DataFrame(fit.scores_)\n",
    "dfcolumns = pd.DataFrame(X.columns)\n",
    "#concat two dataframes for better visualization \n",
    "featureScores = pd.concat([dfcolumns,dfscores],axis=1)\n",
    "featureScores.columns = ['Specs','Score']  #naming the dataframe columns\n",
    "print(featureScores.nlargest(16,'Score'))  #print 10 best features"
   ]
  },
  {
   "cell_type": "code",
   "execution_count": null,
   "metadata": {},
   "outputs": [],
   "source": [
    "#Removing less scored features\n",
    "columns=['coast','lot_measure','lot_measure15','total_area']\n",
    "mydata = mydata.drop(columns, axis=1)\n",
    "mydata.head()"
   ]
  },
  {
   "cell_type": "markdown",
   "metadata": {},
   "source": [
    "#### PCA"
   ]
  },
  {
   "cell_type": "code",
   "execution_count": null,
   "metadata": {},
   "outputs": [],
   "source": [
    "# #Fitting the PCA algorithm with our Data\n",
    "# pca = PCA().fit(X)\n",
    "# #Plotting the Cumulative Summation of the Explained Variance\n",
    "# plt.figure()\n",
    "# plt.plot(np.cumsum(pca.explained_variance_ratio_))\n",
    "# plt.xlabel('Number of Components')\n",
    "# plt.ylabel('Variance (%)') #for each component\n",
    "# plt.title('Dataset Explained Variance')\n",
    "# plt.show()"
   ]
  },
  {
   "cell_type": "code",
   "execution_count": null,
   "metadata": {},
   "outputs": [],
   "source": [
    "# pca = PCA(n_components=10)\n",
    "# mydata_pca = pca.fit_transform(X)\n",
    "# mydata_df = pd.DataFrame(mydata_pca)  "
   ]
  },
  {
   "cell_type": "code",
   "execution_count": null,
   "metadata": {},
   "outputs": [],
   "source": [
    "# #Testing PCA with Linear Regression\n",
    "# #Split data into Train and test\n",
    "# #Size of test data is 30% of original data\n",
    "# X_train, X_test, y_train, y_test = train_test_split(mydata_df, y, test_size=0.30, random_state=1)\n",
    "\n",
    "# regression_model = LinearRegression()\n",
    "# regression_model.fit(X_train, y_train)\n",
    "# print(regression_model.score(X_train, y_train))\n",
    "# print(regression_model.score(X_test, y_test))"
   ]
  },
  {
   "cell_type": "code",
   "execution_count": null,
   "metadata": {},
   "outputs": [],
   "source": [
    "# # Test with Support Vector Regresser\n",
    "# from sklearn.svm import SVR\n",
    "# svc_model = SVR(C= .5,kernel='linear',gamma=1)\n",
    "# svc_model.fit(X_train, y_train)\n",
    "\n",
    "# prediction = svc_model.predict(X_test)\n",
    "# #print(prediction)\n",
    "# #print(svc_model.support_vectors_)\n",
    "\n",
    "# print(svc_model.score(X_test, y_test))\n",
    "# print(svc_model.score(X_train, y_train))"
   ]
  },
  {
   "cell_type": "markdown",
   "metadata": {},
   "source": [
    "#### Observation\n",
    "- PCA reduced number of dimensions to 8\n",
    "- But performance of model is not upto the mark"
   ]
  },
  {
   "cell_type": "markdown",
   "metadata": {},
   "source": [
    "### Generte Polynomial Model"
   ]
  },
  {
   "cell_type": "code",
   "execution_count": null,
   "metadata": {},
   "outputs": [],
   "source": [
    "# from sklearn.preprocessing import PolynomialFeatures"
   ]
  },
  {
   "cell_type": "code",
   "execution_count": null,
   "metadata": {},
   "outputs": [],
   "source": [
    "# poly = PolynomialFeatures(degree = 2, interaction_only=True)"
   ]
  },
  {
   "cell_type": "code",
   "execution_count": null,
   "metadata": {},
   "outputs": [],
   "source": [
    "# X_poly = poly.fit_transform(X)\n",
    "# X_te, X_test, y_te, y_test = train_test_split(X_poly, y, test_size=0.20, random_state=1)\n",
    "# X_train, X_val, y_train, y_val = train_test_split(X_te, y_te, test_size=0.20, random_state=1)\n",
    "# X_train.shape"
   ]
  },
  {
   "cell_type": "code",
   "execution_count": null,
   "metadata": {},
   "outputs": [],
   "source": [
    "# #Fit linear modelon poly features\n",
    "# regression_model.fit(X_train, y_train)\n",
    "# print(regression_model.coef_[0])"
   ]
  },
  {
   "cell_type": "code",
   "execution_count": null,
   "metadata": {},
   "outputs": [],
   "source": [
    "# print(regression_model.score(X_train, y_train))\n",
    "# print(regression_model.score(X_val, y_val))"
   ]
  },
  {
   "cell_type": "markdown",
   "metadata": {},
   "source": [
    "**Observations**\n",
    "- Polynomial features is not giving good results\n",
    "- Hence ignoring this"
   ]
  },
  {
   "cell_type": "markdown",
   "metadata": {},
   "source": [
    "## Modelling"
   ]
  },
  {
   "cell_type": "code",
   "execution_count": null,
   "metadata": {},
   "outputs": [],
   "source": [
    "from sklearn.metrics import r2_score, mean_squared_error\n",
    "\n",
    "#Arrange data into independent and dependent variables\n",
    "X = mydata.drop('price', axis=1)\n",
    "y = mydata[['price']]"
   ]
  },
  {
   "cell_type": "code",
   "execution_count": null,
   "metadata": {},
   "outputs": [],
   "source": [
    "#Split data into Train and test\n",
    "#Size of test data is 30% of original data\n",
    "X_train, X_test, y_train, y_test = train_test_split(X, y, test_size=0.30, random_state=1)"
   ]
  },
  {
   "cell_type": "markdown",
   "metadata": {},
   "source": [
    "#### Linear Regression"
   ]
  },
  {
   "cell_type": "code",
   "execution_count": null,
   "metadata": {},
   "outputs": [],
   "source": [
    "# invoke the LinearRegression function and find the bestfit model on training data\n",
    "\n",
    "regression_model = LinearRegression()\n",
    "regression_model.fit(X_train, y_train)\n"
   ]
  },
  {
   "cell_type": "code",
   "execution_count": null,
   "metadata": {},
   "outputs": [],
   "source": [
    "\n",
    "print(regression_model.score(X_train, y_train))\n",
    "print(regression_model.score(X_test, y_test))"
   ]
  },
  {
   "cell_type": "code",
   "execution_count": null,
   "metadata": {},
   "outputs": [],
   "source": [
    "ridge = Ridge()\n",
    "ridge.fit(X_train, y_train)\n",
    "print (\"Ridge model :\",(ridge.coef_))\n",
    "print ('')\n",
    "print(ridge.score(X_train, y_train))\n",
    "print(ridge.score(X_test, y_test))"
   ]
  },
  {
   "cell_type": "code",
   "execution_count": null,
   "metadata": {},
   "outputs": [],
   "source": [
    "lasso = Lasso(alpha=0.1)\n",
    "lasso.fit(X_train, y_train)\n",
    "print (\"Lasso model :\",(lasso.coef_))\n",
    "print ('')\n",
    "print(lasso.score(X_train, y_train))\n",
    "print(lasso.score(X_test, y_test))"
   ]
  },
  {
   "cell_type": "markdown",
   "metadata": {},
   "source": [
    "#### SVM"
   ]
  },
  {
   "cell_type": "code",
   "execution_count": null,
   "metadata": {},
   "outputs": [],
   "source": [
    "# # Test with Support Vector Regresser\n",
    "# from sklearn.svm import SVR\n",
    "# svc_model = SVR(C= .5,kernel='linear',gamma=1)\n",
    "# svc_model.fit(X_train, y_train)\n",
    "\n",
    "# prediction = svc_model.predict(X_test)\n",
    "# #print(prediction)\n",
    "# #print(svc_model.support_vectors_)\n",
    "\n",
    "# print(svc_model.score(X_test, y_test))\n",
    "# print(svc_model.score(X_train, y_train))"
   ]
  },
  {
   "cell_type": "markdown",
   "metadata": {},
   "source": [
    "#### Decision Tree"
   ]
  },
  {
   "cell_type": "code",
   "execution_count": null,
   "metadata": {},
   "outputs": [],
   "source": [
    "from sklearn.tree import DecisionTreeRegressor\n",
    "df_model = DecisionTreeRegressor(criterion='friedman_mse', max_depth=10, min_samples_split=2,max_features=10,random_state=1)\n",
    "df_model.fit(X_train, y_train)\n",
    "\n",
    "print(df_model.score(X_train, y_train))\n",
    "print(df_model.score(X_test,y_test))"
   ]
  },
  {
   "cell_type": "code",
   "execution_count": null,
   "metadata": {},
   "outputs": [],
   "source": [
    "#Make predictions using predict\n",
    "predictions = df_model.predict(X_test)\n",
    "\n",
    "print('r^2: ', r2_score(y_test, predictions))\n",
    "print(\"MSE: \", mean_squared_error(y_test, predictions))"
   ]
  },
  {
   "cell_type": "markdown",
   "metadata": {},
   "source": [
    "#### Random Forest"
   ]
  },
  {
   "cell_type": "code",
   "execution_count": null,
   "metadata": {},
   "outputs": [],
   "source": [
    "from sklearn.ensemble import RandomForestRegressor\n",
    "rfcl = RandomForestRegressor(max_depth=15, n_estimators = 15)\n",
    "rfcl = rfcl.fit(X_train, y_train)"
   ]
  },
  {
   "cell_type": "code",
   "execution_count": null,
   "metadata": {},
   "outputs": [],
   "source": [
    "# Accuracy of train and test data\n",
    "print(rfcl.score(X_train, y_train))\n",
    "print(rfcl.score(X_test,y_test))"
   ]
  },
  {
   "cell_type": "code",
   "execution_count": null,
   "metadata": {},
   "outputs": [],
   "source": [
    "#Make predictions using predict\n",
    "predictions = rfcl.predict(X_test)\n",
    "\n",
    "print('r^2: ', r2_score(y_test, predictions))\n",
    "print(\"MSE: \", mean_squared_error(y_test, predictions))"
   ]
  },
  {
   "cell_type": "markdown",
   "metadata": {},
   "source": [
    "#### Bagging"
   ]
  },
  {
   "cell_type": "code",
   "execution_count": null,
   "metadata": {},
   "outputs": [],
   "source": [
    "from sklearn.ensemble import BaggingRegressor\n",
    "bgcl = BaggingRegressor(n_estimators=60, max_samples=.4 , oob_score=True)\n",
    "\n",
    "bgcl = bgcl.fit(X, y)\n",
    "print(bgcl.oob_score_)"
   ]
  },
  {
   "cell_type": "markdown",
   "metadata": {},
   "source": [
    "#### Ada Boosting"
   ]
  },
  {
   "cell_type": "code",
   "execution_count": null,
   "metadata": {},
   "outputs": [],
   "source": [
    "from sklearn.ensemble import AdaBoostRegressor\n",
    "abcl = AdaBoostRegressor(base_estimator=rfcl, n_estimators=50)\n",
    "abcl = abcl.fit(X_train, y_train)\n",
    "\n",
    "test_pred = abcl.predict(X_test)\n",
    "print (abcl.score(X_test , y_test))\n",
    "print (abcl.score(X_train , y_train))"
   ]
  },
  {
   "cell_type": "code",
   "execution_count": null,
   "metadata": {},
   "outputs": [],
   "source": [
    "#Make predictions using predict\n",
    "print('r^2: ', r2_score(test_pred, predictions))\n",
    "print(\"MSE: \", mean_squared_error(y_test, predictions))"
   ]
  },
  {
   "cell_type": "markdown",
   "metadata": {},
   "source": [
    "#### Gradient Boost"
   ]
  },
  {
   "cell_type": "code",
   "execution_count": null,
   "metadata": {},
   "outputs": [],
   "source": [
    "from sklearn.ensemble import GradientBoostingRegressor\n",
    "gbcl = GradientBoostingRegressor(n_estimators = 50, learning_rate = 0.09, max_depth=10)\n",
    "gbcl = gbcl.fit(X_train, y_train)\n",
    "\n",
    "# Accuracy of test data\n",
    "print(gbcl.score(X_test , y_test))\n",
    "print(gbcl.score(X_train , y_train))"
   ]
  },
  {
   "cell_type": "code",
   "execution_count": null,
   "metadata": {},
   "outputs": [],
   "source": []
  }
 ],
 "metadata": {
  "kernelspec": {
   "display_name": "Python 3",
   "language": "python",
   "name": "python3"
  },
  "language_info": {
   "codemirror_mode": {
    "name": "ipython",
    "version": 3
   },
   "file_extension": ".py",
   "mimetype": "text/x-python",
   "name": "python",
   "nbconvert_exporter": "python",
   "pygments_lexer": "ipython3",
   "version": "3.7.3"
  }
 },
 "nbformat": 4,
 "nbformat_minor": 2
}
